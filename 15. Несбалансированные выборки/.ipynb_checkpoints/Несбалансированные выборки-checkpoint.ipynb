{
 "cells": [
  {
   "cell_type": "code",
   "execution_count": 4,
   "id": "a8c0d129-2ecb-435d-b9ce-2c753ad2c822",
   "metadata": {},
   "outputs": [],
   "source": [
    "import pandas as pd"
   ]
  },
  {
   "cell_type": "code",
   "execution_count": 5,
   "id": "8f9faa1e-e75d-4eb9-8347-42c486b8270b",
   "metadata": {},
   "outputs": [
    {
     "data": {
      "text/html": [
       "<div>\n",
       "<style scoped>\n",
       "    .dataframe tbody tr th:only-of-type {\n",
       "        vertical-align: middle;\n",
       "    }\n",
       "\n",
       "    .dataframe tbody tr th {\n",
       "        vertical-align: top;\n",
       "    }\n",
       "\n",
       "    .dataframe thead th {\n",
       "        text-align: right;\n",
       "    }\n",
       "</style>\n",
       "<table border=\"1\" class=\"dataframe\">\n",
       "  <thead>\n",
       "    <tr style=\"text-align: right;\">\n",
       "      <th></th>\n",
       "      <th>age</th>\n",
       "      <th>surgery_year</th>\n",
       "      <th>positive_nodes</th>\n",
       "      <th>target</th>\n",
       "    </tr>\n",
       "  </thead>\n",
       "  <tbody>\n",
       "    <tr>\n",
       "      <th>0</th>\n",
       "      <td>30</td>\n",
       "      <td>1964</td>\n",
       "      <td>1</td>\n",
       "      <td>0</td>\n",
       "    </tr>\n",
       "    <tr>\n",
       "      <th>1</th>\n",
       "      <td>30</td>\n",
       "      <td>1962</td>\n",
       "      <td>3</td>\n",
       "      <td>0</td>\n",
       "    </tr>\n",
       "    <tr>\n",
       "      <th>2</th>\n",
       "      <td>30</td>\n",
       "      <td>1965</td>\n",
       "      <td>0</td>\n",
       "      <td>0</td>\n",
       "    </tr>\n",
       "    <tr>\n",
       "      <th>3</th>\n",
       "      <td>31</td>\n",
       "      <td>1959</td>\n",
       "      <td>2</td>\n",
       "      <td>0</td>\n",
       "    </tr>\n",
       "    <tr>\n",
       "      <th>4</th>\n",
       "      <td>31</td>\n",
       "      <td>1965</td>\n",
       "      <td>4</td>\n",
       "      <td>0</td>\n",
       "    </tr>\n",
       "  </tbody>\n",
       "</table>\n",
       "</div>"
      ],
      "text/plain": [
       "   age  surgery_year  positive_nodes  target\n",
       "0   30          1964               1       0\n",
       "1   30          1962               3       0\n",
       "2   30          1965               0       0\n",
       "3   31          1959               2       0\n",
       "4   31          1965               4       0"
      ]
     },
     "execution_count": 5,
     "metadata": {},
     "output_type": "execute_result"
    }
   ],
   "source": [
    "df = pd.read_csv('data.csv')\n",
    "df.head()"
   ]
  },
  {
   "cell_type": "code",
   "execution_count": 6,
   "id": "9f2fda68-24fe-4164-a94a-b8c6e8b48e1d",
   "metadata": {},
   "outputs": [
    {
     "data": {
      "text/plain": [
       "target\n",
       "0    225\n",
       "1     81\n",
       "Name: count, dtype: int64"
      ]
     },
     "execution_count": 6,
     "metadata": {},
     "output_type": "execute_result"
    }
   ],
   "source": [
    "df.target.value_counts()"
   ]
  },
  {
   "cell_type": "code",
   "execution_count": 7,
   "id": "b2cd8548-6306-481f-bf98-6b5521c01101",
   "metadata": {},
   "outputs": [
    {
     "data": {
      "text/plain": [
       "0.36"
      ]
     },
     "execution_count": 7,
     "metadata": {},
     "output_type": "execute_result"
    }
   ],
   "source": [
    "81/225 # степень дисбаланса"
   ]
  },
  {
   "cell_type": "code",
   "execution_count": 8,
   "id": "505a88ee-82da-4587-9933-d52d9c56d562",
   "metadata": {},
   "outputs": [],
   "source": [
    "# отрицательный класс - мажорный, положительный - минорный"
   ]
  },
  {
   "cell_type": "code",
   "execution_count": 9,
   "id": "aa08e9d3-0c91-4c75-9212-f1de7a8057a1",
   "metadata": {},
   "outputs": [],
   "source": [
    "# train_test_split может создать неверные выборки( с разными дисбалансами)"
   ]
  },
  {
   "cell_type": "code",
   "execution_count": 10,
   "id": "b1357f98-ea60-4e93-83bf-4d25ac4ad9ef",
   "metadata": {},
   "outputs": [],
   "source": [
    "# нужно контролировать, чтобы степень дисбаланса в тестовой и обучающей выборках совпадали"
   ]
  },
  {
   "cell_type": "code",
   "execution_count": 11,
   "id": "fc67e657-1aff-41a4-ab41-1421625f9035",
   "metadata": {},
   "outputs": [],
   "source": [
    "from sklearn.model_selection import train_test_split\n",
    "\n",
    "df_train, df_test = train_test_split(df, stratify=df['target'], test_size=0.2, random_state=1)"
   ]
  },
  {
   "cell_type": "code",
   "execution_count": 12,
   "id": "b4005cc2-38a9-4329-beba-5b4c9342bc00",
   "metadata": {},
   "outputs": [],
   "source": [
    "# upsamepling - метод балансировки данных, в котором количество точек данных\n",
    "# минорного класса повышаются до кол-ва точек мажорного класса путем дублирования\n",
    "# точек минорного класса"
   ]
  },
  {
   "cell_type": "code",
   "execution_count": 13,
   "id": "9543815d-cc9f-4f43-84bf-ce87d74e110d",
   "metadata": {},
   "outputs": [
    {
     "name": "stdout",
     "output_type": "stream",
     "text": [
      "(179, 4)\n",
      "(179, 4)\n"
     ]
    }
   ],
   "source": [
    "from sklearn.utils import resample # случайные записи из датасэта\n",
    "\n",
    "df_min = df_train[df_train.target == 1]\n",
    "df_maj = df_train[df_train.target == 0]\n",
    "\n",
    "df_min_upsample = resample(df_min, replace=True, n_samples = len(df_maj), random_state=1) # replace = True - параметр,\n",
    "# говорит о том, что каждую запись датасэжта можно выбирать для апсемплинга больше 1 раза\n",
    "\n",
    "print(df_min_upsample.shape)\n",
    "print(df_maj.shape)"
   ]
  },
  {
   "cell_type": "code",
   "execution_count": 14,
   "id": "488d0a12-2724-4534-a9a7-79b1f43d870c",
   "metadata": {},
   "outputs": [
    {
     "data": {
      "text/html": [
       "<div>\n",
       "<style scoped>\n",
       "    .dataframe tbody tr th:only-of-type {\n",
       "        vertical-align: middle;\n",
       "    }\n",
       "\n",
       "    .dataframe tbody tr th {\n",
       "        vertical-align: top;\n",
       "    }\n",
       "\n",
       "    .dataframe thead th {\n",
       "        text-align: right;\n",
       "    }\n",
       "</style>\n",
       "<table border=\"1\" class=\"dataframe\">\n",
       "  <thead>\n",
       "    <tr style=\"text-align: right;\">\n",
       "      <th></th>\n",
       "      <th>age</th>\n",
       "      <th>surgery_year</th>\n",
       "      <th>positive_nodes</th>\n",
       "      <th>target</th>\n",
       "    </tr>\n",
       "  </thead>\n",
       "  <tbody>\n",
       "    <tr>\n",
       "      <th>270</th>\n",
       "      <td>38</td>\n",
       "      <td>1966</td>\n",
       "      <td>0</td>\n",
       "      <td>0</td>\n",
       "    </tr>\n",
       "    <tr>\n",
       "      <th>208</th>\n",
       "      <td>41</td>\n",
       "      <td>1958</td>\n",
       "      <td>0</td>\n",
       "      <td>0</td>\n",
       "    </tr>\n",
       "    <tr>\n",
       "      <th>255</th>\n",
       "      <td>59</td>\n",
       "      <td>1967</td>\n",
       "      <td>3</td>\n",
       "      <td>0</td>\n",
       "    </tr>\n",
       "    <tr>\n",
       "      <th>39</th>\n",
       "      <td>57</td>\n",
       "      <td>1961</td>\n",
       "      <td>5</td>\n",
       "      <td>1</td>\n",
       "    </tr>\n",
       "    <tr>\n",
       "      <th>89</th>\n",
       "      <td>45</td>\n",
       "      <td>1967</td>\n",
       "      <td>1</td>\n",
       "      <td>1</td>\n",
       "    </tr>\n",
       "    <tr>\n",
       "      <th>...</th>\n",
       "      <td>...</td>\n",
       "      <td>...</td>\n",
       "      <td>...</td>\n",
       "      <td>...</td>\n",
       "    </tr>\n",
       "    <tr>\n",
       "      <th>323</th>\n",
       "      <td>64</td>\n",
       "      <td>1958</td>\n",
       "      <td>0</td>\n",
       "      <td>0</td>\n",
       "    </tr>\n",
       "    <tr>\n",
       "      <th>234</th>\n",
       "      <td>39</td>\n",
       "      <td>1959</td>\n",
       "      <td>2</td>\n",
       "      <td>0</td>\n",
       "    </tr>\n",
       "    <tr>\n",
       "      <th>254</th>\n",
       "      <td>43</td>\n",
       "      <td>1966</td>\n",
       "      <td>4</td>\n",
       "      <td>0</td>\n",
       "    </tr>\n",
       "    <tr>\n",
       "      <th>87</th>\n",
       "      <td>60</td>\n",
       "      <td>1965</td>\n",
       "      <td>0</td>\n",
       "      <td>1</td>\n",
       "    </tr>\n",
       "    <tr>\n",
       "      <th>269</th>\n",
       "      <td>43</td>\n",
       "      <td>1964</td>\n",
       "      <td>3</td>\n",
       "      <td>0</td>\n",
       "    </tr>\n",
       "  </tbody>\n",
       "</table>\n",
       "<p>358 rows × 4 columns</p>\n",
       "</div>"
      ],
      "text/plain": [
       "     age  surgery_year  positive_nodes  target\n",
       "270   38          1966               0       0\n",
       "208   41          1958               0       0\n",
       "255   59          1967               3       0\n",
       "39    57          1961               5       1\n",
       "89    45          1967               1       1\n",
       "..   ...           ...             ...     ...\n",
       "323   64          1958               0       0\n",
       "234   39          1959               2       0\n",
       "254   43          1966               4       0\n",
       "87    60          1965               0       1\n",
       "269   43          1964               3       0\n",
       "\n",
       "[358 rows x 4 columns]"
      ]
     },
     "execution_count": 14,
     "metadata": {},
     "output_type": "execute_result"
    }
   ],
   "source": [
    "df_1 = pd.concat([df_min_upsample, df_maj], ignore_index=True).sample(frac=1.)\n",
    "df_1"
   ]
  },
  {
   "cell_type": "code",
   "execution_count": 15,
   "id": "06bbe6cf-a7cc-4b66-8490-8f80d75b13c3",
   "metadata": {},
   "outputs": [
    {
     "name": "stdout",
     "output_type": "stream",
     "text": [
      "0.5747282608695652\n"
     ]
    }
   ],
   "source": [
    "from sklearn.ensemble import RandomForestClassifier\n",
    "from sklearn.metrics import roc_auc_score\n",
    "\n",
    "features = ['age', 'surgery_year', 'positive_nodes']\n",
    "target = 'target'\n",
    "\n",
    "X_train, y_train = df_1[features], df_1[target]\n",
    "model = RandomForestClassifier(n_estimators=10, max_depth=3, random_state=1)\n",
    "model.fit(X_train, y_train)\n",
    "\n",
    "X_test, y_test = df_test[features], df_test[target]\n",
    "print(roc_auc_score(y_test, model.predict_proba(X_test)[:,1]))"
   ]
  },
  {
   "cell_type": "code",
   "execution_count": 16,
   "id": "8658bbec-5a26-4c36-a9da-d54619a808c5",
   "metadata": {},
   "outputs": [],
   "source": [
    "# downsampling - уменьше кол-ва точек мажорного класса до минорного"
   ]
  },
  {
   "cell_type": "code",
   "execution_count": 17,
   "id": "9b5c0ba5-fdd7-4ad9-809f-6a5260aeef85",
   "metadata": {},
   "outputs": [
    {
     "name": "stdout",
     "output_type": "stream",
     "text": [
      "(65, 4)\n",
      "(65, 4)\n"
     ]
    }
   ],
   "source": [
    "df_maj_downsample = resample(df_maj, replace=False, n_samples = len(df_min), random_state=1) # replace = False - параметр,\n",
    "# говорит о том, что каждую запись датасэжта нельзя выбирать для апсемплинга больше 1 раза\n",
    "\n",
    "print(df_maj_downsample.shape)\n",
    "print(df_min.shape)"
   ]
  },
  {
   "cell_type": "code",
   "execution_count": 18,
   "id": "6077ca85-bc67-4d81-89c1-eb69f448d588",
   "metadata": {},
   "outputs": [
    {
     "data": {
      "text/html": [
       "<div>\n",
       "<style scoped>\n",
       "    .dataframe tbody tr th:only-of-type {\n",
       "        vertical-align: middle;\n",
       "    }\n",
       "\n",
       "    .dataframe tbody tr th {\n",
       "        vertical-align: top;\n",
       "    }\n",
       "\n",
       "    .dataframe thead th {\n",
       "        text-align: right;\n",
       "    }\n",
       "</style>\n",
       "<table border=\"1\" class=\"dataframe\">\n",
       "  <thead>\n",
       "    <tr style=\"text-align: right;\">\n",
       "      <th></th>\n",
       "      <th>age</th>\n",
       "      <th>surgery_year</th>\n",
       "      <th>positive_nodes</th>\n",
       "      <th>target</th>\n",
       "    </tr>\n",
       "  </thead>\n",
       "  <tbody>\n",
       "    <tr>\n",
       "      <th>34</th>\n",
       "      <td>73</td>\n",
       "      <td>1962</td>\n",
       "      <td>0</td>\n",
       "      <td>0</td>\n",
       "    </tr>\n",
       "    <tr>\n",
       "      <th>121</th>\n",
       "      <td>48</td>\n",
       "      <td>1958</td>\n",
       "      <td>11</td>\n",
       "      <td>1</td>\n",
       "    </tr>\n",
       "    <tr>\n",
       "      <th>51</th>\n",
       "      <td>60</td>\n",
       "      <td>1967</td>\n",
       "      <td>2</td>\n",
       "      <td>0</td>\n",
       "    </tr>\n",
       "    <tr>\n",
       "      <th>120</th>\n",
       "      <td>57</td>\n",
       "      <td>1964</td>\n",
       "      <td>1</td>\n",
       "      <td>1</td>\n",
       "    </tr>\n",
       "    <tr>\n",
       "      <th>97</th>\n",
       "      <td>63</td>\n",
       "      <td>1960</td>\n",
       "      <td>1</td>\n",
       "      <td>1</td>\n",
       "    </tr>\n",
       "    <tr>\n",
       "      <th>...</th>\n",
       "      <td>...</td>\n",
       "      <td>...</td>\n",
       "      <td>...</td>\n",
       "      <td>...</td>\n",
       "    </tr>\n",
       "    <tr>\n",
       "      <th>69</th>\n",
       "      <td>70</td>\n",
       "      <td>1958</td>\n",
       "      <td>4</td>\n",
       "      <td>1</td>\n",
       "    </tr>\n",
       "    <tr>\n",
       "      <th>44</th>\n",
       "      <td>42</td>\n",
       "      <td>1959</td>\n",
       "      <td>2</td>\n",
       "      <td>0</td>\n",
       "    </tr>\n",
       "    <tr>\n",
       "      <th>57</th>\n",
       "      <td>54</td>\n",
       "      <td>1959</td>\n",
       "      <td>7</td>\n",
       "      <td>0</td>\n",
       "    </tr>\n",
       "    <tr>\n",
       "      <th>126</th>\n",
       "      <td>56</td>\n",
       "      <td>1965</td>\n",
       "      <td>9</td>\n",
       "      <td>1</td>\n",
       "    </tr>\n",
       "    <tr>\n",
       "      <th>111</th>\n",
       "      <td>38</td>\n",
       "      <td>1969</td>\n",
       "      <td>21</td>\n",
       "      <td>1</td>\n",
       "    </tr>\n",
       "  </tbody>\n",
       "</table>\n",
       "<p>130 rows × 4 columns</p>\n",
       "</div>"
      ],
      "text/plain": [
       "     age  surgery_year  positive_nodes  target\n",
       "34    73          1962               0       0\n",
       "121   48          1958              11       1\n",
       "51    60          1967               2       0\n",
       "120   57          1964               1       1\n",
       "97    63          1960               1       1\n",
       "..   ...           ...             ...     ...\n",
       "69    70          1958               4       1\n",
       "44    42          1959               2       0\n",
       "57    54          1959               7       0\n",
       "126   56          1965               9       1\n",
       "111   38          1969              21       1\n",
       "\n",
       "[130 rows x 4 columns]"
      ]
     },
     "execution_count": 18,
     "metadata": {},
     "output_type": "execute_result"
    }
   ],
   "source": [
    "df_2 = pd.concat([df_maj_downsample, df_min], ignore_index=True).sample(frac=1.)\n",
    "df_2"
   ]
  },
  {
   "cell_type": "code",
   "execution_count": 19,
   "id": "c9ae1685-2fa0-47e6-9cb8-85d28884f364",
   "metadata": {},
   "outputs": [
    {
     "name": "stdout",
     "output_type": "stream",
     "text": [
      "0.5536684782608695\n"
     ]
    }
   ],
   "source": [
    "X_train, y_train = df_2[features], df_2[target]\n",
    "model = RandomForestClassifier(n_estimators=10, max_depth=3, random_state=1)\n",
    "model.fit(X_train, y_train)\n",
    "\n",
    "X_test, y_test = df_test[features], df_test[target]\n",
    "print(roc_auc_score(y_test, model.predict_proba(X_test)[:,1]))"
   ]
  },
  {
   "cell_type": "code",
   "execution_count": 20,
   "id": "784281df-0976-441a-a03a-cad0049e73d9",
   "metadata": {},
   "outputs": [],
   "source": [
    "# upsampling - мы не добавляем новых данных, а прост копируем существующие\n",
    "# поэтому, этим способом пользуется, когда дисбаланс не большой.\n",
    "\n",
    "# при downsampling - мы выбрасываем часть данных, и распределение мажорного класса\n",
    "# меняется. иногда становится лучше, иногда хуже ( на тестовых мб норм, а на реальных -\n",
    "# -- намного хуже) из-за того, что в рез-те downsampling изменилось распределение\n",
    "# обучающих и тестовых данных.\n",
    "\n",
    "#  В итоге: этими способами пользуются на большом кол-ве данных и с низкой степенью\n",
    "# дисбаланса. Тогда эти методы не сильно изменят распределение данных."
   ]
  },
  {
   "cell_type": "code",
   "execution_count": 21,
   "id": "a50b3f51-f74c-4841-b1f5-dc7a309e2a62",
   "metadata": {},
   "outputs": [
    {
     "name": "stdout",
     "output_type": "stream",
     "text": [
      "Requirement already satisfied: imbalanced-learn in c:\\anaconda3\\lib\\site-packages (0.13.0)\n",
      "Requirement already satisfied: numpy<3,>=1.24.3 in c:\\anaconda3\\lib\\site-packages (from imbalanced-learn) (1.26.4)\n",
      "Requirement already satisfied: scipy<2,>=1.10.1 in c:\\anaconda3\\lib\\site-packages (from imbalanced-learn) (1.14.0)\n",
      "Requirement already satisfied: scikit-learn<2,>=1.3.2 in c:\\anaconda3\\lib\\site-packages (from imbalanced-learn) (1.5.1)\n",
      "Requirement already satisfied: sklearn-compat<1,>=0.1 in c:\\anaconda3\\lib\\site-packages (from imbalanced-learn) (0.1.3)\n",
      "Requirement already satisfied: joblib<2,>=1.1.1 in c:\\anaconda3\\lib\\site-packages (from imbalanced-learn) (1.4.2)\n",
      "Requirement already satisfied: threadpoolctl<4,>=2.0.0 in c:\\anaconda3\\lib\\site-packages (from imbalanced-learn) (3.5.0)\n"
     ]
    }
   ],
   "source": [
    "!pip install imbalanced-learn"
   ]
  },
  {
   "cell_type": "code",
   "execution_count": 22,
   "id": "61049ab6-fb0e-4f0f-82bf-e27cbdd5ae60",
   "metadata": {},
   "outputs": [
    {
     "data": {
      "text/plain": [
       "(244, 4)"
      ]
     },
     "execution_count": 22,
     "metadata": {},
     "output_type": "execute_result"
    }
   ],
   "source": [
    "df_train.shape"
   ]
  },
  {
   "cell_type": "code",
   "execution_count": 23,
   "id": "c5025e2b-22ab-4372-8e7c-d5e2f8d441ba",
   "metadata": {},
   "outputs": [
    {
     "data": {
      "text/plain": [
       "(62, 4)"
      ]
     },
     "execution_count": 23,
     "metadata": {},
     "output_type": "execute_result"
    }
   ],
   "source": [
    "df_test.shape"
   ]
  },
  {
   "cell_type": "code",
   "execution_count": 24,
   "id": "5fee7180-95c2-49f8-8801-75afc9abf104",
   "metadata": {},
   "outputs": [],
   "source": [
    "from imblearn.over_sampling import SMOTE"
   ]
  },
  {
   "cell_type": "code",
   "execution_count": 25,
   "id": "af2604bd-a3b2-4a32-bd25-ecb248d85900",
   "metadata": {},
   "outputs": [],
   "source": [
    "os = SMOTE(random_state=1, k_neighbors=2)\n",
    "\n",
    "features = ['age', 'surgery_year', 'positive_nodes']\n",
    "target = 'target'\n",
    "\n",
    "X_train, y_train = os.fit_resample(df_train[features], df_train[target])"
   ]
  },
  {
   "cell_type": "code",
   "execution_count": 26,
   "id": "4f3165c7-49d8-40cf-a8a8-2a5674fa19a6",
   "metadata": {},
   "outputs": [
    {
     "data": {
      "text/plain": [
       "target\n",
       "0    179\n",
       "1    179\n",
       "Name: count, dtype: int64"
      ]
     },
     "execution_count": 26,
     "metadata": {},
     "output_type": "execute_result"
    }
   ],
   "source": [
    "y_train.value_counts()"
   ]
  },
  {
   "cell_type": "code",
   "execution_count": 27,
   "id": "8d746d31-6487-453a-9f76-25a8f7db98a5",
   "metadata": {},
   "outputs": [
    {
     "name": "stdout",
     "output_type": "stream",
     "text": [
      "0.6222826086956521\n"
     ]
    }
   ],
   "source": [
    "model = RandomForestClassifier(n_estimators=10, max_depth=3, random_state=1)\n",
    "model.fit(X_train, y_train)\n",
    "\n",
    "X_test, y_test = df_test[features], df_test[target]\n",
    "print(roc_auc_score(y_test, model.predict_proba(X_test)[:,1]))"
   ]
  },
  {
   "cell_type": "code",
   "execution_count": 28,
   "id": "1e0d65e0-4e1e-4496-9f1e-97781c47536e",
   "metadata": {},
   "outputs": [
    {
     "data": {
      "text/plain": [
       "(179, 4)"
      ]
     },
     "execution_count": 28,
     "metadata": {},
     "output_type": "execute_result"
    }
   ],
   "source": [
    "df_train[df_train['target'] == 0].shape"
   ]
  },
  {
   "cell_type": "code",
   "execution_count": 29,
   "id": "18ab36a9-38af-417e-895d-9d4a2ec34e7f",
   "metadata": {},
   "outputs": [
    {
     "data": {
      "text/plain": [
       "(65, 4)"
      ]
     },
     "execution_count": 29,
     "metadata": {},
     "output_type": "execute_result"
    }
   ],
   "source": [
    "df_train[df_train['target'] == 1].shape"
   ]
  },
  {
   "cell_type": "code",
   "execution_count": 36,
   "id": "dc89c135-51ac-46de-97e7-1930669ae018",
   "metadata": {},
   "outputs": [],
   "source": [
    "class_weights = {\n",
    "    0:1,\n",
    "    1:(df_train[df_train['target'] == 0].shape[0] / df_train[df_train['target'] == 1].shape[0])**3\n",
    "}"
   ]
  },
  {
   "cell_type": "code",
   "execution_count": 37,
   "id": "f1992b2b-36f2-47fe-8df4-c9619aeab044",
   "metadata": {},
   "outputs": [
    {
     "name": "stdout",
     "output_type": "stream",
     "text": [
      "0.6535326086956522\n"
     ]
    }
   ],
   "source": [
    "features = ['age', 'surgery_year', 'positive_nodes']\n",
    "target = 'target'\n",
    "\n",
    "X_train, y_train = df_train[features], df_train[target]\n",
    "\n",
    "model = RandomForestClassifier(n_estimators=10, max_depth=3, random_state=1, class_weight=class_weights)\n",
    "\n",
    "model.fit(X_train, y_train)\n",
    "\n",
    "X_test, y_test = df_test[features], df_test[target]\n",
    "print(roc_auc_score(y_test, model.predict_proba(X_test)[:,1]))"
   ]
  },
  {
   "cell_type": "code",
   "execution_count": 34,
   "id": "896e4d13-5e5b-43e0-92e5-d712037ae98c",
   "metadata": {},
   "outputs": [],
   "source": [
    "# получилось хуэе, надо пересчитать class_weight через sklearn"
   ]
  },
  {
   "cell_type": "code",
   "execution_count": 53,
   "id": "a53999b6-a98a-495e-9f36-219095d76a15",
   "metadata": {},
   "outputs": [
    {
     "name": "stdout",
     "output_type": "stream",
     "text": [
      "0.5390123456790124\n",
      "0.6222222222222221\n",
      "0.7066666666666667\n"
     ]
    }
   ],
   "source": [
    "from sklearn.model_selection import StratifiedKFold\n",
    "\n",
    "kf = StratifiedKFold(n_splits=3, shuffle=True, random_state=1)\n",
    "\n",
    "models = []\n",
    "metrics = []\n",
    "\n",
    "features = ['age', 'surgery_year', 'positive_nodes']\n",
    "target = 'target'\n",
    "X, y = df[features], df[target]\n",
    "\n",
    "for train_index, test_index in kf.split(X, y):\n",
    "  X_train, y_train = X.values[train_index], y.values[train_index]\n",
    "  X_test, y_test = X.values[test_index], y.values[test_index]\n",
    "\n",
    "  model = RandomForestClassifier(n_estimators=10, max_depth=3, random_state=1, class_weight='balanced')\n",
    "\n",
    "  model.fit(X_train, y_train)\n",
    "  score = roc_auc_score(y_test, model.predict_proba(X_test)[:, 1])\n",
    "  print(score)\n",
    "\n",
    "  models.append(model)\n",
    "  metrics.append(score)"
   ]
  },
  {
   "cell_type": "code",
   "execution_count": 54,
   "id": "0c268d41-cc8d-49a2-82fa-969d87fe0890",
   "metadata": {},
   "outputs": [
    {
     "data": {
      "text/plain": [
       "0.622633744855967"
      ]
     },
     "execution_count": 54,
     "metadata": {},
     "output_type": "execute_result"
    }
   ],
   "source": [
    "sum(metrics) / len(metrics)"
   ]
  },
  {
   "cell_type": "code",
   "execution_count": 55,
   "id": "53e201e2-1e13-4e49-ac2d-024094668547",
   "metadata": {},
   "outputs": [
    {
     "data": {
      "text/plain": [
       "[RandomForestClassifier(class_weight='balanced', max_depth=3, n_estimators=10,\n",
       "                        random_state=1),\n",
       " RandomForestClassifier(class_weight='balanced', max_depth=3, n_estimators=10,\n",
       "                        random_state=1),\n",
       " RandomForestClassifier(class_weight='balanced', max_depth=3, n_estimators=10,\n",
       "                        random_state=1)]"
      ]
     },
     "execution_count": 55,
     "metadata": {},
     "output_type": "execute_result"
    }
   ],
   "source": [
    "models"
   ]
  },
  {
   "cell_type": "code",
   "execution_count": null,
   "id": "81f782ed-2f8f-428b-8df4-daacd2829912",
   "metadata": {},
   "outputs": [],
   "source": []
  }
 ],
 "metadata": {
  "kernelspec": {
   "display_name": "Python 3 (ipykernel)",
   "language": "python",
   "name": "python3"
  },
  "language_info": {
   "codemirror_mode": {
    "name": "ipython",
    "version": 3
   },
   "file_extension": ".py",
   "mimetype": "text/x-python",
   "name": "python",
   "nbconvert_exporter": "python",
   "pygments_lexer": "ipython3",
   "version": "3.11.7"
  }
 },
 "nbformat": 4,
 "nbformat_minor": 5
}
