{
 "cells": [
  {
   "cell_type": "markdown",
   "metadata": {
    "id": "4tc7YC6O8Ev1"
   },
   "source": [
    "# Линейные модели и нейронные сети. Практическая работа"
   ]
  },
  {
   "cell_type": "markdown",
   "metadata": {
    "id": "vSt7qQM58QEB"
   },
   "source": [
    "В этой практической работе пять обязательных задач.\n",
    "\n",
    "Они помогут понять, что вы действительно усвоили материал модуля. \n",
    "\n",
    "Удачи!"
   ]
  },
  {
   "cell_type": "markdown",
   "metadata": {
    "id": "WwzP6BdQ8jbE"
   },
   "source": [
    "## Цели практической работы\n",
    "Потренироваться в обучении модели:\n",
    "- линейной регрессии;\n",
    "- логистической регрессии; \n",
    "- многослойного персептрона."
   ]
  },
  {
   "cell_type": "markdown",
   "metadata": {
    "id": "c4a1bdf2"
   },
   "source": [
    "## Что входит в практическую работу\n",
    "\n",
    "1. Загрузите датасет и ознакомьтесь с ним.\n",
    "2. Обучите линейную регрессию, включая признаки с нулевым весом и без них. Замерьте качество.\n",
    "3. Обучите случайный лес. Замерьте качество.\n",
    "4. Обучите многослойный перцептрон. Замерьте качество.\n",
    "5. Реализуйте стратегию голосования. Замерьте качество."
   ]
  },
  {
   "cell_type": "markdown",
   "metadata": {
    "id": "nPwfq2fISXIk"
   },
   "source": [
    "## Что оценивается\n",
    "\n",
    "* Выполнены все задания. В каждом:\n",
    " * в коде нет ручных перечислений, все действия автоматизированы;\n",
    " * результаты вычислений и применённых операций корректны;\n",
    " * ответы на вопросы, где требуется, корректны и обоснованы; \n",
    " * код читабелен: переменным даны осмысленные названия, соблюдены отступы и правила расстановки пробелов. Стилизация кода соответствует рекомендациям [PEP 8](https://pythonworld.ru/osnovy/pep-8-rukovodstvo-po-napisaniyu-koda-na-python.html).\n",
    " \n",
    "* Репозиторий проекта оформлен корректно:\n",
    " * содержит осмысленные коммиты, содержащие конкретные реализованные фичи;\n",
    " * ветки названы согласно назначению;\n",
    " * файлы, не связанные с проектом, не хранятся в репозитории."
   ]
  },
  {
   "cell_type": "markdown",
   "metadata": {
    "id": "IP-cDDXr-WD0"
   },
   "source": [
    "## Как отправить работу на проверку\n",
    "\n",
    "Сдайте практическую работу этого модуля через систему контроля версий Git сервиса Skillbox GitLab. После загрузки работы на проверку напишите об этом в личном кабинете своему куратору."
   ]
  },
  {
   "cell_type": "markdown",
   "metadata": {
    "id": "dH3j5hM1qCUw"
   },
   "source": [
    "## Задача\n",
    "\n",
    "Постройте модель классификации, определяющую категорию цены / цену подержанного автомобиля в зависимости от характеристик транспортного средства. \n",
    "\n",
    "Используйте датасет из коллекции подержанных автомобилей, выставленных на продажу в Соединенных Штатах. Он уже подготовлен, без выбросов и с категориальными фичами, преобразованными с помощью one hot encoding, и количественными фичами, стандартизированными с помощью скейлеров."
   ]
  },
  {
   "cell_type": "markdown",
   "metadata": {
    "id": "jKgw4zyS8uOJ"
   },
   "source": [
    "### Описание датасета:\n",
    "- `id`— идентификатор записи;\n",
    "- `is_manufacturer_name`— признак производителя автомобиля;\n",
    "\n",
    "- `region_*`— регион;\n",
    "- `x0_*`— тип топлива;\n",
    "- `manufacturer_*`— производитель;\n",
    "- `short_model_*`— сокращённая модель автомобиля;\n",
    "- `title_status_*`— статус;\n",
    "- `transmission_*`— коробка передач;\n",
    "- `state_*`— штат;\n",
    "- `age_category_*`— возрастная категория автомобиля;\n",
    "\n",
    "- `std_scaled_odometer`— количество пройденных миль (после стандартизации);\n",
    "- `year_std`— год выпуска (после стандартизации);\n",
    "- `lat_std`— широта (после стандартизации);\n",
    "- `long_std`— долгота (после стандартизации);\n",
    "- `odometer/price_std`— отношение стоимости к пробегу автомобиля (после стандартизации);\n",
    "- `desc_len_std`— количество символов в тексте объявления о продаже (после стандартизации);\n",
    "- `model_in_desc_std`— количество наименований модели автомобиля в тексте объявления о продаже (после стандартизации);\n",
    "- `model_len_std`— длина наименования автомобиля (после стандартизации);\n",
    "- `model_word_count_std`— количество слов в наименовании автомобиля (после стандартизации);\n",
    "- `month_std`— номер месяца размещения объявления о продаже автомобиля (после стандартизации);\n",
    "- `dayofweek_std`— день недели размещения объявления о продаже автомобиля (после стандартизации);\n",
    "- `diff_years_std`— количество лет между годом производства автомобиля и годом размещения объявления о продаже автомобиля (после стандартизации);\n",
    "- `price`— стоимость;\n",
    "- `price_category`— категория цены."
   ]
  },
  {
   "cell_type": "markdown",
   "metadata": {
    "id": "f8cwJq0l8oyM"
   },
   "source": [
    "## Обязательные задачи"
   ]
  },
  {
   "cell_type": "code",
   "execution_count": 35,
   "metadata": {
    "id": "k-oAmtZi9R8U"
   },
   "outputs": [],
   "source": [
    "import matplotlib.pyplot as plt\n",
    "import pandas as pd\n",
    "\n",
    "from sklearn.ensemble import RandomForestClassifier\n",
    "from sklearn.linear_model import LogisticRegression, LinearRegression\n",
    "from sklearn.metrics import accuracy_score, confusion_matrix, mean_absolute_error\n",
    "from sklearn.model_selection import train_test_split \n",
    "from sklearn.neural_network import MLPClassifier"
   ]
  },
  {
   "cell_type": "code",
   "execution_count": 2,
   "metadata": {
    "colab": {
     "base_uri": "https://localhost:8080/",
     "height": 299
    },
    "id": "a4gi-XV1Jkwc",
    "outputId": "3ba30067-9c82-4b3b-aec1-80b22491ba33"
   },
   "outputs": [
    {
     "data": {
      "text/html": [
       "<div>\n",
       "<style scoped>\n",
       "    .dataframe tbody tr th:only-of-type {\n",
       "        vertical-align: middle;\n",
       "    }\n",
       "\n",
       "    .dataframe tbody tr th {\n",
       "        vertical-align: top;\n",
       "    }\n",
       "\n",
       "    .dataframe thead th {\n",
       "        text-align: right;\n",
       "    }\n",
       "</style>\n",
       "<table border=\"1\" class=\"dataframe\">\n",
       "  <thead>\n",
       "    <tr style=\"text-align: right;\">\n",
       "      <th></th>\n",
       "      <th>id</th>\n",
       "      <th>price</th>\n",
       "      <th>price_category</th>\n",
       "      <th>is_audi</th>\n",
       "      <th>is_ford</th>\n",
       "      <th>is_chevrolet</th>\n",
       "      <th>is_toyota</th>\n",
       "      <th>x0_diesel</th>\n",
       "      <th>x0_electric</th>\n",
       "      <th>x0_gas</th>\n",
       "      <th>...</th>\n",
       "      <th>long_std</th>\n",
       "      <th>year_std</th>\n",
       "      <th>odometer/price_std</th>\n",
       "      <th>desc_len_std</th>\n",
       "      <th>model_in_desc_std</th>\n",
       "      <th>model_len_std</th>\n",
       "      <th>model_word_count_std</th>\n",
       "      <th>month_std</th>\n",
       "      <th>dayofweek_std</th>\n",
       "      <th>diff_years_std</th>\n",
       "    </tr>\n",
       "  </thead>\n",
       "  <tbody>\n",
       "    <tr>\n",
       "      <th>0</th>\n",
       "      <td>7308295377</td>\n",
       "      <td>54990</td>\n",
       "      <td>high</td>\n",
       "      <td>0</td>\n",
       "      <td>0</td>\n",
       "      <td>0</td>\n",
       "      <td>0</td>\n",
       "      <td>1.0</td>\n",
       "      <td>0.0</td>\n",
       "      <td>0.0</td>\n",
       "      <td>...</td>\n",
       "      <td>0.484245</td>\n",
       "      <td>1.322394</td>\n",
       "      <td>-0.510784</td>\n",
       "      <td>0.632075</td>\n",
       "      <td>-0.155788</td>\n",
       "      <td>1.163032</td>\n",
       "      <td>1.910669</td>\n",
       "      <td>-0.615846</td>\n",
       "      <td>1.120284</td>\n",
       "      <td>-1.322394</td>\n",
       "    </tr>\n",
       "    <tr>\n",
       "      <th>1</th>\n",
       "      <td>7316380095</td>\n",
       "      <td>16942</td>\n",
       "      <td>medium</td>\n",
       "      <td>0</td>\n",
       "      <td>1</td>\n",
       "      <td>0</td>\n",
       "      <td>0</td>\n",
       "      <td>0.0</td>\n",
       "      <td>0.0</td>\n",
       "      <td>0.0</td>\n",
       "      <td>...</td>\n",
       "      <td>1.110800</td>\n",
       "      <td>0.695973</td>\n",
       "      <td>-0.402947</td>\n",
       "      <td>-0.646781</td>\n",
       "      <td>-0.155788</td>\n",
       "      <td>0.932087</td>\n",
       "      <td>1.235799</td>\n",
       "      <td>1.623784</td>\n",
       "      <td>-1.374972</td>\n",
       "      <td>-0.695973</td>\n",
       "    </tr>\n",
       "    <tr>\n",
       "      <th>2</th>\n",
       "      <td>7313733749</td>\n",
       "      <td>35590</td>\n",
       "      <td>high</td>\n",
       "      <td>0</td>\n",
       "      <td>0</td>\n",
       "      <td>0</td>\n",
       "      <td>0</td>\n",
       "      <td>0.0</td>\n",
       "      <td>0.0</td>\n",
       "      <td>1.0</td>\n",
       "      <td>...</td>\n",
       "      <td>0.531185</td>\n",
       "      <td>0.852578</td>\n",
       "      <td>-0.514480</td>\n",
       "      <td>0.560744</td>\n",
       "      <td>-0.155788</td>\n",
       "      <td>0.470197</td>\n",
       "      <td>0.560930</td>\n",
       "      <td>-0.615846</td>\n",
       "      <td>-0.376870</td>\n",
       "      <td>-0.852578</td>\n",
       "    </tr>\n",
       "    <tr>\n",
       "      <th>3</th>\n",
       "      <td>7308210929</td>\n",
       "      <td>14500</td>\n",
       "      <td>medium</td>\n",
       "      <td>0</td>\n",
       "      <td>0</td>\n",
       "      <td>0</td>\n",
       "      <td>1</td>\n",
       "      <td>0.0</td>\n",
       "      <td>0.0</td>\n",
       "      <td>1.0</td>\n",
       "      <td>...</td>\n",
       "      <td>0.853562</td>\n",
       "      <td>0.226157</td>\n",
       "      <td>-0.241883</td>\n",
       "      <td>0.180435</td>\n",
       "      <td>-0.155788</td>\n",
       "      <td>-0.915473</td>\n",
       "      <td>-0.788810</td>\n",
       "      <td>-0.615846</td>\n",
       "      <td>1.120284</td>\n",
       "      <td>-0.226157</td>\n",
       "    </tr>\n",
       "    <tr>\n",
       "      <th>4</th>\n",
       "      <td>7303797340</td>\n",
       "      <td>14590</td>\n",
       "      <td>medium</td>\n",
       "      <td>0</td>\n",
       "      <td>0</td>\n",
       "      <td>0</td>\n",
       "      <td>0</td>\n",
       "      <td>0.0</td>\n",
       "      <td>0.0</td>\n",
       "      <td>0.0</td>\n",
       "      <td>...</td>\n",
       "      <td>0.557607</td>\n",
       "      <td>0.069552</td>\n",
       "      <td>-0.333074</td>\n",
       "      <td>0.766366</td>\n",
       "      <td>-0.155788</td>\n",
       "      <td>1.163032</td>\n",
       "      <td>1.910669</td>\n",
       "      <td>-0.615846</td>\n",
       "      <td>0.122182</td>\n",
       "      <td>-0.069552</td>\n",
       "    </tr>\n",
       "  </tbody>\n",
       "</table>\n",
       "<p>5 rows × 1463 columns</p>\n",
       "</div>"
      ],
      "text/plain": [
       "           id  price price_category  is_audi  is_ford  is_chevrolet  \\\n",
       "0  7308295377  54990           high        0        0             0   \n",
       "1  7316380095  16942         medium        0        1             0   \n",
       "2  7313733749  35590           high        0        0             0   \n",
       "3  7308210929  14500         medium        0        0             0   \n",
       "4  7303797340  14590         medium        0        0             0   \n",
       "\n",
       "   is_toyota  x0_diesel  x0_electric  x0_gas  ...  long_std  year_std  \\\n",
       "0          0        1.0          0.0     0.0  ...  0.484245  1.322394   \n",
       "1          0        0.0          0.0     0.0  ...  1.110800  0.695973   \n",
       "2          0        0.0          0.0     1.0  ...  0.531185  0.852578   \n",
       "3          1        0.0          0.0     1.0  ...  0.853562  0.226157   \n",
       "4          0        0.0          0.0     0.0  ...  0.557607  0.069552   \n",
       "\n",
       "   odometer/price_std  desc_len_std  model_in_desc_std  model_len_std  \\\n",
       "0           -0.510784      0.632075          -0.155788       1.163032   \n",
       "1           -0.402947     -0.646781          -0.155788       0.932087   \n",
       "2           -0.514480      0.560744          -0.155788       0.470197   \n",
       "3           -0.241883      0.180435          -0.155788      -0.915473   \n",
       "4           -0.333074      0.766366          -0.155788       1.163032   \n",
       "\n",
       "   model_word_count_std  month_std  dayofweek_std  diff_years_std  \n",
       "0              1.910669  -0.615846       1.120284       -1.322394  \n",
       "1              1.235799   1.623784      -1.374972       -0.695973  \n",
       "2              0.560930  -0.615846      -0.376870       -0.852578  \n",
       "3             -0.788810  -0.615846       1.120284       -0.226157  \n",
       "4              1.910669  -0.615846       0.122182       -0.069552  \n",
       "\n",
       "[5 rows x 1463 columns]"
      ]
     },
     "execution_count": 2,
     "metadata": {},
     "output_type": "execute_result"
    }
   ],
   "source": [
    "df = pd.read_csv('data/vehicles_dataset_prepared.csv')\n",
    "df.head()"
   ]
  },
  {
   "cell_type": "markdown",
   "metadata": {
    "id": "VMmY9Xa-JdRj"
   },
   "source": [
    "**Задача 1. Линейная регрессия**\n",
    "\n",
    "Вспомните задачу по предсказанию стоимости подержанного автомобиля. Попробуйте обучить модель линейной регрессии для предсказания цены автомобиля (колонка `price`). Для этого сделайте шаги:\n",
    "\n",
    "- подготовьте данные: удалите колонки, которые косвенно содержат информацию о целевой переменной (`odometer/price_std`, `price_category`);\n",
    "- разделите выборку на треин и тест в отношении 70/30;\n",
    "- обучите модель линейной регрессии с дефолтными параметрами;\n",
    "- посчитайте значение метрики mae на тестовой выборке для линейной регрессии;\n",
    "- выведите получившиеся коэффициенты линейной регрессии при каждом параметре обучающей выборки с помощью метода `coef_` (есть ли коэффициенты, которые равны нулю? Если есть, выведите названия фичей с нулевым коэффициентом);\n",
    "- удалите фичи, коэффициенты которых равны нулю; переобучите модель; убедитесь, что значение метрики не изменилось.\n",
    "\n"
   ]
  },
  {
   "cell_type": "code",
   "execution_count": 83,
   "metadata": {
    "id": "i1tH2p0nopsf"
   },
   "outputs": [
    {
     "name": "stdout",
     "output_type": "stream",
     "text": [
      "4600.341108724049\n"
     ]
    }
   ],
   "source": [
    "# Ваш код здесь\n",
    "df_new = df.drop(['odometer/price_std','price_category'], axis = 1)\n",
    "\n",
    "x = df_new.drop(['price'], axis = 1)\n",
    "y = df_new.price\n",
    "x_train,x_test,y_train,y_test = train_test_split(x,y,random_state=42,test_size=0.3)\n",
    "\n",
    "lr = LinearRegression()\n",
    "lr.fit(x_train,y_train)\n",
    "pred = lr.predict(x_test)\n",
    "\n",
    "print(mean_absolute_error(y_test, pred))"
   ]
  },
  {
   "cell_type": "code",
   "execution_count": 84,
   "metadata": {},
   "outputs": [
    {
     "data": {
      "text/plain": [
       "['manufacturer_dodge']"
      ]
     },
     "execution_count": 84,
     "metadata": {},
     "output_type": "execute_result"
    }
   ],
   "source": [
    "coef = dict(zip(df_new.columns,lr.coef_))\n",
    "coef1 = [k for k in coef if coef[f'{k}']==0.0]\n",
    "coef1"
   ]
  },
  {
   "cell_type": "code",
   "execution_count": 85,
   "metadata": {},
   "outputs": [],
   "source": [
    "df_new = df_new.drop(['manufacturer_dodge'],axis=1)"
   ]
  },
  {
   "cell_type": "code",
   "execution_count": 86,
   "metadata": {},
   "outputs": [
    {
     "name": "stdout",
     "output_type": "stream",
     "text": [
      "4600.603446995114\n"
     ]
    }
   ],
   "source": [
    "x = df_new.drop(['price'], axis = 1)\n",
    "y = df_new.price\n",
    "x_train,x_test,y_train,y_test = train_test_split(x,y,random_state=42,test_size=0.3)\n",
    "\n",
    "lr = LinearRegression()\n",
    "lr.fit(x_train,y_train)\n",
    "pred = lr.predict(x_test)\n",
    "\n",
    "print(mean_absolute_error(y_test, pred))"
   ]
  },
  {
   "cell_type": "markdown",
   "metadata": {
    "id": "n3d55h5IQZoC"
   },
   "source": [
    "**Задача 2. Логистическая регрессия**\n",
    "\n",
    "Теперь в рамках тех же данных попробуйте предсказать `price_category` с помощью алгоритма логистической регрессии. Предварительно из датафрейма удалите переменные, в которых косвенно содержится информация о целевой переменной (`odometer/price_std`, `price`). \n",
    "\n",
    "Для обученной модели:\n",
    "\n",
    "- рассчитайте и выведите метрику качества (accuracy) на тренировочной выборке;\n",
    "- сделайте предикт на тестовых данных и положите его в переменную `logreg_pred`;\n",
    "- рассчитайте и выведите accuracy и confusion_matrix на тестовой выборке.\n",
    "\n",
    "Обратите внимание, что это задание засчитывается, если: \n",
    "- accuracy на тренировочной выборке > 87%;\n",
    "- accuracy на тестовой выборке > 75.5%.\n",
    "\n",
    "Для улучшения метрики можно преобразовывать входные данные и тюнить параметры логистической регрессии."
   ]
  },
  {
   "cell_type": "code",
   "execution_count": 7,
   "metadata": {
    "id": "tZpWbWaMootx"
   },
   "outputs": [],
   "source": [
    "# Ваш код подготовки данных здесь. Допишите инициализацию входных фичей и целевую переменную\n",
    "df_new1 = df.drop(['odometer/price_std','price'],axis=1)\n",
    "\n",
    "x = df_new1.drop(['price_category'],axis=1)\n",
    "y = df_new1.price_category\n",
    "x_train, x_test, y_train, y_test = train_test_split(x, y, test_size=0.3, random_state=42)"
   ]
  },
  {
   "cell_type": "code",
   "execution_count": 8,
   "metadata": {
    "id": "XQL-04-XpD_n"
   },
   "outputs": [
    {
     "name": "stdout",
     "output_type": "stream",
     "text": [
      "Точность на тренировочной выборке 0.3392247140947572\n",
      "Точность на тестовой выборке 0.32432432432432434\n"
     ]
    },
    {
     "data": {
      "text/plain": [
       "array([[  0,   0, 997],\n",
       "       [  0,   0, 953],\n",
       "       [  0,   0, 936]], dtype=int64)"
      ]
     },
     "execution_count": 8,
     "metadata": {},
     "output_type": "execute_result"
    }
   ],
   "source": [
    "# Ваш код обучения моделей здесь\n",
    "\n",
    "logreg = LogisticRegression(random_state=42, penalty='l1',solver='saga', max_iter=100)\n",
    "logreg.fit(x_train,y_train)\n",
    "logreg_pred = logreg.predict(x_test)\n",
    "\n",
    "print(f'Точность на тренировочной выборке {logreg.score(x_train,y_train)}')\n",
    "print(f'Точность на тестовой выборке {accuracy_score(y_test,logreg_pred)}')\n",
    "confusion_matrix(y_test,logreg_pred)"
   ]
  },
  {
   "cell_type": "code",
   "execution_count": 9,
   "metadata": {},
   "outputs": [],
   "source": [
    "cols_to_del=[]\n",
    "for col,i in zip(df_new1.columns,logreg.coef_[0]):\n",
    "    if i == 0.0:\n",
    "        cols_to_del.append(col)\n",
    "        "
   ]
  },
  {
   "cell_type": "code",
   "execution_count": 10,
   "metadata": {},
   "outputs": [],
   "source": [
    "df_new1 = df_new1.drop(cols_to_del,axis=1)\n",
    "\n",
    "x = df_new1.drop(['price_category'],axis=1)\n",
    "y = df_new1.price_category\n",
    "x_train, x_test, y_train, y_test = train_test_split(x, y, test_size=0.3, random_state=42)"
   ]
  },
  {
   "cell_type": "code",
   "execution_count": 11,
   "metadata": {},
   "outputs": [
    {
     "name": "stdout",
     "output_type": "stream",
     "text": [
      "Точность на тренировочной выборке 0.3392247140947572\n",
      "Точность на тестовой выборке 0.32432432432432434\n"
     ]
    },
    {
     "data": {
      "text/plain": [
       "array([[  0,   0, 997],\n",
       "       [  0,   0, 953],\n",
       "       [  0,   0, 936]], dtype=int64)"
      ]
     },
     "execution_count": 11,
     "metadata": {},
     "output_type": "execute_result"
    }
   ],
   "source": [
    "logreg = LogisticRegression(random_state=42, penalty='l1',solver='saga', max_iter=100)\n",
    "logreg.fit(x_train,y_train)\n",
    "logreg_pred = logreg.predict(x_test)\n",
    "\n",
    "print(f'Точность на тренировочной выборке {logreg.score(x_train,y_train)}')\n",
    "print(f'Точность на тестовой выборке {accuracy_score(y_test,logreg_pred)}')\n",
    "confusion_matrix(y_test,logreg_pred)\n",
    "#После удаления колонок с нулевой значимостью для обучения."
   ]
  },
  {
   "cell_type": "code",
   "execution_count": 19,
   "metadata": {},
   "outputs": [],
   "source": [
    "df_new1 = df_new1.drop(['id'],axis=1)\n",
    "\n",
    "x = df_new1.drop(['price_category'],axis=1)\n",
    "y = df_new1.price_category\n",
    "x_train, x_test, y_train, y_test = train_test_split(x, y, test_size=0.3, random_state=42)"
   ]
  },
  {
   "cell_type": "code",
   "execution_count": 39,
   "metadata": {
    "scrolled": true
   },
   "outputs": [
    {
     "name": "stdout",
     "output_type": "stream",
     "text": [
      "Fitting 5 folds for each of 100 candidates, totalling 500 fits\n"
     ]
    },
    {
     "name": "stderr",
     "output_type": "stream",
     "text": [
      "C:\\anaconda3\\Lib\\site-packages\\sklearn\\linear_model\\_sag.py:350: ConvergenceWarning: The max_iter was reached which means the coef_ did not converge\n",
      "  warnings.warn(\n"
     ]
    },
    {
     "data": {
      "text/plain": [
       "{'l1_ratio': None,\n",
       " 'max_iter': 400,\n",
       " 'penalty': 'l1',\n",
       " 'random_state': 28,\n",
       " 'solver': 'saga',\n",
       " 'tol': 0.001}"
      ]
     },
     "execution_count": 39,
     "metadata": {},
     "output_type": "execute_result"
    }
   ],
   "source": [
    "logreg_test=LogisticRegression()\n",
    "param_grid = {\n",
    "    'max_iter': [400],\n",
    "    'penalty': ['l2'],\n",
    "    'solver': ['saga'],\n",
    "    'tol':[0.001],\n",
    "    'l1_ratio':[None],\n",
    "    'random_state': list(range(1,101))\n",
    "    }\n",
    "from sklearn.model_selection import GridSearchCV\n",
    "grid_search_rf = GridSearchCV(\n",
    "    estimator=logreg_test,\n",
    "    param_grid=param_grid,\n",
    "    scoring='accuracy',\n",
    "    verbose=1,\n",
    "    n_jobs=-1)\n",
    "\n",
    "grid_search_rf.fit(x_train, y_train)\n",
    "\n",
    "best_params = grid_search_rf.best_params_\n",
    "best_params"
   ]
  },
  {
   "cell_type": "code",
   "execution_count": 48,
   "metadata": {},
   "outputs": [
    {
     "name": "stdout",
     "output_type": "stream",
     "text": [
      "Точность на тренировочной выборке 0.7622159512847171\n",
      "Точность на тестовой выборке 0.7016632016632016\n"
     ]
    },
    {
     "data": {
      "text/plain": [
       "array([[784,  53, 160],\n",
       "       [ 23, 741, 189],\n",
       "       [212, 224, 500]], dtype=int64)"
      ]
     },
     "execution_count": 48,
     "metadata": {},
     "output_type": "execute_result"
    }
   ],
   "source": [
    "logreg_tuned = LogisticRegression(max_iter=400,penalty='l2',solver='saga',random_state=28,tol=0.001)\n",
    "logreg_tuned.fit(x_train,y_train)\n",
    "pred_tuned = logreg_tuned.predict(x_test)\n",
    "\n",
    "print(f'Точность на тренировочной выборке {logreg_tuned.score(x_train,y_train)}')\n",
    "print(f'Точность на тестовой выборке {accuracy_score(y_test,pred_tuned)}')\n",
    "confusion_matrix(y_test,pred_tuned)"
   ]
  },
  {
   "cell_type": "code",
   "execution_count": 30,
   "metadata": {},
   "outputs": [
    {
     "data": {
      "text/plain": [
       "{'C': 1.0,\n",
       " 'class_weight': None,\n",
       " 'dual': False,\n",
       " 'fit_intercept': True,\n",
       " 'intercept_scaling': 1,\n",
       " 'l1_ratio': None,\n",
       " 'max_iter': 400,\n",
       " 'multi_class': 'auto',\n",
       " 'n_jobs': None,\n",
       " 'penalty': 'l1',\n",
       " 'random_state': 42,\n",
       " 'solver': 'saga',\n",
       " 'tol': 0.0001,\n",
       " 'verbose': 0,\n",
       " 'warm_start': False}"
      ]
     },
     "execution_count": 30,
     "metadata": {},
     "output_type": "execute_result"
    }
   ],
   "source": [
    "logreg_tuned.get_params()"
   ]
  },
  {
   "cell_type": "markdown",
   "metadata": {
    "id": "sPYGPr0ssX1l"
   },
   "source": [
    "**Задача 3. Многослойный персептрон**\n",
    "\n",
    "Решите задачу, поставленную в предыдущем задании, применив модель многослойного персептрона. С помощью данного алгоритма добейтесь лучших значений точности на тренировочной и тестовой выборках, чем на логистической регрессии. \n",
    "\n",
    "Увеличение точности в данном задании, по сравнению с предыдущим, должно быть больше увеличения 0.01 по метрике accuracy."
   ]
  },
  {
   "cell_type": "code",
   "execution_count": 67,
   "metadata": {},
   "outputs": [
    {
     "name": "stdout",
     "output_type": "stream",
     "text": [
      "0.7311157311157311\n"
     ]
    },
    {
     "name": "stderr",
     "output_type": "stream",
     "text": [
      "C:\\anaconda3\\Lib\\site-packages\\sklearn\\neural_network\\_multilayer_perceptron.py:691: ConvergenceWarning: Stochastic Optimizer: Maximum iterations (400) reached and the optimization hasn't converged yet.\n",
      "  warnings.warn(\n"
     ]
    },
    {
     "data": {
      "text/plain": [
       "array([[791,  42, 164],\n",
       "       [ 13, 767, 173],\n",
       "       [164, 220, 552]], dtype=int64)"
      ]
     },
     "execution_count": 67,
     "metadata": {},
     "output_type": "execute_result"
    }
   ],
   "source": [
    "# Ваш код здесь\n",
    "mlp = MLPClassifier(random_state=42, max_iter=400, hidden_layer_sizes=(100,30), activation = 'relu', solver='sgd')\n",
    "mlp.fit(x_train,y_train)\n",
    "pred_mlp = mlp.predict(x_test)\n",
    "print(accuracy_score(y_test,pred_mlp))\n",
    "confusion_matrix(y_test,pred_mlp)"
   ]
  },
  {
   "cell_type": "code",
   "execution_count": 53,
   "metadata": {},
   "outputs": [
    {
     "name": "stdout",
     "output_type": "stream",
     "text": [
      "Fitting 5 folds for each of 48 candidates, totalling 240 fits\n"
     ]
    },
    {
     "name": "stderr",
     "output_type": "stream",
     "text": [
      "C:\\anaconda3\\Lib\\site-packages\\sklearn\\neural_network\\_multilayer_perceptron.py:691: ConvergenceWarning: Stochastic Optimizer: Maximum iterations (500) reached and the optimization hasn't converged yet.\n",
      "  warnings.warn(\n"
     ]
    },
    {
     "data": {
      "text/plain": [
       "{'activation': 'relu',\n",
       " 'hidden_layer_sizes': 30,\n",
       " 'max_iter': 500,\n",
       " 'solver': 'sgd'}"
      ]
     },
     "execution_count": 53,
     "metadata": {},
     "output_type": "execute_result"
    }
   ],
   "source": [
    "mlp_test=MLPClassifier()\n",
    "param_grid = {\n",
    "    'max_iter': [500],\n",
    "    'hidden_layer_sizes': [100,70,50,30],\n",
    "    'activation': ['identity','logistic','tanh','relu'],\n",
    "    'solver': ['lbfgs','sgd','adam']\n",
    "                     }\n",
    "from sklearn.model_selection import GridSearchCV\n",
    "grid_search_rf = GridSearchCV(\n",
    "    estimator=mlp_test,\n",
    "    param_grid=param_grid,\n",
    "    scoring='accuracy',\n",
    "    verbose=1,\n",
    "    n_jobs=-1)\n",
    "\n",
    "grid_search_rf.fit(x_train, y_train)\n",
    "\n",
    "best_params = grid_search_rf.best_params_\n",
    "best_params"
   ]
  },
  {
   "cell_type": "code",
   "execution_count": null,
   "metadata": {},
   "outputs": [],
   "source": [
    "mlp.get_params()"
   ]
  },
  {
   "cell_type": "code",
   "execution_count": 49,
   "metadata": {},
   "outputs": [],
   "source": [
    "MLPClassifier?"
   ]
  },
  {
   "cell_type": "markdown",
   "metadata": {
    "id": "6ru5oLsGBOLv"
   },
   "source": [
    "**Задача 4. Сравнение с древовидными моделями**\n",
    "\n",
    "Обучите модель случайного леса на тех же данных для предсказания `price_category`. Сравните качество с моделью логистической регрессии и многослойного персептрона. Словами опишите, какая из моделей в каких случаях работает лучше по результатам на тестовой выборке, обоснуйте свой выбор."
   ]
  },
  {
   "cell_type": "code",
   "execution_count": 75,
   "metadata": {
    "id": "gYFQzRHM41Dg"
   },
   "outputs": [
    {
     "name": "stdout",
     "output_type": "stream",
     "text": [
      "0.7238392238392238\n"
     ]
    },
    {
     "data": {
      "text/plain": [
       "array([[782,  56, 159],\n",
       "       [ 17, 789, 147],\n",
       "       [184, 234, 518]], dtype=int64)"
      ]
     },
     "execution_count": 75,
     "metadata": {},
     "output_type": "execute_result"
    }
   ],
   "source": [
    "# Ваш код здесь\n",
    "rf = RandomForestClassifier(max_features='log2',random_state=42,min_samples_leaf=1,n_estimators=300,min_samples_split=2)\n",
    "rf.fit(x_train,y_train)\n",
    "pred_rf = rf.predict(x_test)\n",
    "print(accuracy_score(y_test,pred_rf))\n",
    "confusion_matrix(y_test,pred_rf)"
   ]
  },
  {
   "cell_type": "code",
   "execution_count": 74,
   "metadata": {},
   "outputs": [
    {
     "name": "stdout",
     "output_type": "stream",
     "text": [
      "Fitting 5 folds for each of 100 candidates, totalling 500 fits\n"
     ]
    },
    {
     "name": "stderr",
     "output_type": "stream",
     "text": [
      "C:\\anaconda3\\Lib\\site-packages\\sklearn\\model_selection\\_validation.py:425: FitFailedWarning: \n",
      "5 fits failed out of a total of 500.\n",
      "The score on these train-test partitions for these parameters will be set to nan.\n",
      "If these failures are not expected, you can try to debug them by setting error_score='raise'.\n",
      "\n",
      "Below are more details about the failures:\n",
      "--------------------------------------------------------------------------------\n",
      "5 fits failed with the following error:\n",
      "Traceback (most recent call last):\n",
      "  File \"C:\\anaconda3\\Lib\\site-packages\\sklearn\\model_selection\\_validation.py\", line 732, in _fit_and_score\n",
      "    estimator.fit(X_train, y_train, **fit_params)\n",
      "  File \"C:\\anaconda3\\Lib\\site-packages\\sklearn\\base.py\", line 1144, in wrapper\n",
      "    estimator._validate_params()\n",
      "  File \"C:\\anaconda3\\Lib\\site-packages\\sklearn\\base.py\", line 637, in _validate_params\n",
      "    validate_parameter_constraints(\n",
      "  File \"C:\\anaconda3\\Lib\\site-packages\\sklearn\\utils\\_param_validation.py\", line 95, in validate_parameter_constraints\n",
      "    raise InvalidParameterError(\n",
      "sklearn.utils._param_validation.InvalidParameterError: The 'min_samples_split' parameter of RandomForestClassifier must be an int in the range [2, inf) or a float in the range (0.0, 1.0]. Got 1 instead.\n",
      "\n",
      "  warnings.warn(some_fits_failed_message, FitFailedWarning)\n",
      "C:\\anaconda3\\Lib\\site-packages\\sklearn\\model_selection\\_search.py:976: UserWarning: One or more of the test scores are non-finite: [       nan 0.73236039 0.72939006 0.72760733 0.72404242 0.72537972\n",
      " 0.72493362 0.7238946  0.72255753 0.72404264 0.72181492 0.72151741\n",
      " 0.71943861 0.72151785 0.72166622 0.72003384 0.71988415 0.72166556\n",
      " 0.72136893 0.7189924  0.71825045 0.71750663 0.71661576 0.71780524\n",
      " 0.71587326 0.71735903 0.71795338 0.71706208 0.71735859 0.71631902\n",
      " 0.71438792 0.71557641 0.71528023 0.7161701  0.71409119 0.71379456\n",
      " 0.71498327 0.71409152 0.71468521 0.71513043 0.71394249 0.71334891\n",
      " 0.71379456 0.71275533 0.71572489 0.71245661 0.71215965 0.70978389\n",
      " 0.71245793 0.71097094 0.71008162 0.71171455 0.7132012  0.71111986\n",
      " 0.7118638  0.70933846 0.71052639 0.71216009 0.70948793 0.70993237\n",
      " 0.7111203  0.70963607 0.71008107 0.70829933 0.70918954 0.70814975\n",
      " 0.70413896 0.70815074 0.7071104  0.70666497 0.70829889 0.70384311\n",
      " 0.70666519 0.70577399 0.70547637 0.70800215 0.70740736 0.70696281\n",
      " 0.70666519 0.70740824 0.7048829  0.70369519 0.70339713 0.7044378\n",
      " 0.7031005  0.70191268 0.70309962 0.7028031  0.70057505 0.70176354\n",
      " 0.70280266 0.70146614 0.69894124 0.70384245 0.70087245 0.69998125\n",
      " 0.70384289 0.70131777 0.70161451 0.70057494]\n",
      "  warnings.warn(\n"
     ]
    },
    {
     "data": {
      "text/plain": [
       "{'max_features': 'log2',\n",
       " 'min_samples_leaf': 1,\n",
       " 'min_samples_split': 2,\n",
       " 'n_estimators': 500}"
      ]
     },
     "execution_count": 74,
     "metadata": {},
     "output_type": "execute_result"
    }
   ],
   "source": [
    "param_grid = {'n_estimators': [500],\n",
    "              'max_features': ['log2'],\n",
    "              'min_samples_leaf': [1],\n",
    "              'min_samples_split': list(range(1,101))}\n",
    "\n",
    "from sklearn.model_selection import GridSearchCV\n",
    "\n",
    "grid_search_rf = GridSearchCV(\n",
    "    estimator = rf, \n",
    "    param_grid=param_grid,\n",
    "    scoring='accuracy',\n",
    "    verbose=1,\n",
    "    n_jobs=-1)\n",
    "\n",
    "grid_search_rf.fit(x_train,y_train)\n",
    "\n",
    "best_params = grid_search_rf.best_params_\n",
    "best_params"
   ]
  },
  {
   "cell_type": "markdown",
   "metadata": {},
   "source": []
  },
  {
   "cell_type": "markdown",
   "metadata": {
    "id": "-DrgXqjv2Rgk"
   },
   "source": [
    "**Задача 5. Стратегия голосования**\n",
    "\n",
    "Реализуйте стратегию голосования для предсказания целевой переменной.\n",
    "Голосование в задаче классификации — это когда несколько моделей выдают свои предикты, и финальным выбирается тот предикт, который предсказали большинство моделей.\n",
    "\n",
    "Для реализации этой стратегии проделайте следующее:\n",
    "\n",
    "- сохраните предсказания каждой из моделей (случайный лес, многослойный персептрон, логистическая регрессия) для тестовой выборки в датафрейм `pred_df`;\n",
    "- в четвёртую колонку `target` положите тот класс, который предсказало большинство классификаторов; например, если в строке были значения `high, medium, medium`, в `target` нужно положить `medium`;\n",
    "\n",
    "     если в строке три разных класса (`high, medium, low`), придумайте свою стратегию по выбору значения; самая простая стратегия — выбрать рандомно одно значение из трёх;\n",
    "\n",
    "- посчитайте точность предсказания с помощью голосования; выведите значения метрик accuracy и confusion_matrix.\n",
    "\n",
    "Добейтесь значения точности > 78%."
   ]
  },
  {
   "cell_type": "code",
   "execution_count": 76,
   "metadata": {
    "id": "KKTpNxaK5UhX"
   },
   "outputs": [],
   "source": [
    "# Ваш код здесь\n",
    "pred_df = pd.DataFrame({'RandomForest': pred_rf,\n",
    "                        'MLP': pred_mlp,\n",
    "                        'LogisticRegression': pred_tuned,\n",
    "                        'target': pred_df.apply(lambda x: x.mode()[0], axis = 1)\n",
    "                          })"
   ]
  },
  {
   "cell_type": "code",
   "execution_count": 77,
   "metadata": {},
   "outputs": [
    {
     "data": {
      "text/html": [
       "<div>\n",
       "<style scoped>\n",
       "    .dataframe tbody tr th:only-of-type {\n",
       "        vertical-align: middle;\n",
       "    }\n",
       "\n",
       "    .dataframe tbody tr th {\n",
       "        vertical-align: top;\n",
       "    }\n",
       "\n",
       "    .dataframe thead th {\n",
       "        text-align: right;\n",
       "    }\n",
       "</style>\n",
       "<table border=\"1\" class=\"dataframe\">\n",
       "  <thead>\n",
       "    <tr style=\"text-align: right;\">\n",
       "      <th></th>\n",
       "      <th>RandomForest</th>\n",
       "      <th>MLP</th>\n",
       "      <th>LogisticRegression</th>\n",
       "      <th>target</th>\n",
       "    </tr>\n",
       "  </thead>\n",
       "  <tbody>\n",
       "    <tr>\n",
       "      <th>0</th>\n",
       "      <td>high</td>\n",
       "      <td>high</td>\n",
       "      <td>high</td>\n",
       "      <td>high</td>\n",
       "    </tr>\n",
       "    <tr>\n",
       "      <th>1</th>\n",
       "      <td>medium</td>\n",
       "      <td>medium</td>\n",
       "      <td>medium</td>\n",
       "      <td>medium</td>\n",
       "    </tr>\n",
       "    <tr>\n",
       "      <th>2</th>\n",
       "      <td>low</td>\n",
       "      <td>low</td>\n",
       "      <td>low</td>\n",
       "      <td>low</td>\n",
       "    </tr>\n",
       "    <tr>\n",
       "      <th>3</th>\n",
       "      <td>low</td>\n",
       "      <td>low</td>\n",
       "      <td>low</td>\n",
       "      <td>low</td>\n",
       "    </tr>\n",
       "    <tr>\n",
       "      <th>4</th>\n",
       "      <td>high</td>\n",
       "      <td>high</td>\n",
       "      <td>high</td>\n",
       "      <td>high</td>\n",
       "    </tr>\n",
       "  </tbody>\n",
       "</table>\n",
       "</div>"
      ],
      "text/plain": [
       "  RandomForest     MLP LogisticRegression  target\n",
       "0         high    high               high    high\n",
       "1       medium  medium             medium  medium\n",
       "2          low     low                low     low\n",
       "3          low     low                low     low\n",
       "4         high    high               high    high"
      ]
     },
     "execution_count": 77,
     "metadata": {},
     "output_type": "execute_result"
    }
   ],
   "source": [
    "pred_df.head()"
   ]
  },
  {
   "cell_type": "code",
   "execution_count": 78,
   "metadata": {},
   "outputs": [
    {
     "name": "stdout",
     "output_type": "stream",
     "text": [
      "0.729036729036729\n"
     ]
    }
   ],
   "source": [
    "print(accuracy_score(y_test,pred_df.target))"
   ]
  },
  {
   "cell_type": "markdown",
   "metadata": {
    "id": "FmuF3_05i2AD"
   },
   "source": [
    "**Примечание**\n",
    "\n",
    "В этой практической работе перед вами встал выбор: включать ли колонку `id`. При удалении данной колонки во время обучения логистической регрессии качество заметно улучшается.\n",
    "\n",
    "Обучать любую модель (будь то логистическая, линейная регрессия или древовидный алгоритм) на данных айдишников не считается хорошей практикой. Как правило, между `id` и целевой переменной не должно быть никаких взаимосвязей. Включая колонку `id` в качества атрибута в обучение, вы стараетесь подогнать результаты своей модели под айдишники записей. Таким образом модель обучится на некотором наборе частных случаев и, возможно, не обратит внимание на общие зависимости.   "
   ]
  }
 ],
 "metadata": {
  "colab": {
   "collapsed_sections": [],
   "provenance": []
  },
  "kernelspec": {
   "display_name": "Python 3 (ipykernel)",
   "language": "python",
   "name": "python3"
  },
  "language_info": {
   "codemirror_mode": {
    "name": "ipython",
    "version": 3
   },
   "file_extension": ".py",
   "mimetype": "text/x-python",
   "name": "python",
   "nbconvert_exporter": "python",
   "pygments_lexer": "ipython3",
   "version": "3.11.5"
  }
 },
 "nbformat": 4,
 "nbformat_minor": 1
}
