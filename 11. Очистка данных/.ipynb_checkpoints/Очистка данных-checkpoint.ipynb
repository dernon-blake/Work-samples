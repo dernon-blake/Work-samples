{
 "cells": [
  {
   "cell_type": "code",
   "execution_count": 1,
   "id": "42f3126b-08eb-422c-97ae-498118eb77c0",
   "metadata": {},
   "outputs": [
    {
     "data": {
      "text/plain": [
       "(13119, 9)"
      ]
     },
     "execution_count": 1,
     "metadata": {},
     "output_type": "execute_result"
    }
   ],
   "source": [
    "import pandas as pd\n",
    "\n",
    "df = pd.read_csv('merc.csv')\n",
    "df.shape"
   ]
  },
  {
   "cell_type": "code",
   "execution_count": 2,
   "id": "051f3192-cf2b-4e0a-9f9d-cf1a0e2d5824",
   "metadata": {},
   "outputs": [
    {
     "data": {
      "text/html": [
       "<div>\n",
       "<style scoped>\n",
       "    .dataframe tbody tr th:only-of-type {\n",
       "        vertical-align: middle;\n",
       "    }\n",
       "\n",
       "    .dataframe tbody tr th {\n",
       "        vertical-align: top;\n",
       "    }\n",
       "\n",
       "    .dataframe thead th {\n",
       "        text-align: right;\n",
       "    }\n",
       "</style>\n",
       "<table border=\"1\" class=\"dataframe\">\n",
       "  <thead>\n",
       "    <tr style=\"text-align: right;\">\n",
       "      <th></th>\n",
       "      <th>model</th>\n",
       "      <th>year</th>\n",
       "      <th>price</th>\n",
       "      <th>transmission</th>\n",
       "      <th>mileage</th>\n",
       "      <th>fuelType</th>\n",
       "      <th>tax</th>\n",
       "      <th>mpg</th>\n",
       "      <th>engineSize</th>\n",
       "    </tr>\n",
       "  </thead>\n",
       "  <tbody>\n",
       "    <tr>\n",
       "      <th>0</th>\n",
       "      <td>SLK</td>\n",
       "      <td>2005.0</td>\n",
       "      <td>5200</td>\n",
       "      <td>Automatic</td>\n",
       "      <td>63000.0</td>\n",
       "      <td>Petrol</td>\n",
       "      <td>325.0</td>\n",
       "      <td>NaN</td>\n",
       "      <td>1.8</td>\n",
       "    </tr>\n",
       "    <tr>\n",
       "      <th>1</th>\n",
       "      <td>S Class</td>\n",
       "      <td>2017.0</td>\n",
       "      <td>34948</td>\n",
       "      <td>Automatic</td>\n",
       "      <td>27000.0</td>\n",
       "      <td>Hybrid</td>\n",
       "      <td>20.0</td>\n",
       "      <td>61.4</td>\n",
       "      <td>NaN</td>\n",
       "    </tr>\n",
       "    <tr>\n",
       "      <th>2</th>\n",
       "      <td>NaN</td>\n",
       "      <td>2016.0</td>\n",
       "      <td>49948</td>\n",
       "      <td>Automatic</td>\n",
       "      <td>6200.0</td>\n",
       "      <td>Petrol</td>\n",
       "      <td>555.0</td>\n",
       "      <td>28.0</td>\n",
       "      <td>5.5</td>\n",
       "    </tr>\n",
       "    <tr>\n",
       "      <th>3</th>\n",
       "      <td>G Class</td>\n",
       "      <td>2016.0</td>\n",
       "      <td>61948</td>\n",
       "      <td>Automatic</td>\n",
       "      <td>16000.0</td>\n",
       "      <td>Petrol</td>\n",
       "      <td>325.0</td>\n",
       "      <td>30.4</td>\n",
       "      <td>4.0</td>\n",
       "    </tr>\n",
       "    <tr>\n",
       "      <th>4</th>\n",
       "      <td>G Class</td>\n",
       "      <td>2016.0</td>\n",
       "      <td>73948</td>\n",
       "      <td>Automatic</td>\n",
       "      <td>4000.0</td>\n",
       "      <td>Petrol</td>\n",
       "      <td>325.0</td>\n",
       "      <td>30.1</td>\n",
       "      <td>4.0</td>\n",
       "    </tr>\n",
       "  </tbody>\n",
       "</table>\n",
       "</div>"
      ],
      "text/plain": [
       "      model    year  price transmission  mileage fuelType    tax   mpg  \\\n",
       "0       SLK  2005.0   5200    Automatic  63000.0   Petrol  325.0   NaN   \n",
       "1   S Class  2017.0  34948    Automatic  27000.0   Hybrid   20.0  61.4   \n",
       "2       NaN  2016.0  49948    Automatic   6200.0   Petrol  555.0  28.0   \n",
       "3   G Class  2016.0  61948    Automatic  16000.0   Petrol  325.0  30.4   \n",
       "4   G Class  2016.0  73948    Automatic   4000.0   Petrol  325.0  30.1   \n",
       "\n",
       "   engineSize  \n",
       "0         1.8  \n",
       "1         NaN  \n",
       "2         5.5  \n",
       "3         4.0  \n",
       "4         4.0  "
      ]
     },
     "execution_count": 2,
     "metadata": {},
     "output_type": "execute_result"
    }
   ],
   "source": [
    "df.head()"
   ]
  },
  {
   "cell_type": "code",
   "execution_count": 25,
   "id": "ee0e2f81-3da2-4b88-a2b2-aada913cfb42",
   "metadata": {},
   "outputs": [],
   "source": [
    "# признак можно удалить по задаче, если 50 и более % пропусков\n",
    "# строку, если 5 и более пропусков в признаках"
   ]
  },
  {
   "cell_type": "code",
   "execution_count": 28,
   "id": "e5373ca7-3988-4e36-b04d-b68e829b45eb",
   "metadata": {},
   "outputs": [
    {
     "data": {
      "text/plain": [
       "model           28.919887\n",
       "year            29.697385\n",
       "price            0.000000\n",
       "transmission     0.000000\n",
       "mileage         29.552557\n",
       "fuelType         0.000000\n",
       "tax             29.072338\n",
       "mpg             29.750743\n",
       "engineSize      29.209543\n",
       "dtype: float64"
      ]
     },
     "execution_count": 28,
     "metadata": {},
     "output_type": "execute_result"
    }
   ],
   "source": [
    "df.isna().sum()/13119*100"
   ]
  },
  {
   "cell_type": "code",
   "execution_count": 29,
   "id": "e641cac0-7dc2-45d5-8ae2-88c1ead784d0",
   "metadata": {},
   "outputs": [
    {
     "data": {
      "text/plain": [
       "(133, 9)"
      ]
     },
     "execution_count": 29,
     "metadata": {},
     "output_type": "execute_result"
    }
   ],
   "source": [
    "df_miss_row = df[df.isna().sum(axis=1) >=5]\n",
    "df_miss_row.shape"
   ]
  },
  {
   "cell_type": "code",
   "execution_count": 31,
   "id": "1dd6fb57-5e28-4df9-b9cb-3afcf71256ff",
   "metadata": {},
   "outputs": [
    {
     "data": {
      "text/plain": [
       "(12986, 9)"
      ]
     },
     "execution_count": 31,
     "metadata": {},
     "output_type": "execute_result"
    }
   ],
   "source": [
    " #df = df.drop(df_miss_row, axis = 1)\n",
    "df = df[df.isna().sum(axis=1) < 5]\n",
    "df.shape"
   ]
  },
  {
   "cell_type": "code",
   "execution_count": 32,
   "id": "14ac633b-9556-4c46-b753-4fa8f0e535ba",
   "metadata": {},
   "outputs": [
    {
     "data": {
      "text/html": [
       "<div>\n",
       "<style scoped>\n",
       "    .dataframe tbody tr th:only-of-type {\n",
       "        vertical-align: middle;\n",
       "    }\n",
       "\n",
       "    .dataframe tbody tr th {\n",
       "        vertical-align: top;\n",
       "    }\n",
       "\n",
       "    .dataframe thead th {\n",
       "        text-align: right;\n",
       "    }\n",
       "</style>\n",
       "<table border=\"1\" class=\"dataframe\">\n",
       "  <thead>\n",
       "    <tr style=\"text-align: right;\">\n",
       "      <th></th>\n",
       "      <th>model</th>\n",
       "      <th>year</th>\n",
       "      <th>price</th>\n",
       "      <th>transmission</th>\n",
       "      <th>mileage</th>\n",
       "      <th>fuelType</th>\n",
       "      <th>tax</th>\n",
       "      <th>mpg</th>\n",
       "      <th>engineSize</th>\n",
       "    </tr>\n",
       "  </thead>\n",
       "  <tbody>\n",
       "  </tbody>\n",
       "</table>\n",
       "</div>"
      ],
      "text/plain": [
       "Empty DataFrame\n",
       "Columns: [model, year, price, transmission, mileage, fuelType, tax, mpg, engineSize]\n",
       "Index: []"
      ]
     },
     "execution_count": 32,
     "metadata": {},
     "output_type": "execute_result"
    }
   ],
   "source": [
    "df[df.isna().sum(axis=1) >= 5]"
   ]
  },
  {
   "cell_type": "code",
   "execution_count": 35,
   "id": "e2ae9528-3191-4e8d-b857-53664e93b2a6",
   "metadata": {},
   "outputs": [],
   "source": [
    "from sklearn.model_selection import train_test_split\n",
    "random_state = 42\n",
    "\n",
    "Xtrain, Xtest = train_test_split(df, test_size=0.2, random_state=random_state)"
   ]
  },
  {
   "cell_type": "code",
   "execution_count": 37,
   "id": "e3066f27-fca9-49b2-a300-436857760055",
   "metadata": {},
   "outputs": [],
   "source": [
    "# в пробег и налог можно NA заполнить нулями, т.к. такое может быть\n",
    "#  а в категориальные - unknown - неизвестно\n",
    "# а расход и пробег - медианнное значение"
   ]
  },
  {
   "cell_type": "code",
   "execution_count": 38,
   "id": "b566669c-b5ee-486d-8a36-922304e713fd",
   "metadata": {},
   "outputs": [
    {
     "data": {
      "text/html": [
       "<div>\n",
       "<style scoped>\n",
       "    .dataframe tbody tr th:only-of-type {\n",
       "        vertical-align: middle;\n",
       "    }\n",
       "\n",
       "    .dataframe tbody tr th {\n",
       "        vertical-align: top;\n",
       "    }\n",
       "\n",
       "    .dataframe thead th {\n",
       "        text-align: right;\n",
       "    }\n",
       "</style>\n",
       "<table border=\"1\" class=\"dataframe\">\n",
       "  <thead>\n",
       "    <tr style=\"text-align: right;\">\n",
       "      <th></th>\n",
       "      <th>model</th>\n",
       "      <th>year</th>\n",
       "      <th>price</th>\n",
       "      <th>transmission</th>\n",
       "      <th>mileage</th>\n",
       "      <th>fuelType</th>\n",
       "      <th>tax</th>\n",
       "      <th>mpg</th>\n",
       "      <th>engineSize</th>\n",
       "    </tr>\n",
       "  </thead>\n",
       "  <tbody>\n",
       "    <tr>\n",
       "      <th>8498</th>\n",
       "      <td>GLC Class</td>\n",
       "      <td>2019.0</td>\n",
       "      <td>45299</td>\n",
       "      <td>Semi-Auto</td>\n",
       "      <td>2792.0</td>\n",
       "      <td>Diesel</td>\n",
       "      <td>145.0</td>\n",
       "      <td>40.4</td>\n",
       "      <td>NaN</td>\n",
       "    </tr>\n",
       "    <tr>\n",
       "      <th>9102</th>\n",
       "      <td>NaN</td>\n",
       "      <td>2018.0</td>\n",
       "      <td>19099</td>\n",
       "      <td>Semi-Auto</td>\n",
       "      <td>12321.0</td>\n",
       "      <td>Petrol</td>\n",
       "      <td>145.0</td>\n",
       "      <td>NaN</td>\n",
       "      <td>1.5</td>\n",
       "    </tr>\n",
       "    <tr>\n",
       "      <th>2400</th>\n",
       "      <td>A Class</td>\n",
       "      <td>2019.0</td>\n",
       "      <td>17702</td>\n",
       "      <td>Automatic</td>\n",
       "      <td>0.0</td>\n",
       "      <td>Diesel</td>\n",
       "      <td>145.0</td>\n",
       "      <td>68.9</td>\n",
       "      <td>1.5</td>\n",
       "    </tr>\n",
       "    <tr>\n",
       "      <th>8294</th>\n",
       "      <td>NaN</td>\n",
       "      <td>NaN</td>\n",
       "      <td>21749</td>\n",
       "      <td>Semi-Auto</td>\n",
       "      <td>27178.0</td>\n",
       "      <td>Diesel</td>\n",
       "      <td>160.0</td>\n",
       "      <td>51.4</td>\n",
       "      <td>NaN</td>\n",
       "    </tr>\n",
       "    <tr>\n",
       "      <th>6506</th>\n",
       "      <td>E Class</td>\n",
       "      <td>2018.0</td>\n",
       "      <td>35950</td>\n",
       "      <td>Automatic</td>\n",
       "      <td>0.0</td>\n",
       "      <td>Diesel</td>\n",
       "      <td>0.0</td>\n",
       "      <td>42.8</td>\n",
       "      <td>3.0</td>\n",
       "    </tr>\n",
       "  </tbody>\n",
       "</table>\n",
       "</div>"
      ],
      "text/plain": [
       "           model    year  price transmission  mileage fuelType    tax   mpg  \\\n",
       "8498   GLC Class  2019.0  45299    Semi-Auto   2792.0   Diesel  145.0  40.4   \n",
       "9102         NaN  2018.0  19099    Semi-Auto  12321.0   Petrol  145.0   NaN   \n",
       "2400     A Class  2019.0  17702    Automatic      0.0   Diesel  145.0  68.9   \n",
       "8294         NaN     NaN  21749    Semi-Auto  27178.0   Diesel  160.0  51.4   \n",
       "6506     E Class  2018.0  35950    Automatic      0.0   Diesel    0.0  42.8   \n",
       "\n",
       "      engineSize  \n",
       "8498         NaN  \n",
       "9102         1.5  \n",
       "2400         1.5  \n",
       "8294         NaN  \n",
       "6506         3.0  "
      ]
     },
     "execution_count": 38,
     "metadata": {},
     "output_type": "execute_result"
    }
   ],
   "source": [
    "from sklearn.impute import SimpleImputer\n",
    "\n",
    "imp_const_0 = SimpleImputer(strategy='constant', fill_value=0)\n",
    "\n",
    "zero_cols = ['mileage', 'tax']\n",
    "\n",
    "Xtrain[zero_cols] = imp_const_0.fit_transform(Xtrain[zero_cols])\n",
    "Xtrain.head()"
   ]
  },
  {
   "cell_type": "code",
   "execution_count": 39,
   "id": "461e3509-216c-422d-9592-52668bcb08a4",
   "metadata": {},
   "outputs": [
    {
     "data": {
      "text/plain": [
       "mileage    0\n",
       "tax        0\n",
       "dtype: int64"
      ]
     },
     "execution_count": 39,
     "metadata": {},
     "output_type": "execute_result"
    }
   ],
   "source": [
    "Xtrain[zero_cols].isna().sum()"
   ]
  },
  {
   "cell_type": "code",
   "execution_count": 40,
   "id": "dd01bb82-ed01-43c1-821a-d1f98a1a3e92",
   "metadata": {},
   "outputs": [
    {
     "data": {
      "text/html": [
       "<div>\n",
       "<style scoped>\n",
       "    .dataframe tbody tr th:only-of-type {\n",
       "        vertical-align: middle;\n",
       "    }\n",
       "\n",
       "    .dataframe tbody tr th {\n",
       "        vertical-align: top;\n",
       "    }\n",
       "\n",
       "    .dataframe thead th {\n",
       "        text-align: right;\n",
       "    }\n",
       "</style>\n",
       "<table border=\"1\" class=\"dataframe\">\n",
       "  <thead>\n",
       "    <tr style=\"text-align: right;\">\n",
       "      <th></th>\n",
       "      <th>model</th>\n",
       "      <th>year</th>\n",
       "      <th>price</th>\n",
       "      <th>transmission</th>\n",
       "      <th>mileage</th>\n",
       "      <th>fuelType</th>\n",
       "      <th>tax</th>\n",
       "      <th>mpg</th>\n",
       "      <th>engineSize</th>\n",
       "    </tr>\n",
       "  </thead>\n",
       "  <tbody>\n",
       "    <tr>\n",
       "      <th>8498</th>\n",
       "      <td>GLC Class</td>\n",
       "      <td>2019.0</td>\n",
       "      <td>45299</td>\n",
       "      <td>Semi-Auto</td>\n",
       "      <td>2792.0</td>\n",
       "      <td>Diesel</td>\n",
       "      <td>145.0</td>\n",
       "      <td>40.4</td>\n",
       "      <td>NaN</td>\n",
       "    </tr>\n",
       "    <tr>\n",
       "      <th>9102</th>\n",
       "      <td>unknown</td>\n",
       "      <td>2018.0</td>\n",
       "      <td>19099</td>\n",
       "      <td>Semi-Auto</td>\n",
       "      <td>12321.0</td>\n",
       "      <td>Petrol</td>\n",
       "      <td>145.0</td>\n",
       "      <td>NaN</td>\n",
       "      <td>1.5</td>\n",
       "    </tr>\n",
       "    <tr>\n",
       "      <th>2400</th>\n",
       "      <td>A Class</td>\n",
       "      <td>2019.0</td>\n",
       "      <td>17702</td>\n",
       "      <td>Automatic</td>\n",
       "      <td>0.0</td>\n",
       "      <td>Diesel</td>\n",
       "      <td>145.0</td>\n",
       "      <td>68.9</td>\n",
       "      <td>1.5</td>\n",
       "    </tr>\n",
       "    <tr>\n",
       "      <th>8294</th>\n",
       "      <td>unknown</td>\n",
       "      <td>NaN</td>\n",
       "      <td>21749</td>\n",
       "      <td>Semi-Auto</td>\n",
       "      <td>27178.0</td>\n",
       "      <td>Diesel</td>\n",
       "      <td>160.0</td>\n",
       "      <td>51.4</td>\n",
       "      <td>NaN</td>\n",
       "    </tr>\n",
       "    <tr>\n",
       "      <th>6506</th>\n",
       "      <td>E Class</td>\n",
       "      <td>2018.0</td>\n",
       "      <td>35950</td>\n",
       "      <td>Automatic</td>\n",
       "      <td>0.0</td>\n",
       "      <td>Diesel</td>\n",
       "      <td>0.0</td>\n",
       "      <td>42.8</td>\n",
       "      <td>3.0</td>\n",
       "    </tr>\n",
       "  </tbody>\n",
       "</table>\n",
       "</div>"
      ],
      "text/plain": [
       "           model    year  price transmission  mileage fuelType    tax   mpg  \\\n",
       "8498   GLC Class  2019.0  45299    Semi-Auto   2792.0   Diesel  145.0  40.4   \n",
       "9102     unknown  2018.0  19099    Semi-Auto  12321.0   Petrol  145.0   NaN   \n",
       "2400     A Class  2019.0  17702    Automatic      0.0   Diesel  145.0  68.9   \n",
       "8294     unknown     NaN  21749    Semi-Auto  27178.0   Diesel  160.0  51.4   \n",
       "6506     E Class  2018.0  35950    Automatic      0.0   Diesel    0.0  42.8   \n",
       "\n",
       "      engineSize  \n",
       "8498         NaN  \n",
       "9102         1.5  \n",
       "2400         1.5  \n",
       "8294         NaN  \n",
       "6506         3.0  "
      ]
     },
     "execution_count": 40,
     "metadata": {},
     "output_type": "execute_result"
    }
   ],
   "source": [
    "imp_const_unkown = SimpleImputer(strategy='constant', fill_value='unknown')\n",
    "\n",
    "unk_cols = ['model']\n",
    "\n",
    "Xtrain[unk_cols] = imp_const_unkown.fit_transform(Xtrain[unk_cols])\n",
    "Xtrain.head()"
   ]
  },
  {
   "cell_type": "code",
   "execution_count": 41,
   "id": "a4061b68-deac-4e05-b1ee-a0e5e95c5d2f",
   "metadata": {},
   "outputs": [
    {
     "data": {
      "text/plain": [
       "model    0\n",
       "dtype: int64"
      ]
     },
     "execution_count": 41,
     "metadata": {},
     "output_type": "execute_result"
    }
   ],
   "source": [
    "Xtrain[unk_cols].isna().sum()"
   ]
  },
  {
   "cell_type": "code",
   "execution_count": 43,
   "id": "dc8c3527-1587-4f3e-a26a-22a5aeb554dd",
   "metadata": {},
   "outputs": [
    {
     "data": {
      "text/html": [
       "<div>\n",
       "<style scoped>\n",
       "    .dataframe tbody tr th:only-of-type {\n",
       "        vertical-align: middle;\n",
       "    }\n",
       "\n",
       "    .dataframe tbody tr th {\n",
       "        vertical-align: top;\n",
       "    }\n",
       "\n",
       "    .dataframe thead th {\n",
       "        text-align: right;\n",
       "    }\n",
       "</style>\n",
       "<table border=\"1\" class=\"dataframe\">\n",
       "  <thead>\n",
       "    <tr style=\"text-align: right;\">\n",
       "      <th></th>\n",
       "      <th>model</th>\n",
       "      <th>year</th>\n",
       "      <th>price</th>\n",
       "      <th>transmission</th>\n",
       "      <th>mileage</th>\n",
       "      <th>fuelType</th>\n",
       "      <th>tax</th>\n",
       "      <th>mpg</th>\n",
       "      <th>engineSize</th>\n",
       "    </tr>\n",
       "  </thead>\n",
       "  <tbody>\n",
       "    <tr>\n",
       "      <th>8498</th>\n",
       "      <td>GLC Class</td>\n",
       "      <td>2019.0</td>\n",
       "      <td>45299</td>\n",
       "      <td>Semi-Auto</td>\n",
       "      <td>2792.0</td>\n",
       "      <td>Diesel</td>\n",
       "      <td>145.0</td>\n",
       "      <td>40.4</td>\n",
       "      <td>2.0</td>\n",
       "    </tr>\n",
       "    <tr>\n",
       "      <th>9102</th>\n",
       "      <td>unknown</td>\n",
       "      <td>2018.0</td>\n",
       "      <td>19099</td>\n",
       "      <td>Semi-Auto</td>\n",
       "      <td>12321.0</td>\n",
       "      <td>Petrol</td>\n",
       "      <td>145.0</td>\n",
       "      <td>56.5</td>\n",
       "      <td>1.5</td>\n",
       "    </tr>\n",
       "    <tr>\n",
       "      <th>2400</th>\n",
       "      <td>A Class</td>\n",
       "      <td>2019.0</td>\n",
       "      <td>17702</td>\n",
       "      <td>Automatic</td>\n",
       "      <td>0.0</td>\n",
       "      <td>Diesel</td>\n",
       "      <td>145.0</td>\n",
       "      <td>68.9</td>\n",
       "      <td>1.5</td>\n",
       "    </tr>\n",
       "    <tr>\n",
       "      <th>8294</th>\n",
       "      <td>unknown</td>\n",
       "      <td>NaN</td>\n",
       "      <td>21749</td>\n",
       "      <td>Semi-Auto</td>\n",
       "      <td>27178.0</td>\n",
       "      <td>Diesel</td>\n",
       "      <td>160.0</td>\n",
       "      <td>51.4</td>\n",
       "      <td>2.0</td>\n",
       "    </tr>\n",
       "    <tr>\n",
       "      <th>6506</th>\n",
       "      <td>E Class</td>\n",
       "      <td>2018.0</td>\n",
       "      <td>35950</td>\n",
       "      <td>Automatic</td>\n",
       "      <td>0.0</td>\n",
       "      <td>Diesel</td>\n",
       "      <td>0.0</td>\n",
       "      <td>42.8</td>\n",
       "      <td>3.0</td>\n",
       "    </tr>\n",
       "  </tbody>\n",
       "</table>\n",
       "</div>"
      ],
      "text/plain": [
       "           model    year  price transmission  mileage fuelType    tax   mpg  \\\n",
       "8498   GLC Class  2019.0  45299    Semi-Auto   2792.0   Diesel  145.0  40.4   \n",
       "9102     unknown  2018.0  19099    Semi-Auto  12321.0   Petrol  145.0  56.5   \n",
       "2400     A Class  2019.0  17702    Automatic      0.0   Diesel  145.0  68.9   \n",
       "8294     unknown     NaN  21749    Semi-Auto  27178.0   Diesel  160.0  51.4   \n",
       "6506     E Class  2018.0  35950    Automatic      0.0   Diesel    0.0  42.8   \n",
       "\n",
       "      engineSize  \n",
       "8498         2.0  \n",
       "9102         1.5  \n",
       "2400         1.5  \n",
       "8294         2.0  \n",
       "6506         3.0  "
      ]
     },
     "execution_count": 43,
     "metadata": {},
     "output_type": "execute_result"
    }
   ],
   "source": [
    "imp_median = SimpleImputer(strategy='median')\n",
    "\n",
    "med_cols = ['mpg', 'engineSize']\n",
    "\n",
    "Xtrain[med_cols] = imp_median.fit_transform(Xtrain[med_cols])\n",
    "Xtrain.head()"
   ]
  },
  {
   "cell_type": "code",
   "execution_count": 44,
   "id": "f50581ea-11ba-4b3d-808d-6690234e6213",
   "metadata": {},
   "outputs": [
    {
     "data": {
      "text/plain": [
       "mpg           0\n",
       "engineSize    0\n",
       "dtype: int64"
      ]
     },
     "execution_count": 44,
     "metadata": {},
     "output_type": "execute_result"
    }
   ],
   "source": [
    "Xtrain[med_cols].isna().sum()"
   ]
  },
  {
   "cell_type": "code",
   "execution_count": 49,
   "id": "819f5912-5ce5-444b-a38a-73136782ae4e",
   "metadata": {},
   "outputs": [],
   "source": [
    "from sklearn.impute import KNNImputer # метолд (импьютер) к ближайших соседей\n",
    "imp_knn = KNNImputer(n_neighbors=3) # не работает со str, ток числовые\n",
    "\n",
    "num_columns = ['year', 'mileage', 'tax', 'mpg', 'engineSize']"
   ]
  },
  {
   "cell_type": "code",
   "execution_count": 46,
   "id": "c8af53a0-96d2-4a67-bb22-bc3819ff13b2",
   "metadata": {},
   "outputs": [
    {
     "data": {
      "text/html": [
       "<div>\n",
       "<style scoped>\n",
       "    .dataframe tbody tr th:only-of-type {\n",
       "        vertical-align: middle;\n",
       "    }\n",
       "\n",
       "    .dataframe tbody tr th {\n",
       "        vertical-align: top;\n",
       "    }\n",
       "\n",
       "    .dataframe thead th {\n",
       "        text-align: right;\n",
       "    }\n",
       "</style>\n",
       "<table border=\"1\" class=\"dataframe\">\n",
       "  <thead>\n",
       "    <tr style=\"text-align: right;\">\n",
       "      <th></th>\n",
       "      <th>model</th>\n",
       "      <th>year</th>\n",
       "      <th>price</th>\n",
       "      <th>transmission</th>\n",
       "      <th>mileage</th>\n",
       "      <th>fuelType</th>\n",
       "      <th>tax</th>\n",
       "      <th>mpg</th>\n",
       "      <th>engineSize</th>\n",
       "    </tr>\n",
       "  </thead>\n",
       "  <tbody>\n",
       "    <tr>\n",
       "      <th>8498</th>\n",
       "      <td>GLC Class</td>\n",
       "      <td>2019.000000</td>\n",
       "      <td>45299</td>\n",
       "      <td>Semi-Auto</td>\n",
       "      <td>2792.0</td>\n",
       "      <td>Diesel</td>\n",
       "      <td>145.0</td>\n",
       "      <td>40.4</td>\n",
       "      <td>2.0</td>\n",
       "    </tr>\n",
       "    <tr>\n",
       "      <th>9102</th>\n",
       "      <td>unknown</td>\n",
       "      <td>2018.000000</td>\n",
       "      <td>19099</td>\n",
       "      <td>Semi-Auto</td>\n",
       "      <td>12321.0</td>\n",
       "      <td>Petrol</td>\n",
       "      <td>145.0</td>\n",
       "      <td>56.5</td>\n",
       "      <td>1.5</td>\n",
       "    </tr>\n",
       "    <tr>\n",
       "      <th>2400</th>\n",
       "      <td>A Class</td>\n",
       "      <td>2019.000000</td>\n",
       "      <td>17702</td>\n",
       "      <td>Automatic</td>\n",
       "      <td>0.0</td>\n",
       "      <td>Diesel</td>\n",
       "      <td>145.0</td>\n",
       "      <td>68.9</td>\n",
       "      <td>1.5</td>\n",
       "    </tr>\n",
       "    <tr>\n",
       "      <th>8294</th>\n",
       "      <td>unknown</td>\n",
       "      <td>2017.333333</td>\n",
       "      <td>21749</td>\n",
       "      <td>Semi-Auto</td>\n",
       "      <td>27178.0</td>\n",
       "      <td>Diesel</td>\n",
       "      <td>160.0</td>\n",
       "      <td>51.4</td>\n",
       "      <td>2.0</td>\n",
       "    </tr>\n",
       "    <tr>\n",
       "      <th>6506</th>\n",
       "      <td>E Class</td>\n",
       "      <td>2018.000000</td>\n",
       "      <td>35950</td>\n",
       "      <td>Automatic</td>\n",
       "      <td>0.0</td>\n",
       "      <td>Diesel</td>\n",
       "      <td>0.0</td>\n",
       "      <td>42.8</td>\n",
       "      <td>3.0</td>\n",
       "    </tr>\n",
       "  </tbody>\n",
       "</table>\n",
       "</div>"
      ],
      "text/plain": [
       "           model         year  price transmission  mileage fuelType    tax  \\\n",
       "8498   GLC Class  2019.000000  45299    Semi-Auto   2792.0   Diesel  145.0   \n",
       "9102     unknown  2018.000000  19099    Semi-Auto  12321.0   Petrol  145.0   \n",
       "2400     A Class  2019.000000  17702    Automatic      0.0   Diesel  145.0   \n",
       "8294     unknown  2017.333333  21749    Semi-Auto  27178.0   Diesel  160.0   \n",
       "6506     E Class  2018.000000  35950    Automatic      0.0   Diesel    0.0   \n",
       "\n",
       "       mpg  engineSize  \n",
       "8498  40.4         2.0  \n",
       "9102  56.5         1.5  \n",
       "2400  68.9         1.5  \n",
       "8294  51.4         2.0  \n",
       "6506  42.8         3.0  "
      ]
     },
     "execution_count": 46,
     "metadata": {},
     "output_type": "execute_result"
    }
   ],
   "source": [
    "Xtrain[num_columns] = imp_knn.fit_transform(Xtrain[num_columns])\n",
    "Xtrain.head()"
   ]
  },
  {
   "cell_type": "code",
   "execution_count": 48,
   "id": "f83e7318-c393-4445-91c3-02bf9eb9b937",
   "metadata": {},
   "outputs": [
    {
     "data": {
      "text/plain": [
       "model           0\n",
       "year            0\n",
       "price           0\n",
       "transmission    0\n",
       "mileage         0\n",
       "fuelType        0\n",
       "tax             0\n",
       "mpg             0\n",
       "engineSize      0\n",
       "dtype: int64"
      ]
     },
     "execution_count": 48,
     "metadata": {},
     "output_type": "execute_result"
    }
   ],
   "source": [
    "Xtrain.isna().sum()"
   ]
  },
  {
   "cell_type": "code",
   "execution_count": 56,
   "id": "31921e9a-2b28-4e40-9a0f-4ddaa6d60d5a",
   "metadata": {},
   "outputs": [],
   "source": [
    "Xtest[zero_cols] = imp_const_0.transform(Xtest[zero_cols])\n",
    "Xtest[unk_cols] = imp_const_unkown.transform(Xtest[unk_cols])\n",
    "Xtest[med_cols] = imp_median.transform(Xtest[med_cols])\n",
    "Xtest[num_columns] = imp_knn.fit_transform(Xtest[num_columns]) # прост transform не работает"
   ]
  },
  {
   "cell_type": "code",
   "execution_count": 58,
   "id": "21cf867f-0438-4457-b6de-f5bb37ea5cb0",
   "metadata": {},
   "outputs": [],
   "source": [
    "Xtrain.to_csv('merc_train.csv', index=False)\n",
    "Xtest.to_csv('merc_test.csv', index=False)"
   ]
  },
  {
   "cell_type": "code",
   "execution_count": 59,
   "id": "44a8b3d0-c79f-48d9-9db9-f83d0b076390",
   "metadata": {},
   "outputs": [],
   "source": [
    "import pandas as pd"
   ]
  },
  {
   "cell_type": "code",
   "execution_count": 60,
   "id": "2dbe2ac7-5af6-4495-adb7-825601e76250",
   "metadata": {},
   "outputs": [
    {
     "data": {
      "text/html": [
       "<div>\n",
       "<style scoped>\n",
       "    .dataframe tbody tr th:only-of-type {\n",
       "        vertical-align: middle;\n",
       "    }\n",
       "\n",
       "    .dataframe tbody tr th {\n",
       "        vertical-align: top;\n",
       "    }\n",
       "\n",
       "    .dataframe thead th {\n",
       "        text-align: right;\n",
       "    }\n",
       "</style>\n",
       "<table border=\"1\" class=\"dataframe\">\n",
       "  <thead>\n",
       "    <tr style=\"text-align: right;\">\n",
       "      <th></th>\n",
       "      <th>model</th>\n",
       "      <th>year</th>\n",
       "      <th>price</th>\n",
       "      <th>transmission</th>\n",
       "      <th>mileage</th>\n",
       "      <th>fuelType</th>\n",
       "      <th>tax</th>\n",
       "      <th>mpg</th>\n",
       "      <th>engineSize</th>\n",
       "    </tr>\n",
       "  </thead>\n",
       "  <tbody>\n",
       "    <tr>\n",
       "      <th>0</th>\n",
       "      <td>GLC Class</td>\n",
       "      <td>2019.000000</td>\n",
       "      <td>45299</td>\n",
       "      <td>Semi-Auto</td>\n",
       "      <td>2792.0</td>\n",
       "      <td>Diesel</td>\n",
       "      <td>145.0</td>\n",
       "      <td>40.4</td>\n",
       "      <td>2.0</td>\n",
       "    </tr>\n",
       "    <tr>\n",
       "      <th>1</th>\n",
       "      <td>unknown</td>\n",
       "      <td>2018.000000</td>\n",
       "      <td>19099</td>\n",
       "      <td>Semi-Auto</td>\n",
       "      <td>12321.0</td>\n",
       "      <td>Petrol</td>\n",
       "      <td>145.0</td>\n",
       "      <td>56.5</td>\n",
       "      <td>1.5</td>\n",
       "    </tr>\n",
       "    <tr>\n",
       "      <th>2</th>\n",
       "      <td>A Class</td>\n",
       "      <td>2019.000000</td>\n",
       "      <td>17702</td>\n",
       "      <td>Automatic</td>\n",
       "      <td>0.0</td>\n",
       "      <td>Diesel</td>\n",
       "      <td>145.0</td>\n",
       "      <td>68.9</td>\n",
       "      <td>1.5</td>\n",
       "    </tr>\n",
       "    <tr>\n",
       "      <th>3</th>\n",
       "      <td>unknown</td>\n",
       "      <td>2017.333333</td>\n",
       "      <td>21749</td>\n",
       "      <td>Semi-Auto</td>\n",
       "      <td>27178.0</td>\n",
       "      <td>Diesel</td>\n",
       "      <td>160.0</td>\n",
       "      <td>51.4</td>\n",
       "      <td>2.0</td>\n",
       "    </tr>\n",
       "    <tr>\n",
       "      <th>4</th>\n",
       "      <td>E Class</td>\n",
       "      <td>2018.000000</td>\n",
       "      <td>35950</td>\n",
       "      <td>Automatic</td>\n",
       "      <td>0.0</td>\n",
       "      <td>Diesel</td>\n",
       "      <td>0.0</td>\n",
       "      <td>42.8</td>\n",
       "      <td>3.0</td>\n",
       "    </tr>\n",
       "  </tbody>\n",
       "</table>\n",
       "</div>"
      ],
      "text/plain": [
       "        model         year  price transmission  mileage fuelType    tax   mpg  \\\n",
       "0   GLC Class  2019.000000  45299    Semi-Auto   2792.0   Diesel  145.0  40.4   \n",
       "1     unknown  2018.000000  19099    Semi-Auto  12321.0   Petrol  145.0  56.5   \n",
       "2     A Class  2019.000000  17702    Automatic      0.0   Diesel  145.0  68.9   \n",
       "3     unknown  2017.333333  21749    Semi-Auto  27178.0   Diesel  160.0  51.4   \n",
       "4     E Class  2018.000000  35950    Automatic      0.0   Diesel    0.0  42.8   \n",
       "\n",
       "   engineSize  \n",
       "0         2.0  \n",
       "1         1.5  \n",
       "2         1.5  \n",
       "3         2.0  \n",
       "4         3.0  "
      ]
     },
     "execution_count": 60,
     "metadata": {},
     "output_type": "execute_result"
    }
   ],
   "source": [
    "df = pd.read_csv('merc_train.csv')\n",
    "df.head()"
   ]
  },
  {
   "cell_type": "code",
   "execution_count": 65,
   "id": "175e07c6-ddf0-49e9-8ddd-4ecbbd11673c",
   "metadata": {},
   "outputs": [
    {
     "name": "stdout",
     "output_type": "stream",
     "text": [
      "Histogram for year\n"
     ]
    },
    {
     "data": {
      "image/png": "[encoded data removed]",
      "text/plain": [
       "<Figure size 640x480 with 1 Axes>"
      ]
     },
     "metadata": {},
     "output_type": "display_data"
    },
    {
     "name": "stdout",
     "output_type": "stream",
     "text": [
      "Histogram for price\n"
     ]
    },
    {
     "data": {
      "image/png": "[encoded data removed]",
      "text/plain": [
       "<Figure size 640x480 with 1 Axes>"
      ]
     },
     "metadata": {},
     "output_type": "display_data"
    },
    {
     "name": "stdout",
     "output_type": "stream",
     "text": [
      "Histogram for mileage\n"
     ]
    },
    {
     "data": {
      "image/png": "[encoded data removed]",
      "text/plain": [
       "<Figure size 640x480 with 1 Axes>"
      ]
     },
     "metadata": {},
     "output_type": "display_data"
    },
    {
     "name": "stdout",
     "output_type": "stream",
     "text": [
      "Histogram for tax\n"
     ]
    },
    {
     "data": {
      "image/png": "[encoded data removed]",
      "text/plain": [
       "<Figure size 640x480 with 1 Axes>"
      ]
     },
     "metadata": {},
     "output_type": "display_data"
    },
    {
     "name": "stdout",
     "output_type": "stream",
     "text": [
      "Histogram for mpg\n"
     ]
    },
    {
     "data": {
      "image/png": "[encoded data removed]",
      "text/plain": [
       "<Figure size 640x480 with 1 Axes>"
      ]
     },
     "metadata": {},
     "output_type": "display_data"
    },
    {
     "name": "stdout",
     "output_type": "stream",
     "text": [
      "Histogram for engineSize\n"
     ]
    },
    {
     "data": {
      "image/png": "[encoded data removed]",
      "text/plain": [
       "<Figure size 640x480 with 1 Axes>"
      ]
     },
     "metadata": {},
     "output_type": "display_data"
    }
   ],
   "source": [
    "import matplotlib.pyplot as plt\n",
    "\n",
    "num_cols = ['year', 'price', 'mileage', 'tax', 'mpg', 'engineSize']\n",
    "\n",
    "for col in num_cols:\n",
    "    print(f'Histogram for {col}')\n",
    "    df[col].hist(bins = 100) # bins = 100, чтобы гистограмы были более гранулярными\n",
    "    plt.show();"
   ]
  },
  {
   "cell_type": "code",
   "execution_count": 66,
   "id": "b66f1dc8-d25e-4e97-bb53-d863cb22a5f3",
   "metadata": {},
   "outputs": [],
   "source": [
    "def calculate_iqr_boundaries(series):\n",
    "    q25 = series.quantile(0.25)\n",
    "    q75 = series.quantile(0.75)\n",
    "    iqr = q75 - q25\n",
    "\n",
    "    boundaries = (q25 - 1.5 * iqr, q75 + 1.5 * iqr)\n",
    "    return boundaries"
   ]
  },
  {
   "cell_type": "code",
   "execution_count": 1,
   "id": "b4b29eac-1807-4870-816c-87b959f0e63d",
   "metadata": {},
   "outputs": [
    {
     "ename": "NameError",
     "evalue": "name 'plt' is not defined",
     "output_type": "error",
     "traceback": [
      "\u001b[1;31m---------------------------------------------------------------------------\u001b[0m",
      "\u001b[1;31mNameError\u001b[0m                                 Traceback (most recent call last)",
      "Cell \u001b[1;32mIn[1], line 1\u001b[0m\n\u001b[1;32m----> 1\u001b[0m plt\u001b[38;5;241m.\u001b[39mboxplot(df\u001b[38;5;241m.\u001b[39mmpg)\n\u001b[0;32m      2\u001b[0m plt\u001b[38;5;241m.\u001b[39mshow\n",
      "\u001b[1;31mNameError\u001b[0m: name 'plt' is not defined"
     ]
    }
   ],
   "source": [
    "plt.boxplot(df.mpg)\n",
    "plt.show;"
   ]
  },
  {
   "cell_type": "code",
   "execution_count": 68,
   "id": "964310ba-bf01-4eb0-9183-5b6081f2441d",
   "metadata": {},
   "outputs": [
    {
     "data": {
      "text/plain": [
       "(31.900000000000006, 79.1)"
      ]
     },
     "execution_count": 68,
     "metadata": {},
     "output_type": "execute_result"
    }
   ],
   "source": [
    "mpg_bounds = calculate_iqr_boundaries(df.mpg)\n",
    "mpg_bounds"
   ]
  },
  {
   "cell_type": "code",
   "execution_count": 71,
   "id": "f9f170ce-66ad-4448-b8eb-a740333cd867",
   "metadata": {},
   "outputs": [
    {
     "name": "stdout",
     "output_type": "stream",
     "text": [
      "9927\n",
      "0.9556218713900655\n"
     ]
    }
   ],
   "source": [
    "df_1 = df[(df.mpg >= mpg_bounds[0]) & (df.mpg <= mpg_bounds[1])]\n",
    "print(df_1.shape[0])\n",
    "print(df_1.shape[0] / df.shape [0])"
   ]
  },
  {
   "cell_type": "code",
   "execution_count": 74,
   "id": "200ed224-9009-444c-b5c9-ce00a2a66964",
   "metadata": {},
   "outputs": [
    {
     "data": {
      "image/png": "[encoded data removed]",
      "text/plain": [
       "<Figure size 640x480 with 1 Axes>"
      ]
     },
     "metadata": {},
     "output_type": "display_data"
    }
   ],
   "source": [
    "plt.scatter(df_1.year, df_1.price);"
   ]
  },
  {
   "cell_type": "code",
   "execution_count": 75,
   "id": "fc78c39b-2ffc-4bbf-82cc-2fdb818f6a62",
   "metadata": {},
   "outputs": [],
   "source": [
    "from sklearn.ensemble import IsolationForest"
   ]
  },
  {
   "cell_type": "code",
   "execution_count": 76,
   "id": "e0fb0d16-3deb-4e16-b600-e24f006d913e",
   "metadata": {},
   "outputs": [],
   "source": [
    "isf = IsolationForest(n_estimators=100, contamination=0.005, random_state=42)\n",
    "\n",
    "y_pred = isf.fit_predict(df_1[['year', 'price']])"
   ]
  },
  {
   "cell_type": "code",
   "execution_count": 77,
   "id": "674ce2b6-8907-4ed5-89df-1743c2b0183c",
   "metadata": {},
   "outputs": [
    {
     "name": "stderr",
     "output_type": "stream",
     "text": [
      "C:\\Users\\Георгий\\AppData\\Local\\Temp\\ipykernel_14584\\3753726104.py:1: SettingWithCopyWarning: \n",
      "A value is trying to be set on a copy of a slice from a DataFrame.\n",
      "Try using .loc[row_indexer,col_indexer] = value instead\n",
      "\n",
      "See the caveats in the documentation: https://pandas.pydata.org/pandas-docs/stable/user_guide/indexing.html#returning-a-view-versus-a-copy\n",
      "  df_1['price_year_outlier'] = y_pred\n"
     ]
    },
    {
     "data": {
      "text/html": [
       "<div>\n",
       "<style scoped>\n",
       "    .dataframe tbody tr th:only-of-type {\n",
       "        vertical-align: middle;\n",
       "    }\n",
       "\n",
       "    .dataframe tbody tr th {\n",
       "        vertical-align: top;\n",
       "    }\n",
       "\n",
       "    .dataframe thead th {\n",
       "        text-align: right;\n",
       "    }\n",
       "</style>\n",
       "<table border=\"1\" class=\"dataframe\">\n",
       "  <thead>\n",
       "    <tr style=\"text-align: right;\">\n",
       "      <th></th>\n",
       "      <th>model</th>\n",
       "      <th>year</th>\n",
       "      <th>price</th>\n",
       "      <th>transmission</th>\n",
       "      <th>mileage</th>\n",
       "      <th>fuelType</th>\n",
       "      <th>tax</th>\n",
       "      <th>mpg</th>\n",
       "      <th>engineSize</th>\n",
       "      <th>price_year_outlier</th>\n",
       "    </tr>\n",
       "  </thead>\n",
       "  <tbody>\n",
       "    <tr>\n",
       "      <th>0</th>\n",
       "      <td>GLC Class</td>\n",
       "      <td>2019.000000</td>\n",
       "      <td>45299</td>\n",
       "      <td>Semi-Auto</td>\n",
       "      <td>2792.0</td>\n",
       "      <td>Diesel</td>\n",
       "      <td>145.0</td>\n",
       "      <td>40.4</td>\n",
       "      <td>2.0</td>\n",
       "      <td>1</td>\n",
       "    </tr>\n",
       "    <tr>\n",
       "      <th>1</th>\n",
       "      <td>unknown</td>\n",
       "      <td>2018.000000</td>\n",
       "      <td>19099</td>\n",
       "      <td>Semi-Auto</td>\n",
       "      <td>12321.0</td>\n",
       "      <td>Petrol</td>\n",
       "      <td>145.0</td>\n",
       "      <td>56.5</td>\n",
       "      <td>1.5</td>\n",
       "      <td>1</td>\n",
       "    </tr>\n",
       "    <tr>\n",
       "      <th>2</th>\n",
       "      <td>A Class</td>\n",
       "      <td>2019.000000</td>\n",
       "      <td>17702</td>\n",
       "      <td>Automatic</td>\n",
       "      <td>0.0</td>\n",
       "      <td>Diesel</td>\n",
       "      <td>145.0</td>\n",
       "      <td>68.9</td>\n",
       "      <td>1.5</td>\n",
       "      <td>1</td>\n",
       "    </tr>\n",
       "    <tr>\n",
       "      <th>3</th>\n",
       "      <td>unknown</td>\n",
       "      <td>2017.333333</td>\n",
       "      <td>21749</td>\n",
       "      <td>Semi-Auto</td>\n",
       "      <td>27178.0</td>\n",
       "      <td>Diesel</td>\n",
       "      <td>160.0</td>\n",
       "      <td>51.4</td>\n",
       "      <td>2.0</td>\n",
       "      <td>1</td>\n",
       "    </tr>\n",
       "    <tr>\n",
       "      <th>4</th>\n",
       "      <td>E Class</td>\n",
       "      <td>2018.000000</td>\n",
       "      <td>35950</td>\n",
       "      <td>Automatic</td>\n",
       "      <td>0.0</td>\n",
       "      <td>Diesel</td>\n",
       "      <td>0.0</td>\n",
       "      <td>42.8</td>\n",
       "      <td>3.0</td>\n",
       "      <td>1</td>\n",
       "    </tr>\n",
       "  </tbody>\n",
       "</table>\n",
       "</div>"
      ],
      "text/plain": [
       "        model         year  price transmission  mileage fuelType    tax   mpg  \\\n",
       "0   GLC Class  2019.000000  45299    Semi-Auto   2792.0   Diesel  145.0  40.4   \n",
       "1     unknown  2018.000000  19099    Semi-Auto  12321.0   Petrol  145.0  56.5   \n",
       "2     A Class  2019.000000  17702    Automatic      0.0   Diesel  145.0  68.9   \n",
       "3     unknown  2017.333333  21749    Semi-Auto  27178.0   Diesel  160.0  51.4   \n",
       "4     E Class  2018.000000  35950    Automatic      0.0   Diesel    0.0  42.8   \n",
       "\n",
       "   engineSize  price_year_outlier  \n",
       "0         2.0                   1  \n",
       "1         1.5                   1  \n",
       "2         1.5                   1  \n",
       "3         2.0                   1  \n",
       "4         3.0                   1  "
      ]
     },
     "execution_count": 77,
     "metadata": {},
     "output_type": "execute_result"
    }
   ],
   "source": [
    "df_1['price_year_outlier'] = y_pred\n",
    "df_1.head()"
   ]
  },
  {
   "cell_type": "code",
   "execution_count": 78,
   "id": "1c1795e9-3194-4e6a-ad0c-42e0aed5aff9",
   "metadata": {},
   "outputs": [
    {
     "data": {
      "text/plain": [
       "<matplotlib.collections.PathCollection at 0x22bdcb4d950>"
      ]
     },
     "execution_count": 78,
     "metadata": {},
     "output_type": "execute_result"
    },
    {
     "data": {
      "image/png": "[encoded data removed]",
      "text/plain": [
       "<Figure size 640x480 with 1 Axes>"
      ]
     },
     "metadata": {},
     "output_type": "display_data"
    }
   ],
   "source": [
    "plt.scatter(df_1.year, df_1.price, c=df_1['price_year_outlier'])"
   ]
  },
  {
   "cell_type": "code",
   "execution_count": 79,
   "id": "4a53a4b1-98fd-4885-a5d4-6214f098ee3a",
   "metadata": {},
   "outputs": [
    {
     "data": {
      "text/html": [
       "<div>\n",
       "<style scoped>\n",
       "    .dataframe tbody tr th:only-of-type {\n",
       "        vertical-align: middle;\n",
       "    }\n",
       "\n",
       "    .dataframe tbody tr th {\n",
       "        vertical-align: top;\n",
       "    }\n",
       "\n",
       "    .dataframe thead th {\n",
       "        text-align: right;\n",
       "    }\n",
       "</style>\n",
       "<table border=\"1\" class=\"dataframe\">\n",
       "  <thead>\n",
       "    <tr style=\"text-align: right;\">\n",
       "      <th></th>\n",
       "      <th>model</th>\n",
       "      <th>year</th>\n",
       "      <th>price</th>\n",
       "      <th>transmission</th>\n",
       "      <th>mileage</th>\n",
       "      <th>fuelType</th>\n",
       "      <th>tax</th>\n",
       "      <th>mpg</th>\n",
       "      <th>engineSize</th>\n",
       "      <th>price_year_outlier</th>\n",
       "    </tr>\n",
       "  </thead>\n",
       "  <tbody>\n",
       "    <tr>\n",
       "      <th>0</th>\n",
       "      <td>GLC Class</td>\n",
       "      <td>2019.000000</td>\n",
       "      <td>45299</td>\n",
       "      <td>Semi-Auto</td>\n",
       "      <td>2792.0</td>\n",
       "      <td>Diesel</td>\n",
       "      <td>145.0</td>\n",
       "      <td>40.4</td>\n",
       "      <td>2.0</td>\n",
       "      <td>1</td>\n",
       "    </tr>\n",
       "    <tr>\n",
       "      <th>1</th>\n",
       "      <td>unknown</td>\n",
       "      <td>2018.000000</td>\n",
       "      <td>19099</td>\n",
       "      <td>Semi-Auto</td>\n",
       "      <td>12321.0</td>\n",
       "      <td>Petrol</td>\n",
       "      <td>145.0</td>\n",
       "      <td>56.5</td>\n",
       "      <td>1.5</td>\n",
       "      <td>1</td>\n",
       "    </tr>\n",
       "    <tr>\n",
       "      <th>2</th>\n",
       "      <td>A Class</td>\n",
       "      <td>2019.000000</td>\n",
       "      <td>17702</td>\n",
       "      <td>Automatic</td>\n",
       "      <td>0.0</td>\n",
       "      <td>Diesel</td>\n",
       "      <td>145.0</td>\n",
       "      <td>68.9</td>\n",
       "      <td>1.5</td>\n",
       "      <td>1</td>\n",
       "    </tr>\n",
       "    <tr>\n",
       "      <th>3</th>\n",
       "      <td>unknown</td>\n",
       "      <td>2017.333333</td>\n",
       "      <td>21749</td>\n",
       "      <td>Semi-Auto</td>\n",
       "      <td>27178.0</td>\n",
       "      <td>Diesel</td>\n",
       "      <td>160.0</td>\n",
       "      <td>51.4</td>\n",
       "      <td>2.0</td>\n",
       "      <td>1</td>\n",
       "    </tr>\n",
       "    <tr>\n",
       "      <th>4</th>\n",
       "      <td>E Class</td>\n",
       "      <td>2018.000000</td>\n",
       "      <td>35950</td>\n",
       "      <td>Automatic</td>\n",
       "      <td>0.0</td>\n",
       "      <td>Diesel</td>\n",
       "      <td>0.0</td>\n",
       "      <td>42.8</td>\n",
       "      <td>3.0</td>\n",
       "      <td>1</td>\n",
       "    </tr>\n",
       "  </tbody>\n",
       "</table>\n",
       "</div>"
      ],
      "text/plain": [
       "        model         year  price transmission  mileage fuelType    tax   mpg  \\\n",
       "0   GLC Class  2019.000000  45299    Semi-Auto   2792.0   Diesel  145.0  40.4   \n",
       "1     unknown  2018.000000  19099    Semi-Auto  12321.0   Petrol  145.0  56.5   \n",
       "2     A Class  2019.000000  17702    Automatic      0.0   Diesel  145.0  68.9   \n",
       "3     unknown  2017.333333  21749    Semi-Auto  27178.0   Diesel  160.0  51.4   \n",
       "4     E Class  2018.000000  35950    Automatic      0.0   Diesel    0.0  42.8   \n",
       "\n",
       "   engineSize  price_year_outlier  \n",
       "0         2.0                   1  \n",
       "1         1.5                   1  \n",
       "2         1.5                   1  \n",
       "3         2.0                   1  \n",
       "4         3.0                   1  "
      ]
     },
     "execution_count": 79,
     "metadata": {},
     "output_type": "execute_result"
    }
   ],
   "source": [
    "df_2 = df_1[df_1.price_year_outlier == 1]\n",
    "df_2.head()"
   ]
  },
  {
   "cell_type": "code",
   "execution_count": 96,
   "id": "d1f90651-55fe-4c6e-a622-de398a660c1b",
   "metadata": {},
   "outputs": [
    {
     "data": {
      "image/png": "[encoded data removed]",
      "text/plain": [
       "<Figure size 640x480 with 1 Axes>"
      ]
     },
     "metadata": {},
     "output_type": "display_data"
    }
   ],
   "source": [
    "df_2.fuelType.hist()\n",
    "plt.show();"
   ]
  },
  {
   "cell_type": "code",
   "execution_count": 97,
   "id": "10d4ceea-a80f-4635-98e2-e3780073038d",
   "metadata": {},
   "outputs": [],
   "source": [
    "serie = df_2.fuelType.value_counts()"
   ]
  },
  {
   "cell_type": "code",
   "execution_count": 98,
   "id": "393f8b4a-6f68-41d2-b92b-dd80027ee5ed",
   "metadata": {},
   "outputs": [
    {
     "data": {
      "text/plain": [
       "fuelType\n",
       "Diesel    7181\n",
       "Petrol    2625\n",
       "Hybrid      71\n",
       "Other        1\n",
       "Name: count, dtype: int64"
      ]
     },
     "execution_count": 98,
     "metadata": {},
     "output_type": "execute_result"
    }
   ],
   "source": [
    "serie"
   ]
  },
  {
   "cell_type": "code",
   "execution_count": 99,
   "id": "47f50a2b-1252-4a19-a958-d3d7dc0e5c88",
   "metadata": {},
   "outputs": [
    {
     "data": {
      "text/plain": [
       "fuelType\n",
       "Diesel    72.696902\n",
       "Petrol    26.574205\n",
       "Hybrid     0.718769\n",
       "Other      0.010124\n",
       "Name: count, dtype: float64"
      ]
     },
     "execution_count": 99,
     "metadata": {},
     "output_type": "execute_result"
    }
   ],
   "source": [
    "serie = serie / serie.sum() * 100\n",
    "serie"
   ]
  },
  {
   "cell_type": "code",
   "execution_count": 100,
   "id": "38ec6b95-4493-4340-90e6-d777d6e378d6",
   "metadata": {},
   "outputs": [
    {
     "data": {
      "text/plain": [
       "Index(['Diesel', 'Petrol'], dtype='object', name='fuelType')"
      ]
     },
     "execution_count": 100,
     "metadata": {},
     "output_type": "execute_result"
    }
   ],
   "source": [
    "keep_cats = serie[serie > 5].index\n",
    "keep_cats"
   ]
  },
  {
   "cell_type": "code",
   "execution_count": 101,
   "id": "d70144cf-2353-4434-9e0b-2bcb45033e2d",
   "metadata": {},
   "outputs": [
    {
     "name": "stderr",
     "output_type": "stream",
     "text": [
      "C:\\Users\\Георгий\\AppData\\Local\\Temp\\ipykernel_14584\\681885417.py:3: SettingWithCopyWarning: \n",
      "A value is trying to be set on a copy of a slice from a DataFrame.\n",
      "Try using .loc[row_indexer,col_indexer] = value instead\n",
      "\n",
      "See the caveats in the documentation: https://pandas.pydata.org/pandas-docs/stable/user_guide/indexing.html#returning-a-view-versus-a-copy\n",
      "  df_2.fuelType = np.where(df_2.fuelType.isin(keep_cats), df_2.fuelType, 'Other')\n"
     ]
    },
    {
     "data": {
      "text/plain": [
       "<Axes: >"
      ]
     },
     "execution_count": 101,
     "metadata": {},
     "output_type": "execute_result"
    },
    {
     "data": {
      "image/png": "[encoded data removed]",
      "text/plain": [
       "<Figure size 640x480 with 1 Axes>"
      ]
     },
     "metadata": {},
     "output_type": "display_data"
    }
   ],
   "source": [
    "import numpy as np\n",
    "\n",
    "df_2.fuelType = np.where(df_2.fuelType.isin(keep_cats), df_2.fuelType, 'Other')\n",
    "df_2.fuelType.hist()"
   ]
  },
  {
   "cell_type": "code",
   "execution_count": 103,
   "id": "c0ba51cf-a3c3-42e9-86f3-76f15971e53e",
   "metadata": {},
   "outputs": [],
   "source": [
    "df_2.to_csv('merc_train.csv', index=False)"
   ]
  },
  {
   "cell_type": "code",
   "execution_count": 1,
   "id": "6e6e1797-a3b4-4879-a341-8c260296dac8",
   "metadata": {},
   "outputs": [],
   "source": [
    "import pandas as pd"
   ]
  },
  {
   "cell_type": "code",
   "execution_count": 3,
   "id": "6022966c-acee-494f-bbb4-2d1184f1b2e1",
   "metadata": {},
   "outputs": [
    {
     "data": {
      "text/html": [
       "<div>\n",
       "<style scoped>\n",
       "    .dataframe tbody tr th:only-of-type {\n",
       "        vertical-align: middle;\n",
       "    }\n",
       "\n",
       "    .dataframe tbody tr th {\n",
       "        vertical-align: top;\n",
       "    }\n",
       "\n",
       "    .dataframe thead th {\n",
       "        text-align: right;\n",
       "    }\n",
       "</style>\n",
       "<table border=\"1\" class=\"dataframe\">\n",
       "  <thead>\n",
       "    <tr style=\"text-align: right;\">\n",
       "      <th></th>\n",
       "      <th>model</th>\n",
       "      <th>year</th>\n",
       "      <th>price</th>\n",
       "      <th>transmission</th>\n",
       "      <th>mileage</th>\n",
       "      <th>fuelType</th>\n",
       "      <th>tax</th>\n",
       "      <th>mpg</th>\n",
       "      <th>engineSize</th>\n",
       "      <th>price_year_outlier</th>\n",
       "    </tr>\n",
       "  </thead>\n",
       "  <tbody>\n",
       "    <tr>\n",
       "      <th>0</th>\n",
       "      <td>GLC Class</td>\n",
       "      <td>2019.000000</td>\n",
       "      <td>45299</td>\n",
       "      <td>Semi-Auto</td>\n",
       "      <td>2792.0</td>\n",
       "      <td>Diesel</td>\n",
       "      <td>145.0</td>\n",
       "      <td>40.4</td>\n",
       "      <td>2.0</td>\n",
       "      <td>1</td>\n",
       "    </tr>\n",
       "    <tr>\n",
       "      <th>1</th>\n",
       "      <td>unknown</td>\n",
       "      <td>2018.000000</td>\n",
       "      <td>19099</td>\n",
       "      <td>Semi-Auto</td>\n",
       "      <td>12321.0</td>\n",
       "      <td>Petrol</td>\n",
       "      <td>145.0</td>\n",
       "      <td>56.5</td>\n",
       "      <td>1.5</td>\n",
       "      <td>1</td>\n",
       "    </tr>\n",
       "    <tr>\n",
       "      <th>2</th>\n",
       "      <td>A Class</td>\n",
       "      <td>2019.000000</td>\n",
       "      <td>17702</td>\n",
       "      <td>Automatic</td>\n",
       "      <td>0.0</td>\n",
       "      <td>Diesel</td>\n",
       "      <td>145.0</td>\n",
       "      <td>68.9</td>\n",
       "      <td>1.5</td>\n",
       "      <td>1</td>\n",
       "    </tr>\n",
       "    <tr>\n",
       "      <th>3</th>\n",
       "      <td>unknown</td>\n",
       "      <td>2017.333333</td>\n",
       "      <td>21749</td>\n",
       "      <td>Semi-Auto</td>\n",
       "      <td>27178.0</td>\n",
       "      <td>Diesel</td>\n",
       "      <td>160.0</td>\n",
       "      <td>51.4</td>\n",
       "      <td>2.0</td>\n",
       "      <td>1</td>\n",
       "    </tr>\n",
       "    <tr>\n",
       "      <th>4</th>\n",
       "      <td>E Class</td>\n",
       "      <td>2018.000000</td>\n",
       "      <td>35950</td>\n",
       "      <td>Automatic</td>\n",
       "      <td>0.0</td>\n",
       "      <td>Diesel</td>\n",
       "      <td>0.0</td>\n",
       "      <td>42.8</td>\n",
       "      <td>3.0</td>\n",
       "      <td>1</td>\n",
       "    </tr>\n",
       "  </tbody>\n",
       "</table>\n",
       "</div>"
      ],
      "text/plain": [
       "        model         year  price transmission  mileage fuelType    tax   mpg  \\\n",
       "0   GLC Class  2019.000000  45299    Semi-Auto   2792.0   Diesel  145.0  40.4   \n",
       "1     unknown  2018.000000  19099    Semi-Auto  12321.0   Petrol  145.0  56.5   \n",
       "2     A Class  2019.000000  17702    Automatic      0.0   Diesel  145.0  68.9   \n",
       "3     unknown  2017.333333  21749    Semi-Auto  27178.0   Diesel  160.0  51.4   \n",
       "4     E Class  2018.000000  35950    Automatic      0.0   Diesel    0.0  42.8   \n",
       "\n",
       "   engineSize  price_year_outlier  \n",
       "0         2.0                   1  \n",
       "1         1.5                   1  \n",
       "2         1.5                   1  \n",
       "3         2.0                   1  \n",
       "4         3.0                   1  "
      ]
     },
     "execution_count": 3,
     "metadata": {},
     "output_type": "execute_result"
    }
   ],
   "source": [
    "df = pd.read_csv('merc_train.csv')\n",
    "df.head()"
   ]
  },
  {
   "cell_type": "code",
   "execution_count": 5,
   "id": "f83e628f-cd86-4074-9ad2-1b3e5377f22a",
   "metadata": {},
   "outputs": [
    {
     "data": {
      "text/html": [
       "<div>\n",
       "<style scoped>\n",
       "    .dataframe tbody tr th:only-of-type {\n",
       "        vertical-align: middle;\n",
       "    }\n",
       "\n",
       "    .dataframe tbody tr th {\n",
       "        vertical-align: top;\n",
       "    }\n",
       "\n",
       "    .dataframe thead th {\n",
       "        text-align: right;\n",
       "    }\n",
       "</style>\n",
       "<table border=\"1\" class=\"dataframe\">\n",
       "  <thead>\n",
       "    <tr style=\"text-align: right;\">\n",
       "      <th></th>\n",
       "      <th>price</th>\n",
       "      <th>mileage</th>\n",
       "      <th>tax</th>\n",
       "      <th>mpg</th>\n",
       "    </tr>\n",
       "  </thead>\n",
       "  <tbody>\n",
       "    <tr>\n",
       "      <th>count</th>\n",
       "      <td>9878.000000</td>\n",
       "      <td>9878.000000</td>\n",
       "      <td>9878.000000</td>\n",
       "      <td>9878.000000</td>\n",
       "    </tr>\n",
       "    <tr>\n",
       "      <th>mean</th>\n",
       "      <td>23977.823547</td>\n",
       "      <td>15406.251367</td>\n",
       "      <td>91.372748</td>\n",
       "      <td>55.928822</td>\n",
       "    </tr>\n",
       "    <tr>\n",
       "      <th>std</th>\n",
       "      <td>9700.322643</td>\n",
       "      <td>19573.638481</td>\n",
       "      <td>75.633088</td>\n",
       "      <td>9.038497</td>\n",
       "    </tr>\n",
       "    <tr>\n",
       "      <th>min</th>\n",
       "      <td>1495.000000</td>\n",
       "      <td>0.000000</td>\n",
       "      <td>0.000000</td>\n",
       "      <td>32.100000</td>\n",
       "    </tr>\n",
       "    <tr>\n",
       "      <th>25%</th>\n",
       "      <td>17399.000000</td>\n",
       "      <td>0.000000</td>\n",
       "      <td>0.000000</td>\n",
       "      <td>51.625000</td>\n",
       "    </tr>\n",
       "    <tr>\n",
       "      <th>50%</th>\n",
       "      <td>22299.500000</td>\n",
       "      <td>8290.500000</td>\n",
       "      <td>145.000000</td>\n",
       "      <td>56.500000</td>\n",
       "    </tr>\n",
       "    <tr>\n",
       "      <th>75%</th>\n",
       "      <td>28480.000000</td>\n",
       "      <td>24172.250000</td>\n",
       "      <td>145.000000</td>\n",
       "      <td>61.400000</td>\n",
       "    </tr>\n",
       "    <tr>\n",
       "      <th>max</th>\n",
       "      <td>134219.000000</td>\n",
       "      <td>166086.000000</td>\n",
       "      <td>580.000000</td>\n",
       "      <td>78.500000</td>\n",
       "    </tr>\n",
       "  </tbody>\n",
       "</table>\n",
       "</div>"
      ],
      "text/plain": [
       "               price        mileage          tax          mpg\n",
       "count    9878.000000    9878.000000  9878.000000  9878.000000\n",
       "mean    23977.823547   15406.251367    91.372748    55.928822\n",
       "std      9700.322643   19573.638481    75.633088     9.038497\n",
       "min      1495.000000       0.000000     0.000000    32.100000\n",
       "25%     17399.000000       0.000000     0.000000    51.625000\n",
       "50%     22299.500000    8290.500000   145.000000    56.500000\n",
       "75%     28480.000000   24172.250000   145.000000    61.400000\n",
       "max    134219.000000  166086.000000   580.000000    78.500000"
      ]
     },
     "execution_count": 5,
     "metadata": {},
     "output_type": "execute_result"
    }
   ],
   "source": [
    "df1 = df[['price', 'mileage', 'tax', 'mpg']]\n",
    "df1.describe()"
   ]
  },
  {
   "cell_type": "code",
   "execution_count": 7,
   "id": "dd5b38db-18b7-4388-9184-31c2a0ef78f8",
   "metadata": {},
   "outputs": [],
   "source": [
    "from sklearn.preprocessing import StandardScaler\n",
    "\n",
    "scaler = StandardScaler()"
   ]
  },
  {
   "cell_type": "code",
   "execution_count": 9,
   "id": "8d731fb2-1838-46c1-ad3a-3288c5868a53",
   "metadata": {},
   "outputs": [
    {
     "data": {
      "text/plain": [
       "array([[-0.64448365,  0.70908075, -1.71816258],\n",
       "       [-0.15763076,  0.70908075,  0.06319715],\n",
       "       [-0.7871317 ,  0.70908075,  1.43517608],\n",
       "       ...,\n",
       "       [-0.7871317 , -0.94371871,  1.081117  ],\n",
       "       [-0.7871317 ,  0.70908075,  1.43517608],\n",
       "       [-0.71054523,  0.70908075, -1.9615782 ]])"
      ]
     },
     "execution_count": 9,
     "metadata": {},
     "output_type": "execute_result"
    }
   ],
   "source": [
    "Xtrain = df[['mileage', 'tax', 'mpg']]\n",
    "ytrain = df['price']\n",
    "\n",
    "Xtrains = scaler.fit_transform(Xtrain)\n",
    "\n",
    "Xtrains"
   ]
  },
  {
   "cell_type": "code",
   "execution_count": 10,
   "id": "e7580bf3-61a6-4132-9f3a-f3a2e262db2b",
   "metadata": {},
   "outputs": [
    {
     "data": {
      "text/html": [
       "<div>\n",
       "<style scoped>\n",
       "    .dataframe tbody tr th:only-of-type {\n",
       "        vertical-align: middle;\n",
       "    }\n",
       "\n",
       "    .dataframe tbody tr th {\n",
       "        vertical-align: top;\n",
       "    }\n",
       "\n",
       "    .dataframe thead th {\n",
       "        text-align: right;\n",
       "    }\n",
       "</style>\n",
       "<table border=\"1\" class=\"dataframe\">\n",
       "  <thead>\n",
       "    <tr style=\"text-align: right;\">\n",
       "      <th></th>\n",
       "      <th>mileage</th>\n",
       "      <th>tax</th>\n",
       "      <th>mpg</th>\n",
       "    </tr>\n",
       "  </thead>\n",
       "  <tbody>\n",
       "    <tr>\n",
       "      <th>count</th>\n",
       "      <td>9.878000e+03</td>\n",
       "      <td>9.878000e+03</td>\n",
       "      <td>9.878000e+03</td>\n",
       "    </tr>\n",
       "    <tr>\n",
       "      <th>mean</th>\n",
       "      <td>-6.473866e-18</td>\n",
       "      <td>-8.919548e-17</td>\n",
       "      <td>-4.632411e-16</td>\n",
       "    </tr>\n",
       "    <tr>\n",
       "      <th>std</th>\n",
       "      <td>1.000051e+00</td>\n",
       "      <td>1.000051e+00</td>\n",
       "      <td>1.000051e+00</td>\n",
       "    </tr>\n",
       "    <tr>\n",
       "      <th>min</th>\n",
       "      <td>-7.871317e-01</td>\n",
       "      <td>-1.208167e+00</td>\n",
       "      <td>-2.636503e+00</td>\n",
       "    </tr>\n",
       "    <tr>\n",
       "      <th>25%</th>\n",
       "      <td>-7.871317e-01</td>\n",
       "      <td>-1.208167e+00</td>\n",
       "      <td>-4.761897e-01</td>\n",
       "    </tr>\n",
       "    <tr>\n",
       "      <th>50%</th>\n",
       "      <td>-3.635559e-01</td>\n",
       "      <td>7.090808e-01</td>\n",
       "      <td>6.319715e-02</td>\n",
       "    </tr>\n",
       "    <tr>\n",
       "      <th>75%</th>\n",
       "      <td>4.478698e-01</td>\n",
       "      <td>7.090808e-01</td>\n",
       "      <td>6.053501e-01</td>\n",
       "    </tr>\n",
       "    <tr>\n",
       "      <th>max</th>\n",
       "      <td>7.698486e+00</td>\n",
       "      <td>6.460823e+00</td>\n",
       "      <td>2.497353e+00</td>\n",
       "    </tr>\n",
       "  </tbody>\n",
       "</table>\n",
       "</div>"
      ],
      "text/plain": [
       "            mileage           tax           mpg\n",
       "count  9.878000e+03  9.878000e+03  9.878000e+03\n",
       "mean  -6.473866e-18 -8.919548e-17 -4.632411e-16\n",
       "std    1.000051e+00  1.000051e+00  1.000051e+00\n",
       "min   -7.871317e-01 -1.208167e+00 -2.636503e+00\n",
       "25%   -7.871317e-01 -1.208167e+00 -4.761897e-01\n",
       "50%   -3.635559e-01  7.090808e-01  6.319715e-02\n",
       "75%    4.478698e-01  7.090808e-01  6.053501e-01\n",
       "max    7.698486e+00  6.460823e+00  2.497353e+00"
      ]
     },
     "execution_count": 10,
     "metadata": {},
     "output_type": "execute_result"
    }
   ],
   "source": [
    "dfXs = pd.DataFrame(Xtrains, columns = Xtrain.columns)\n",
    "dfXs.describe()"
   ]
  },
  {
   "cell_type": "code",
   "execution_count": 11,
   "id": "de8d47c4-ff11-4071-b6ca-fc2e53212f8c",
   "metadata": {},
   "outputs": [],
   "source": [
    "from sklearn.linear_model import LinearRegression\n",
    "\n",
    "irl = LinearRegression()"
   ]
  },
  {
   "cell_type": "code",
   "execution_count": 15,
   "id": "2c5a00db-a1c9-4a58-8c04-1241ce9ad56b",
   "metadata": {},
   "outputs": [
    {
     "name": "stdout",
     "output_type": "stream",
     "text": [
      "1.01 ms ± 22.5 µs per loop (mean ± std. dev. of 7 runs, 1,000 loops each)\n"
     ]
    }
   ],
   "source": [
    "%%timeit\n",
    "irl.fit(Xtrain, ytrain)"
   ]
  },
  {
   "cell_type": "code",
   "execution_count": 16,
   "id": "1a48a58a-cdfa-4b9e-aae0-0314dd242fde",
   "metadata": {},
   "outputs": [
    {
     "data": {
      "text/plain": [
       "63379059.24894533"
      ]
     },
     "execution_count": 16,
     "metadata": {},
     "output_type": "execute_result"
    }
   ],
   "source": [
    "from sklearn.metrics import mean_squared_error\n",
    "\n",
    "y_pred = irl.predict(Xtrain)\n",
    "mean_squared_error(ytrain, y_pred)"
   ]
  },
  {
   "cell_type": "code",
   "execution_count": 17,
   "id": "d22c0922-6654-4b2d-8b23-6a9e422283ca",
   "metadata": {},
   "outputs": [],
   "source": [
    "lr2 = LinearRegression()"
   ]
  },
  {
   "cell_type": "code",
   "execution_count": 18,
   "id": "9f60f547-0bab-4d68-a3a5-a564b6bb81f3",
   "metadata": {},
   "outputs": [
    {
     "name": "stdout",
     "output_type": "stream",
     "text": [
      "993 µs ± 6.63 µs per loop (mean ± std. dev. of 7 runs, 1,000 loops each)\n"
     ]
    }
   ],
   "source": [
    "%%timeit\n",
    "lr2.fit(dfXs, ytrain)"
   ]
  },
  {
   "cell_type": "code",
   "execution_count": 19,
   "id": "458c598e-4bca-4fc8-91c9-1efcbdfa0894",
   "metadata": {},
   "outputs": [
    {
     "data": {
      "text/plain": [
       "63379059.24894533"
      ]
     },
     "execution_count": 19,
     "metadata": {},
     "output_type": "execute_result"
    }
   ],
   "source": [
    "y_pred = lr2.predict(dfXs)\n",
    "mean_squared_error(ytrain, y_pred)"
   ]
  },
  {
   "cell_type": "code",
   "execution_count": 20,
   "id": "61d0fc2e-ba2f-4d0b-a19f-0718bf91aae0",
   "metadata": {},
   "outputs": [
    {
     "name": "stdout",
     "output_type": "stream",
     "text": [
      "mileage: -3494.7856139558685\n",
      "tax: 597.8373548402983\n",
      "mpg: -3557.995670261803\n",
      "Intercept: 23977.823547276777\n"
     ]
    }
   ],
   "source": [
    "for feature, coef in zip(Xtrain.columns, lr2.coef_):\n",
    "    print(f'{feature}: {coef}')\n",
    "print(f'Intercept: {lr2.intercept_}')"
   ]
  },
  {
   "cell_type": "code",
   "execution_count": 25,
   "id": "54d256b3-25f1-42ce-b727-dfcff4bf3143",
   "metadata": {},
   "outputs": [],
   "source": [
    "from sklearn.preprocessing import MinMaxScaler\n",
    "\n",
    "mmscaler = MinMaxScaler()\n",
    "\n",
    "Xtrainmm = mmscaler.fit_transform(Xtrain)\n",
    "\n",
    "lr3 = LinearRegression()"
   ]
  },
  {
   "cell_type": "code",
   "execution_count": 26,
   "id": "a639212e-7537-4797-b316-22f383c3700f",
   "metadata": {},
   "outputs": [
    {
     "name": "stdout",
     "output_type": "stream",
     "text": [
      "583 µs ± 6.14 µs per loop (mean ± std. dev. of 7 runs, 1,000 loops each)\n"
     ]
    }
   ],
   "source": [
    "%%timeit\n",
    "lr3.fit(Xtrainmm, ytrain)"
   ]
  },
  {
   "cell_type": "code",
   "execution_count": 27,
   "id": "fb74f59f-f16e-47f4-8496-718962487549",
   "metadata": {},
   "outputs": [
    {
     "data": {
      "text/plain": [
       "63379059.24894533"
      ]
     },
     "execution_count": 27,
     "metadata": {},
     "output_type": "execute_result"
    }
   ],
   "source": [
    "y_pred = lr3.predict(Xtrainmm)\n",
    "mean_squared_error(ytrain, y_pred)"
   ]
  },
  {
   "cell_type": "code",
   "execution_count": 28,
   "id": "cb1847f1-957f-4198-a0e7-968efc9c66bf",
   "metadata": {},
   "outputs": [
    {
     "data": {
      "text/plain": [
       "<Axes: >"
      ]
     },
     "execution_count": 28,
     "metadata": {},
     "output_type": "execute_result"
    },
    {
     "data": {
      "image/png": "[encoded data removed]",
      "text/plain": [
       "<Figure size 640x480 with 1 Axes>"
      ]
     },
     "metadata": {},
     "output_type": "display_data"
    }
   ],
   "source": [
    "Xtrain.plot(kind='box')"
   ]
  },
  {
   "cell_type": "code",
   "execution_count": 29,
   "id": "1b467722-7518-4d43-b57c-14eeb4927761",
   "metadata": {},
   "outputs": [
    {
     "data": {
      "text/plain": [
       "<Axes: >"
      ]
     },
     "execution_count": 29,
     "metadata": {},
     "output_type": "execute_result"
    },
    {
     "data": {
      "image/png": "[encoded data removed]",
      "text/plain": [
       "<Figure size 640x480 with 1 Axes>"
      ]
     },
     "metadata": {},
     "output_type": "display_data"
    }
   ],
   "source": [
    "dfXs.plot(kind='box')"
   ]
  },
  {
   "cell_type": "code",
   "execution_count": 1,
   "id": "f03751b3-cd91-4848-8e05-38b5ad0bd1b8",
   "metadata": {},
   "outputs": [],
   "source": [
    "import pandas as pd"
   ]
  },
  {
   "cell_type": "code",
   "execution_count": 3,
   "id": "b0c60009-ed86-44dc-925d-f96208a4fca5",
   "metadata": {},
   "outputs": [
    {
     "data": {
      "text/html": [
       "<div>\n",
       "<style scoped>\n",
       "    .dataframe tbody tr th:only-of-type {\n",
       "        vertical-align: middle;\n",
       "    }\n",
       "\n",
       "    .dataframe tbody tr th {\n",
       "        vertical-align: top;\n",
       "    }\n",
       "\n",
       "    .dataframe thead th {\n",
       "        text-align: right;\n",
       "    }\n",
       "</style>\n",
       "<table border=\"1\" class=\"dataframe\">\n",
       "  <thead>\n",
       "    <tr style=\"text-align: right;\">\n",
       "      <th></th>\n",
       "      <th>model</th>\n",
       "      <th>year</th>\n",
       "      <th>price</th>\n",
       "      <th>transmission</th>\n",
       "      <th>mileage</th>\n",
       "      <th>fuelType</th>\n",
       "      <th>tax</th>\n",
       "      <th>mpg</th>\n",
       "      <th>engineSize</th>\n",
       "      <th>price_year_outlier</th>\n",
       "    </tr>\n",
       "  </thead>\n",
       "  <tbody>\n",
       "    <tr>\n",
       "      <th>0</th>\n",
       "      <td>GLC Class</td>\n",
       "      <td>2019.000000</td>\n",
       "      <td>45299</td>\n",
       "      <td>Semi-Auto</td>\n",
       "      <td>2792.0</td>\n",
       "      <td>Diesel</td>\n",
       "      <td>145.0</td>\n",
       "      <td>40.4</td>\n",
       "      <td>2.0</td>\n",
       "      <td>1</td>\n",
       "    </tr>\n",
       "    <tr>\n",
       "      <th>1</th>\n",
       "      <td>unknown</td>\n",
       "      <td>2018.000000</td>\n",
       "      <td>19099</td>\n",
       "      <td>Semi-Auto</td>\n",
       "      <td>12321.0</td>\n",
       "      <td>Petrol</td>\n",
       "      <td>145.0</td>\n",
       "      <td>56.5</td>\n",
       "      <td>1.5</td>\n",
       "      <td>1</td>\n",
       "    </tr>\n",
       "    <tr>\n",
       "      <th>2</th>\n",
       "      <td>A Class</td>\n",
       "      <td>2019.000000</td>\n",
       "      <td>17702</td>\n",
       "      <td>Automatic</td>\n",
       "      <td>0.0</td>\n",
       "      <td>Diesel</td>\n",
       "      <td>145.0</td>\n",
       "      <td>68.9</td>\n",
       "      <td>1.5</td>\n",
       "      <td>1</td>\n",
       "    </tr>\n",
       "    <tr>\n",
       "      <th>3</th>\n",
       "      <td>unknown</td>\n",
       "      <td>2017.333333</td>\n",
       "      <td>21749</td>\n",
       "      <td>Semi-Auto</td>\n",
       "      <td>27178.0</td>\n",
       "      <td>Diesel</td>\n",
       "      <td>160.0</td>\n",
       "      <td>51.4</td>\n",
       "      <td>2.0</td>\n",
       "      <td>1</td>\n",
       "    </tr>\n",
       "    <tr>\n",
       "      <th>4</th>\n",
       "      <td>E Class</td>\n",
       "      <td>2018.000000</td>\n",
       "      <td>35950</td>\n",
       "      <td>Automatic</td>\n",
       "      <td>0.0</td>\n",
       "      <td>Diesel</td>\n",
       "      <td>0.0</td>\n",
       "      <td>42.8</td>\n",
       "      <td>3.0</td>\n",
       "      <td>1</td>\n",
       "    </tr>\n",
       "  </tbody>\n",
       "</table>\n",
       "</div>"
      ],
      "text/plain": [
       "        model         year  price transmission  mileage fuelType    tax   mpg  \\\n",
       "0   GLC Class  2019.000000  45299    Semi-Auto   2792.0   Diesel  145.0  40.4   \n",
       "1     unknown  2018.000000  19099    Semi-Auto  12321.0   Petrol  145.0  56.5   \n",
       "2     A Class  2019.000000  17702    Automatic      0.0   Diesel  145.0  68.9   \n",
       "3     unknown  2017.333333  21749    Semi-Auto  27178.0   Diesel  160.0  51.4   \n",
       "4     E Class  2018.000000  35950    Automatic      0.0   Diesel    0.0  42.8   \n",
       "\n",
       "   engineSize  price_year_outlier  \n",
       "0         2.0                   1  \n",
       "1         1.5                   1  \n",
       "2         1.5                   1  \n",
       "3         2.0                   1  \n",
       "4         3.0                   1  "
      ]
     },
     "execution_count": 3,
     "metadata": {},
     "output_type": "execute_result"
    }
   ],
   "source": [
    "df = pd.read_csv('merc_train.csv')\n",
    "df.head()"
   ]
  },
  {
   "cell_type": "code",
   "execution_count": 4,
   "id": "a7e3ef6c-f149-4734-b4e8-3fefa59afb24",
   "metadata": {},
   "outputs": [
    {
     "name": "stdout",
     "output_type": "stream",
     "text": [
      "<class 'pandas.core.frame.DataFrame'>\n",
      "RangeIndex: 9878 entries, 0 to 9877\n",
      "Data columns (total 10 columns):\n",
      " #   Column              Non-Null Count  Dtype  \n",
      "---  ------              --------------  -----  \n",
      " 0   model               9878 non-null   object \n",
      " 1   year                9878 non-null   float64\n",
      " 2   price               9878 non-null   int64  \n",
      " 3   transmission        9878 non-null   object \n",
      " 4   mileage             9878 non-null   float64\n",
      " 5   fuelType            9878 non-null   object \n",
      " 6   tax                 9878 non-null   float64\n",
      " 7   mpg                 9878 non-null   float64\n",
      " 8   engineSize          9878 non-null   float64\n",
      " 9   price_year_outlier  9878 non-null   int64  \n",
      "dtypes: float64(5), int64(2), object(3)\n",
      "memory usage: 771.8+ KB\n"
     ]
    }
   ],
   "source": [
    "df.info()"
   ]
  },
  {
   "cell_type": "code",
   "execution_count": 5,
   "id": "d56b68c8-5bda-4b2c-8d4b-79a092364a5c",
   "metadata": {},
   "outputs": [
    {
     "data": {
      "text/html": [
       "<div>\n",
       "<style scoped>\n",
       "    .dataframe tbody tr th:only-of-type {\n",
       "        vertical-align: middle;\n",
       "    }\n",
       "\n",
       "    .dataframe tbody tr th {\n",
       "        vertical-align: top;\n",
       "    }\n",
       "\n",
       "    .dataframe thead th {\n",
       "        text-align: right;\n",
       "    }\n",
       "</style>\n",
       "<table border=\"1\" class=\"dataframe\">\n",
       "  <thead>\n",
       "    <tr style=\"text-align: right;\">\n",
       "      <th></th>\n",
       "      <th>model</th>\n",
       "      <th>transmission</th>\n",
       "      <th>fuelType</th>\n",
       "    </tr>\n",
       "  </thead>\n",
       "  <tbody>\n",
       "    <tr>\n",
       "      <th>count</th>\n",
       "      <td>9878</td>\n",
       "      <td>9878</td>\n",
       "      <td>9878</td>\n",
       "    </tr>\n",
       "    <tr>\n",
       "      <th>unique</th>\n",
       "      <td>25</td>\n",
       "      <td>4</td>\n",
       "      <td>3</td>\n",
       "    </tr>\n",
       "    <tr>\n",
       "      <th>top</th>\n",
       "      <td>unknown</td>\n",
       "      <td>Semi-Auto</td>\n",
       "      <td>Diesel</td>\n",
       "    </tr>\n",
       "    <tr>\n",
       "      <th>freq</th>\n",
       "      <td>2785</td>\n",
       "      <td>5173</td>\n",
       "      <td>7181</td>\n",
       "    </tr>\n",
       "  </tbody>\n",
       "</table>\n",
       "</div>"
      ],
      "text/plain": [
       "          model transmission fuelType\n",
       "count      9878         9878     9878\n",
       "unique       25            4        3\n",
       "top     unknown    Semi-Auto   Diesel\n",
       "freq       2785         5173     7181"
      ]
     },
     "execution_count": 5,
     "metadata": {},
     "output_type": "execute_result"
    }
   ],
   "source": [
    "df.describe(include=['object'])"
   ]
  },
  {
   "cell_type": "code",
   "execution_count": 6,
   "id": "1956e221-2330-45d5-b195-15bc9453b0db",
   "metadata": {},
   "outputs": [
    {
     "name": "stdout",
     "output_type": "stream",
     "text": [
      "model: [' GLC Class' 'unknown' ' A Class' ' E Class' ' C Class' ' SL CLASS'\n",
      " ' CL Class' ' SLK' ' GLE Class' ' GLA Class' ' X-CLASS' ' CLS Class'\n",
      " ' S Class' ' M Class' ' V Class' ' B Class' ' GL Class' ' CLA Class'\n",
      " ' G Class' ' GLS Class' ' GLB Class' '180' '200' ' CLC Class' ' R Class']\n",
      "transmission: ['Semi-Auto' 'Automatic' 'Manual' 'Other']\n",
      "fuelType: ['Diesel' 'Petrol' 'Other']\n"
     ]
    }
   ],
   "source": [
    "cat_features = ['model', 'transmission', 'fuelType']\n",
    "\n",
    "for feat in cat_features:\n",
    "    print(f'{feat}: {df[feat].unique()}')"
   ]
  },
  {
   "cell_type": "code",
   "execution_count": 8,
   "id": "e0fae69f-fbb1-4305-a95f-9b07de3a398c",
   "metadata": {},
   "outputs": [],
   "source": [
    "from sklearn.preprocessing import LabelEncoder\n",
    "\n",
    "encoder = LabelEncoder()\n",
    "\n",
    "df['model_le'] = encoder.fit_transform(df.model)"
   ]
  },
  {
   "cell_type": "code",
   "execution_count": 9,
   "id": "2bd70bd9-e441-4beb-bf42-7acc0ac5c5d2",
   "metadata": {},
   "outputs": [
    {
     "data": {
      "text/html": [
       "<div>\n",
       "<style scoped>\n",
       "    .dataframe tbody tr th:only-of-type {\n",
       "        vertical-align: middle;\n",
       "    }\n",
       "\n",
       "    .dataframe tbody tr th {\n",
       "        vertical-align: top;\n",
       "    }\n",
       "\n",
       "    .dataframe thead th {\n",
       "        text-align: right;\n",
       "    }\n",
       "</style>\n",
       "<table border=\"1\" class=\"dataframe\">\n",
       "  <thead>\n",
       "    <tr style=\"text-align: right;\">\n",
       "      <th></th>\n",
       "      <th>model</th>\n",
       "      <th>year</th>\n",
       "      <th>price</th>\n",
       "      <th>transmission</th>\n",
       "      <th>mileage</th>\n",
       "      <th>fuelType</th>\n",
       "      <th>tax</th>\n",
       "      <th>mpg</th>\n",
       "      <th>engineSize</th>\n",
       "      <th>price_year_outlier</th>\n",
       "      <th>model_le</th>\n",
       "    </tr>\n",
       "  </thead>\n",
       "  <tbody>\n",
       "    <tr>\n",
       "      <th>0</th>\n",
       "      <td>GLC Class</td>\n",
       "      <td>2019.000000</td>\n",
       "      <td>45299</td>\n",
       "      <td>Semi-Auto</td>\n",
       "      <td>2792.0</td>\n",
       "      <td>Diesel</td>\n",
       "      <td>145.0</td>\n",
       "      <td>40.4</td>\n",
       "      <td>2.0</td>\n",
       "      <td>1</td>\n",
       "      <td>12</td>\n",
       "    </tr>\n",
       "    <tr>\n",
       "      <th>1</th>\n",
       "      <td>unknown</td>\n",
       "      <td>2018.000000</td>\n",
       "      <td>19099</td>\n",
       "      <td>Semi-Auto</td>\n",
       "      <td>12321.0</td>\n",
       "      <td>Petrol</td>\n",
       "      <td>145.0</td>\n",
       "      <td>56.5</td>\n",
       "      <td>1.5</td>\n",
       "      <td>1</td>\n",
       "      <td>24</td>\n",
       "    </tr>\n",
       "    <tr>\n",
       "      <th>2</th>\n",
       "      <td>A Class</td>\n",
       "      <td>2019.000000</td>\n",
       "      <td>17702</td>\n",
       "      <td>Automatic</td>\n",
       "      <td>0.0</td>\n",
       "      <td>Diesel</td>\n",
       "      <td>145.0</td>\n",
       "      <td>68.9</td>\n",
       "      <td>1.5</td>\n",
       "      <td>1</td>\n",
       "      <td>0</td>\n",
       "    </tr>\n",
       "    <tr>\n",
       "      <th>3</th>\n",
       "      <td>unknown</td>\n",
       "      <td>2017.333333</td>\n",
       "      <td>21749</td>\n",
       "      <td>Semi-Auto</td>\n",
       "      <td>27178.0</td>\n",
       "      <td>Diesel</td>\n",
       "      <td>160.0</td>\n",
       "      <td>51.4</td>\n",
       "      <td>2.0</td>\n",
       "      <td>1</td>\n",
       "      <td>24</td>\n",
       "    </tr>\n",
       "    <tr>\n",
       "      <th>4</th>\n",
       "      <td>E Class</td>\n",
       "      <td>2018.000000</td>\n",
       "      <td>35950</td>\n",
       "      <td>Automatic</td>\n",
       "      <td>0.0</td>\n",
       "      <td>Diesel</td>\n",
       "      <td>0.0</td>\n",
       "      <td>42.8</td>\n",
       "      <td>3.0</td>\n",
       "      <td>1</td>\n",
       "      <td>7</td>\n",
       "    </tr>\n",
       "  </tbody>\n",
       "</table>\n",
       "</div>"
      ],
      "text/plain": [
       "        model         year  price transmission  mileage fuelType    tax   mpg  \\\n",
       "0   GLC Class  2019.000000  45299    Semi-Auto   2792.0   Diesel  145.0  40.4   \n",
       "1     unknown  2018.000000  19099    Semi-Auto  12321.0   Petrol  145.0  56.5   \n",
       "2     A Class  2019.000000  17702    Automatic      0.0   Diesel  145.0  68.9   \n",
       "3     unknown  2017.333333  21749    Semi-Auto  27178.0   Diesel  160.0  51.4   \n",
       "4     E Class  2018.000000  35950    Automatic      0.0   Diesel    0.0  42.8   \n",
       "\n",
       "   engineSize  price_year_outlier  model_le  \n",
       "0         2.0                   1        12  \n",
       "1         1.5                   1        24  \n",
       "2         1.5                   1         0  \n",
       "3         2.0                   1        24  \n",
       "4         3.0                   1         7  "
      ]
     },
     "execution_count": 9,
     "metadata": {},
     "output_type": "execute_result"
    }
   ],
   "source": [
    "df.head()"
   ]
  },
  {
   "cell_type": "code",
   "execution_count": 10,
   "id": "19b7e17e-7cda-4585-a2af-42d87bab9f2c",
   "metadata": {},
   "outputs": [
    {
     "data": {
      "text/plain": [
       "array([' A Class', ' B Class', ' C Class', ' CL Class', ' CLA Class',\n",
       "       ' CLC Class', ' CLS Class', ' E Class', ' G Class', ' GL Class',\n",
       "       ' GLA Class', ' GLB Class', ' GLC Class', ' GLE Class',\n",
       "       ' GLS Class', ' M Class', ' R Class', ' S Class', ' SL CLASS',\n",
       "       ' SLK', ' V Class', ' X-CLASS', '180', '200', 'unknown'],\n",
       "      dtype=object)"
      ]
     },
     "execution_count": 10,
     "metadata": {},
     "output_type": "execute_result"
    }
   ],
   "source": [
    "encoder.classes_"
   ]
  },
  {
   "cell_type": "code",
   "execution_count": 11,
   "id": "4bde6e5f-67f1-4400-a55b-1d55ed8a6adc",
   "metadata": {},
   "outputs": [
    {
     "name": "stdout",
     "output_type": "stream",
     "text": [
      "0:  A Class\n",
      "1:  B Class\n",
      "2:  C Class\n",
      "3:  CL Class\n",
      "4:  CLA Class\n",
      "5:  CLC Class\n",
      "6:  CLS Class\n",
      "7:  E Class\n",
      "8:  G Class\n",
      "9:  GL Class\n",
      "10:  GLA Class\n",
      "11:  GLB Class\n",
      "12:  GLC Class\n",
      "13:  GLE Class\n",
      "14:  GLS Class\n",
      "15:  M Class\n",
      "16:  R Class\n",
      "17:  S Class\n",
      "18:  SL CLASS\n",
      "19:  SLK\n",
      "20:  V Class\n",
      "21:  X-CLASS\n",
      "22: 180\n",
      "23: 200\n",
      "24: unknown\n"
     ]
    }
   ],
   "source": [
    "for i, e in enumerate(encoder.classes_):\n",
    "    print(f'{i}: {e}')"
   ]
  },
  {
   "cell_type": "code",
   "execution_count": 23,
   "id": "09b05f07-5f89-4896-bf72-a086bf9219da",
   "metadata": {},
   "outputs": [
    {
     "data": {
      "text/html": [
       "<div>\n",
       "<style scoped>\n",
       "    .dataframe tbody tr th:only-of-type {\n",
       "        vertical-align: middle;\n",
       "    }\n",
       "\n",
       "    .dataframe tbody tr th {\n",
       "        vertical-align: top;\n",
       "    }\n",
       "\n",
       "    .dataframe thead th {\n",
       "        text-align: right;\n",
       "    }\n",
       "</style>\n",
       "<table border=\"1\" class=\"dataframe\">\n",
       "  <thead>\n",
       "    <tr style=\"text-align: right;\">\n",
       "      <th></th>\n",
       "      <th>fuelType_Other</th>\n",
       "      <th>fuelType_Petrol</th>\n",
       "    </tr>\n",
       "  </thead>\n",
       "  <tbody>\n",
       "    <tr>\n",
       "      <th>0</th>\n",
       "      <td>0.0</td>\n",
       "      <td>0.0</td>\n",
       "    </tr>\n",
       "    <tr>\n",
       "      <th>1</th>\n",
       "      <td>0.0</td>\n",
       "      <td>1.0</td>\n",
       "    </tr>\n",
       "    <tr>\n",
       "      <th>2</th>\n",
       "      <td>0.0</td>\n",
       "      <td>0.0</td>\n",
       "    </tr>\n",
       "    <tr>\n",
       "      <th>3</th>\n",
       "      <td>0.0</td>\n",
       "      <td>0.0</td>\n",
       "    </tr>\n",
       "    <tr>\n",
       "      <th>4</th>\n",
       "      <td>0.0</td>\n",
       "      <td>0.0</td>\n",
       "    </tr>\n",
       "  </tbody>\n",
       "</table>\n",
       "</div>"
      ],
      "text/plain": [
       "   fuelType_Other  fuelType_Petrol\n",
       "0             0.0              0.0\n",
       "1             0.0              1.0\n",
       "2             0.0              0.0\n",
       "3             0.0              0.0\n",
       "4             0.0              0.0"
      ]
     },
     "execution_count": 23,
     "metadata": {},
     "output_type": "execute_result"
    }
   ],
   "source": [
    "from sklearn.preprocessing import OneHotEncoder\n",
    "\n",
    "ohe = OneHotEncoder(sparse_output=False, drop='first', handle_unknown='ignore')\n",
    "\n",
    "ft = ohe.fit_transform(df[['fuelType']])\n",
    "df_ft = pd.DataFrame(ft, columns= ohe.get_feature_names_out())\n",
    "df_ft.head()"
   ]
  },
  {
   "cell_type": "code",
   "execution_count": 21,
   "id": "55e8956e-b407-4610-9a78-3b2270facef1",
   "metadata": {},
   "outputs": [],
   "source": [
    "df_1 = pd.concat([df,df_ft], axis=1)"
   ]
  },
  {
   "cell_type": "code",
   "execution_count": 22,
   "id": "d139b080-84c1-4316-9833-60aaf4650b5a",
   "metadata": {},
   "outputs": [
    {
     "data": {
      "text/html": [
       "<div>\n",
       "<style scoped>\n",
       "    .dataframe tbody tr th:only-of-type {\n",
       "        vertical-align: middle;\n",
       "    }\n",
       "\n",
       "    .dataframe tbody tr th {\n",
       "        vertical-align: top;\n",
       "    }\n",
       "\n",
       "    .dataframe thead th {\n",
       "        text-align: right;\n",
       "    }\n",
       "</style>\n",
       "<table border=\"1\" class=\"dataframe\">\n",
       "  <thead>\n",
       "    <tr style=\"text-align: right;\">\n",
       "      <th></th>\n",
       "      <th>model</th>\n",
       "      <th>year</th>\n",
       "      <th>price</th>\n",
       "      <th>transmission</th>\n",
       "      <th>mileage</th>\n",
       "      <th>fuelType</th>\n",
       "      <th>tax</th>\n",
       "      <th>mpg</th>\n",
       "      <th>engineSize</th>\n",
       "      <th>price_year_outlier</th>\n",
       "      <th>model_le</th>\n",
       "      <th>fuelType_Other</th>\n",
       "      <th>fuelType_Petrol</th>\n",
       "    </tr>\n",
       "  </thead>\n",
       "  <tbody>\n",
       "    <tr>\n",
       "      <th>0</th>\n",
       "      <td>GLC Class</td>\n",
       "      <td>2019.000000</td>\n",
       "      <td>45299</td>\n",
       "      <td>Semi-Auto</td>\n",
       "      <td>2792.0</td>\n",
       "      <td>Diesel</td>\n",
       "      <td>145.0</td>\n",
       "      <td>40.4</td>\n",
       "      <td>2.0</td>\n",
       "      <td>1</td>\n",
       "      <td>12</td>\n",
       "      <td>0.0</td>\n",
       "      <td>0.0</td>\n",
       "    </tr>\n",
       "    <tr>\n",
       "      <th>1</th>\n",
       "      <td>unknown</td>\n",
       "      <td>2018.000000</td>\n",
       "      <td>19099</td>\n",
       "      <td>Semi-Auto</td>\n",
       "      <td>12321.0</td>\n",
       "      <td>Petrol</td>\n",
       "      <td>145.0</td>\n",
       "      <td>56.5</td>\n",
       "      <td>1.5</td>\n",
       "      <td>1</td>\n",
       "      <td>24</td>\n",
       "      <td>0.0</td>\n",
       "      <td>1.0</td>\n",
       "    </tr>\n",
       "    <tr>\n",
       "      <th>2</th>\n",
       "      <td>A Class</td>\n",
       "      <td>2019.000000</td>\n",
       "      <td>17702</td>\n",
       "      <td>Automatic</td>\n",
       "      <td>0.0</td>\n",
       "      <td>Diesel</td>\n",
       "      <td>145.0</td>\n",
       "      <td>68.9</td>\n",
       "      <td>1.5</td>\n",
       "      <td>1</td>\n",
       "      <td>0</td>\n",
       "      <td>0.0</td>\n",
       "      <td>0.0</td>\n",
       "    </tr>\n",
       "    <tr>\n",
       "      <th>3</th>\n",
       "      <td>unknown</td>\n",
       "      <td>2017.333333</td>\n",
       "      <td>21749</td>\n",
       "      <td>Semi-Auto</td>\n",
       "      <td>27178.0</td>\n",
       "      <td>Diesel</td>\n",
       "      <td>160.0</td>\n",
       "      <td>51.4</td>\n",
       "      <td>2.0</td>\n",
       "      <td>1</td>\n",
       "      <td>24</td>\n",
       "      <td>0.0</td>\n",
       "      <td>0.0</td>\n",
       "    </tr>\n",
       "    <tr>\n",
       "      <th>4</th>\n",
       "      <td>E Class</td>\n",
       "      <td>2018.000000</td>\n",
       "      <td>35950</td>\n",
       "      <td>Automatic</td>\n",
       "      <td>0.0</td>\n",
       "      <td>Diesel</td>\n",
       "      <td>0.0</td>\n",
       "      <td>42.8</td>\n",
       "      <td>3.0</td>\n",
       "      <td>1</td>\n",
       "      <td>7</td>\n",
       "      <td>0.0</td>\n",
       "      <td>0.0</td>\n",
       "    </tr>\n",
       "  </tbody>\n",
       "</table>\n",
       "</div>"
      ],
      "text/plain": [
       "        model         year  price transmission  mileage fuelType    tax   mpg  \\\n",
       "0   GLC Class  2019.000000  45299    Semi-Auto   2792.0   Diesel  145.0  40.4   \n",
       "1     unknown  2018.000000  19099    Semi-Auto  12321.0   Petrol  145.0  56.5   \n",
       "2     A Class  2019.000000  17702    Automatic      0.0   Diesel  145.0  68.9   \n",
       "3     unknown  2017.333333  21749    Semi-Auto  27178.0   Diesel  160.0  51.4   \n",
       "4     E Class  2018.000000  35950    Automatic      0.0   Diesel    0.0  42.8   \n",
       "\n",
       "   engineSize  price_year_outlier  model_le  fuelType_Other  fuelType_Petrol  \n",
       "0         2.0                   1        12             0.0              0.0  \n",
       "1         1.5                   1        24             0.0              1.0  \n",
       "2         1.5                   1         0             0.0              0.0  \n",
       "3         2.0                   1        24             0.0              0.0  \n",
       "4         3.0                   1         7             0.0              0.0  "
      ]
     },
     "execution_count": 22,
     "metadata": {},
     "output_type": "execute_result"
    }
   ],
   "source": [
    "df_1.head()"
   ]
  },
  {
   "cell_type": "code",
   "execution_count": 24,
   "id": "4081a01a-2905-43bd-b2b6-b551cf221ac9",
   "metadata": {},
   "outputs": [],
   "source": [
    "from sklearn.preprocessing import TargetEncoder"
   ]
  },
  {
   "cell_type": "code",
   "execution_count": 25,
   "id": "440fa93c-abd7-4976-b1ea-8a17d0062307",
   "metadata": {},
   "outputs": [
    {
     "data": {
      "text/plain": [
       "\u001b[1;31mInit signature:\u001b[0m\n",
       "\u001b[0mTargetEncoder\u001b[0m\u001b[1;33m(\u001b[0m\u001b[1;33m\n",
       "\u001b[0m    \u001b[0mcategories\u001b[0m\u001b[1;33m=\u001b[0m\u001b[1;34m'auto'\u001b[0m\u001b[1;33m,\u001b[0m\u001b[1;33m\n",
       "\u001b[0m    \u001b[0mtarget_type\u001b[0m\u001b[1;33m=\u001b[0m\u001b[1;34m'auto'\u001b[0m\u001b[1;33m,\u001b[0m\u001b[1;33m\n",
       "\u001b[0m    \u001b[0msmooth\u001b[0m\u001b[1;33m=\u001b[0m\u001b[1;34m'auto'\u001b[0m\u001b[1;33m,\u001b[0m\u001b[1;33m\n",
       "\u001b[0m    \u001b[0mcv\u001b[0m\u001b[1;33m=\u001b[0m\u001b[1;36m5\u001b[0m\u001b[1;33m,\u001b[0m\u001b[1;33m\n",
       "\u001b[0m    \u001b[0mshuffle\u001b[0m\u001b[1;33m=\u001b[0m\u001b[1;32mTrue\u001b[0m\u001b[1;33m,\u001b[0m\u001b[1;33m\n",
       "\u001b[0m    \u001b[0mrandom_state\u001b[0m\u001b[1;33m=\u001b[0m\u001b[1;32mNone\u001b[0m\u001b[1;33m,\u001b[0m\u001b[1;33m\n",
       "\u001b[0m\u001b[1;33m)\u001b[0m\u001b[1;33m\u001b[0m\u001b[1;33m\u001b[0m\u001b[0m\n",
       "\u001b[1;31mDocstring:\u001b[0m     \n",
       "Target Encoder for regression and classification targets.\n",
       "\n",
       "Each category is encoded based on a shrunk estimate of the average target\n",
       "values for observations belonging to the category. The encoding scheme mixes\n",
       "the global target mean with the target mean conditioned on the value of the\n",
       "category (see [MIC]_).\n",
       "\n",
       "When the target type is \"multiclass\", encodings are based\n",
       "on the conditional probability estimate for each class. The target is first\n",
       "binarized using the \"one-vs-all\" scheme via\n",
       ":class:`~sklearn.preprocessing.LabelBinarizer`, then the average target\n",
       "value for each class and each category is used for encoding, resulting in\n",
       "`n_features` * `n_classes` encoded output features.\n",
       "\n",
       ":class:`TargetEncoder` considers missing values, such as `np.nan` or `None`,\n",
       "as another category and encodes them like any other category. Categories\n",
       "that are not seen during :meth:`fit` are encoded with the target mean, i.e.\n",
       "`target_mean_`.\n",
       "\n",
       "For a demo on the importance of the `TargetEncoder` internal cross-fitting,\n",
       "see\n",
       ":ref:`sphx_glr_auto_examples_preprocessing_plot_target_encoder_cross_val.py`.\n",
       "For a comparison of different encoders, refer to\n",
       ":ref:`sphx_glr_auto_examples_preprocessing_plot_target_encoder.py`. Read\n",
       "more in the :ref:`User Guide <target_encoder>`.\n",
       "\n",
       ".. note::\n",
       "    `fit(X, y).transform(X)` does not equal `fit_transform(X, y)` because a\n",
       "    :term:`cross fitting` scheme is used in `fit_transform` for encoding.\n",
       "    See the :ref:`User Guide <target_encoder>` for details.\n",
       "\n",
       ".. versionadded:: 1.3\n",
       "\n",
       "Parameters\n",
       "----------\n",
       "categories : \"auto\" or list of shape (n_features,) of array-like, default=\"auto\"\n",
       "    Categories (unique values) per feature:\n",
       "\n",
       "    - `\"auto\"` : Determine categories automatically from the training data.\n",
       "    - list : `categories[i]` holds the categories expected in the i-th column. The\n",
       "      passed categories should not mix strings and numeric values within a single\n",
       "      feature, and should be sorted in case of numeric values.\n",
       "\n",
       "    The used categories are stored in the `categories_` fitted attribute.\n",
       "\n",
       "target_type : {\"auto\", \"continuous\", \"binary\", \"multiclass\"}, default=\"auto\"\n",
       "    Type of target.\n",
       "\n",
       "    - `\"auto\"` : Type of target is inferred with\n",
       "      :func:`~sklearn.utils.multiclass.type_of_target`.\n",
       "    - `\"continuous\"` : Continuous target\n",
       "    - `\"binary\"` : Binary target\n",
       "    - `\"multiclass\"` : Multiclass target\n",
       "\n",
       "    .. note::\n",
       "        The type of target inferred with `\"auto\"` may not be the desired target\n",
       "        type used for modeling. For example, if the target consisted of integers\n",
       "        between 0 and 100, then :func:`~sklearn.utils.multiclass.type_of_target`\n",
       "        will infer the target as `\"multiclass\"`. In this case, setting\n",
       "        `target_type=\"continuous\"` will specify the target as a regression\n",
       "        problem. The `target_type_` attribute gives the target type used by the\n",
       "        encoder.\n",
       "\n",
       "    .. versionchanged:: 1.4\n",
       "       Added the option 'multiclass'.\n",
       "\n",
       "smooth : \"auto\" or float, default=\"auto\"\n",
       "    The amount of mixing of the target mean conditioned on the value of the\n",
       "    category with the global target mean. A larger `smooth` value will put\n",
       "    more weight on the global target mean.\n",
       "    If `\"auto\"`, then `smooth` is set to an empirical Bayes estimate.\n",
       "\n",
       "cv : int, default=5\n",
       "    Determines the number of folds in the :term:`cross fitting` strategy used in\n",
       "    :meth:`fit_transform`. For classification targets, `StratifiedKFold` is used\n",
       "    and for continuous targets, `KFold` is used.\n",
       "\n",
       "shuffle : bool, default=True\n",
       "    Whether to shuffle the data in :meth:`fit_transform` before splitting into\n",
       "    folds. Note that the samples within each split will not be shuffled.\n",
       "\n",
       "random_state : int, RandomState instance or None, default=None\n",
       "    When `shuffle` is True, `random_state` affects the ordering of the\n",
       "    indices, which controls the randomness of each fold. Otherwise, this\n",
       "    parameter has no effect.\n",
       "    Pass an int for reproducible output across multiple function calls.\n",
       "    See :term:`Glossary <random_state>`.\n",
       "\n",
       "Attributes\n",
       "----------\n",
       "encodings_ : list of shape (n_features,) or (n_features * n_classes) of                     ndarray\n",
       "    Encodings learnt on all of `X`.\n",
       "    For feature `i`, `encodings_[i]` are the encodings matching the\n",
       "    categories listed in `categories_[i]`. When `target_type_` is\n",
       "    \"multiclass\", the encoding for feature `i` and class `j` is stored in\n",
       "    `encodings_[j + (i * len(classes_))]`. E.g., for 2 features (f) and\n",
       "    3 classes (c), encodings are ordered:\n",
       "    f0_c0, f0_c1, f0_c2, f1_c0, f1_c1, f1_c2,\n",
       "\n",
       "categories_ : list of shape (n_features,) of ndarray\n",
       "    The categories of each input feature determined during fitting or\n",
       "    specified in `categories`\n",
       "    (in order of the features in `X` and corresponding with the output\n",
       "    of :meth:`transform`).\n",
       "\n",
       "target_type_ : str\n",
       "    Type of target.\n",
       "\n",
       "target_mean_ : float\n",
       "    The overall mean of the target. This value is only used in :meth:`transform`\n",
       "    to encode categories.\n",
       "\n",
       "n_features_in_ : int\n",
       "    Number of features seen during :term:`fit`.\n",
       "\n",
       "feature_names_in_ : ndarray of shape (`n_features_in_`,)\n",
       "    Names of features seen during :term:`fit`. Defined only when `X`\n",
       "    has feature names that are all strings.\n",
       "\n",
       "classes_ : ndarray or None\n",
       "    If `target_type_` is 'binary' or 'multiclass', holds the label for each class,\n",
       "    otherwise `None`.\n",
       "\n",
       "See Also\n",
       "--------\n",
       "OrdinalEncoder : Performs an ordinal (integer) encoding of the categorical features.\n",
       "    Contrary to TargetEncoder, this encoding is not supervised. Treating the\n",
       "    resulting encoding as a numerical features therefore lead arbitrarily\n",
       "    ordered values and therefore typically lead to lower predictive performance\n",
       "    when used as preprocessing for a classifier or regressor.\n",
       "OneHotEncoder : Performs a one-hot encoding of categorical features. This\n",
       "    unsupervised encoding is better suited for low cardinality categorical\n",
       "    variables as it generate one new feature per unique category.\n",
       "\n",
       "References\n",
       "----------\n",
       ".. [MIC] :doi:`Micci-Barreca, Daniele. \"A preprocessing scheme for high-cardinality\n",
       "   categorical attributes in classification and prediction problems\"\n",
       "   SIGKDD Explor. Newsl. 3, 1 (July 2001), 27–32. <10.1145/507533.507538>`\n",
       "\n",
       "Examples\n",
       "--------\n",
       "With `smooth=\"auto\"`, the smoothing parameter is set to an empirical Bayes estimate:\n",
       "\n",
       ">>> import numpy as np\n",
       ">>> from sklearn.preprocessing import TargetEncoder\n",
       ">>> X = np.array([[\"dog\"] * 20 + [\"cat\"] * 30 + [\"snake\"] * 38], dtype=object).T\n",
       ">>> y = [90.3] * 5 + [80.1] * 15 + [20.4] * 5 + [20.1] * 25 + [21.2] * 8 + [49] * 30\n",
       ">>> enc_auto = TargetEncoder(smooth=\"auto\")\n",
       ">>> X_trans = enc_auto.fit_transform(X, y)\n",
       "\n",
       ">>> # A high `smooth` parameter puts more weight on global mean on the categorical\n",
       ">>> # encodings:\n",
       ">>> enc_high_smooth = TargetEncoder(smooth=5000.0).fit(X, y)\n",
       ">>> enc_high_smooth.target_mean_\n",
       "44...\n",
       ">>> enc_high_smooth.encodings_\n",
       "[array([44..., 44..., 44...])]\n",
       "\n",
       ">>> # On the other hand, a low `smooth` parameter puts more weight on target\n",
       ">>> # conditioned on the value of the categorical:\n",
       ">>> enc_low_smooth = TargetEncoder(smooth=1.0).fit(X, y)\n",
       ">>> enc_low_smooth.encodings_\n",
       "[array([20..., 80..., 43...])]\n",
       "\u001b[1;31mFile:\u001b[0m           c:\\anaconda3\\lib\\site-packages\\sklearn\\preprocessing\\_target_encoder.py\n",
       "\u001b[1;31mType:\u001b[0m           type\n",
       "\u001b[1;31mSubclasses:\u001b[0m     "
      ]
     },
     "metadata": {},
     "output_type": "display_data"
    }
   ],
   "source": [
    "TargetEncoder?"
   ]
  },
  {
   "cell_type": "code",
   "execution_count": null,
   "id": "04b636f1-644a-43d5-ab32-300fac8bb602",
   "metadata": {},
   "outputs": [],
   "source": []
  }
 ],
 "metadata": {
  "kernelspec": {
   "display_name": "Python 3 (ipykernel)",
   "language": "python",
   "name": "python3"
  },
  "language_info": {
   "codemirror_mode": {
    "name": "ipython",
    "version": 3
   },
   "file_extension": ".py",
   "mimetype": "text/x-python",
   "name": "python",
   "nbconvert_exporter": "python",
   "pygments_lexer": "ipython3",
   "version": "3.11.7"
  }
 },
 "nbformat": 4,
 "nbformat_minor": 5
}
