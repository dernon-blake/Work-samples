{
 "cells": [
  {
   "cell_type": "markdown",
   "metadata": {
    "id": "cDjkYFnDODCG"
   },
   "source": [
    "## Подготовка модели к передаче"
   ]
  },
  {
   "cell_type": "markdown",
   "metadata": {
    "id": "6npkrsgiOSuA"
   },
   "source": [
    "В этом практическом задании два обязательных и одна дополнительная задача.\n",
    "<br>\n",
    "*Обязательные задачи* помогут проверить, что вы действительно усвоили материал. Если у вас всё получилось, можете переходить к следующей теме.\n",
    "<br>\n",
    "Удачи!"
   ]
  },
  {
   "cell_type": "markdown",
   "metadata": {
    "id": "I5kBJas7OWc3"
   },
   "source": [
    "Цели практического задания:\n",
    "\n",
    "1.   Потренироваться в работе с форматом `pickle`.\n",
    "2.   Потренироваться в работе моделей, загруженных из `pickle`.\n",
    "\n"
   ]
  },
  {
   "cell_type": "markdown",
   "metadata": {
    "id": "UjT-ToIuOmCu"
   },
   "source": [
    "## Обязательные задачи"
   ]
  },
  {
   "cell_type": "markdown",
   "metadata": {
    "id": "pYSG3t9ZTfws"
   },
   "source": [
    "**Задача 1. Функции dump, dumps**\n",
    "\n",
    "1. Инициализируйте словарь, в котором будет храниться три пары: (`first`: `a`); (`second`: `1.25`); (`third`: `[1,2,3]`).\n",
    "2. Запишите сериализованное представление этой переменной в файл `test_pickle.pickle`.\n",
    "3. С помощью функции `pickle.dumps` выведите байтовое представление этого словаря на экран.\n",
    "\n",
    "Документация по использованию функции [pickle.dumps](https://docs.python.org/3/library/pickle.html#pickle.dumps)"
   ]
  },
  {
   "cell_type": "code",
   "execution_count": 5,
   "metadata": {},
   "outputs": [],
   "source": [
    "import pickle"
   ]
  },
  {
   "cell_type": "code",
   "execution_count": 6,
   "metadata": {
    "id": "R3oK3UigVBW2"
   },
   "outputs": [],
   "source": [
    "# Ваш код здесь\n",
    "numbers = {'first': 'a', 'second': 1.25, 'third': [1,2,3]}\n",
    "filename = 'test_pickle.pickle'\n",
    "with open (filename, 'wb') as file:\n",
    "    pickle.dump(numbers,file)"
   ]
  },
  {
   "cell_type": "code",
   "execution_count": 12,
   "metadata": {},
   "outputs": [
    {
     "name": "stdout",
     "output_type": "stream",
     "text": [
      "{'first': 'a', 'second': 1.25, 'third': [1, 2, 3]}\n"
     ]
    }
   ],
   "source": [
    "with open (filename, 'rb') as file:\n",
    "    print(pickle.load(file))"
   ]
  },
  {
   "cell_type": "code",
   "execution_count": 16,
   "metadata": {},
   "outputs": [
    {
     "name": "stdout",
     "output_type": "stream",
     "text": [
      "b'\\x80\\x04\\x955\\x00\\x00\\x00\\x00\\x00\\x00\\x00}\\x94(\\x8c\\x05first\\x94\\x8c\\x01a\\x94\\x8c\\x06second\\x94G?\\xf4\\x00\\x00\\x00\\x00\\x00\\x00\\x8c\\x05third\\x94]\\x94(K\\x01K\\x02K\\x03eu.'\n"
     ]
    }
   ],
   "source": [
    "print(pickle.dumps(numbers))"
   ]
  },
  {
   "cell_type": "markdown",
   "metadata": {
    "id": "7l2QrlIZXfO0"
   },
   "source": [
    "**Задача 2. Загрузка обученной модели из pickle**\n",
    "\n",
    "Для выполнения этого задания скачайте из дополнительных материалов файл `gensim.pickle`.\n",
    "Gensim — модуль обработки естественного языка. С его помощью можно обрабатывать тексты, создавать тематические модели текстов. В файлe `gensim.pickle` находится обученная для английского языка модель, которая умеет находить близкие по контексту/смыслу слова.\n",
    "\n",
    "1. Загрузите обученную модель из pickle файла в переменную `model`.\n",
    "2. Выведите её тип.\n",
    "3. Найдите ближайшие слова с помощью метода модели `model.most_similar()`. В качестве входного аргумента в метод передайте слово, для которого нужно найти ближайшие по контексту/смыслу слова. Например, для слова sun ближайшими будут sky, moon и тд.\n",
    "\n",
    "**Предупреждение**:\n",
    "\n",
    "Во время загрузки модели у вас могут появляться ошибки, которые сигнализируют, что для работы обученной модели не хватает каких-то пакетов. Чтобы модель заработала, установите эти пакеты с помощью pip.\n",
    "\n",
    "В случае с библиотекой gensim рекомендуется установка без указания версии: `pip install gensim`."
   ]
  },
  {
   "cell_type": "code",
   "execution_count": 21,
   "metadata": {
    "id": "kTxMQKrMzAvU"
   },
   "outputs": [
    {
     "data": {
      "text/plain": [
       "gensim.models.keyedvectors.KeyedVectors"
      ]
     },
     "execution_count": 21,
     "metadata": {},
     "output_type": "execute_result"
    }
   ],
   "source": [
    "with open ('28.4 gensim.pickle','rb') as file:\n",
    "    model = pickle.load(file)\n",
    "type(model)"
   ]
  },
  {
   "cell_type": "code",
   "execution_count": 23,
   "metadata": {
    "id": "OkxY0ibzyLb_"
   },
   "outputs": [
    {
     "data": {
      "text/plain": [
       "<gensim.models.keyedvectors.KeyedVectors at 0x1ca37a9b450>"
      ]
     },
     "execution_count": 23,
     "metadata": {},
     "output_type": "execute_result"
    }
   ],
   "source": [
    "model"
   ]
  },
  {
   "cell_type": "code",
   "execution_count": 20,
   "metadata": {},
   "outputs": [
    {
     "name": "stdout",
     "output_type": "stream",
     "text": [
      "Requirement already satisfied: gensim in c:\\anaconda3\\lib\\site-packages (4.3.0)\n",
      "Requirement already satisfied: numpy>=1.18.5 in c:\\anaconda3\\lib\\site-packages (from gensim) (1.26.3)\n",
      "Requirement already satisfied: scipy>=1.7.0 in c:\\anaconda3\\lib\\site-packages (from gensim) (1.11.4)\n",
      "Requirement already satisfied: smart-open>=1.8.1 in c:\\anaconda3\\lib\\site-packages (from gensim) (5.2.1)\n",
      "Collecting FuzzyTM>=0.4.0 (from gensim)\n",
      "  Downloading FuzzyTM-2.0.5-py3-none-any.whl (29 kB)\n",
      "Requirement already satisfied: pandas in c:\\anaconda3\\lib\\site-packages (from FuzzyTM>=0.4.0->gensim) (2.1.4)\n",
      "Collecting pyfume (from FuzzyTM>=0.4.0->gensim)\n",
      "  Downloading pyFUME-0.2.25-py3-none-any.whl (67 kB)\n",
      "     ---------------------------------------- 0.0/67.1 kB ? eta -:--:--\n",
      "     ----------------------- -------------- 41.0/67.1 kB 960.0 kB/s eta 0:00:01\n",
      "     ---------------------------------------- 67.1/67.1 kB 1.2 MB/s eta 0:00:00\n",
      "Requirement already satisfied: python-dateutil>=2.8.2 in c:\\anaconda3\\lib\\site-packages (from pandas->FuzzyTM>=0.4.0->gensim) (2.8.2)\n",
      "Requirement already satisfied: pytz>=2020.1 in c:\\anaconda3\\lib\\site-packages (from pandas->FuzzyTM>=0.4.0->gensim) (2023.3.post1)\n",
      "Requirement already satisfied: tzdata>=2022.1 in c:\\anaconda3\\lib\\site-packages (from pandas->FuzzyTM>=0.4.0->gensim) (2023.3)\n",
      "Collecting simpful (from pyfume->FuzzyTM>=0.4.0->gensim)\n",
      "  Obtaining dependency information for simpful from https://files.pythonhosted.org/packages/8d/93/8448d3f1aa9d2911b8cba2602aaa1af85eb31a26d28b7b737f1fa5b40c02/simpful-2.11.1-py3-none-any.whl.metadata\n",
      "  Downloading simpful-2.11.1-py3-none-any.whl.metadata (4.8 kB)\n",
      "Collecting fst-pso (from pyfume->FuzzyTM>=0.4.0->gensim)\n",
      "  Downloading fst-pso-1.8.1.tar.gz (18 kB)\n",
      "  Preparing metadata (setup.py): started\n",
      "  Preparing metadata (setup.py): finished with status 'done'\n",
      "Requirement already satisfied: six>=1.5 in c:\\anaconda3\\lib\\site-packages (from python-dateutil>=2.8.2->pandas->FuzzyTM>=0.4.0->gensim) (1.16.0)\n",
      "Collecting miniful (from fst-pso->pyfume->FuzzyTM>=0.4.0->gensim)\n",
      "  Downloading miniful-0.0.6.tar.gz (2.8 kB)\n",
      "  Preparing metadata (setup.py): started\n",
      "  Preparing metadata (setup.py): finished with status 'done'\n",
      "Downloading simpful-2.11.1-py3-none-any.whl (32 kB)\n",
      "Building wheels for collected packages: fst-pso, miniful\n",
      "  Building wheel for fst-pso (setup.py): started\n",
      "  Building wheel for fst-pso (setup.py): finished with status 'done'\n",
      "  Created wheel for fst-pso: filename=fst_pso-1.8.1-py3-none-any.whl size=20448 sha256=58383cfe66cc5a2323fe08ca14d5c4077a5769c4de9669ef57b81e95c4660699\n",
      "  Stored in directory: c:\\users\\георгий\\appdata\\local\\pip\\cache\\wheels\\69\\f5\\e5\\18ad53fe1ed6b2af9fad05ec052e4acbac8e92441df44bad2e\n",
      "  Building wheel for miniful (setup.py): started\n",
      "  Building wheel for miniful (setup.py): finished with status 'done'\n",
      "  Created wheel for miniful: filename=miniful-0.0.6-py3-none-any.whl size=3522 sha256=7336219089f061fd169d6b87ea7ddde2e4420c7203247f6a8f41424e1ec67fce\n",
      "  Stored in directory: c:\\users\\георгий\\appdata\\local\\pip\\cache\\wheels\\9d\\ff\\2f\\afe4cd56f47de147407705626517d68bea0f3b74eb1fb168e6\n",
      "Successfully built fst-pso miniful\n",
      "Installing collected packages: simpful, miniful, fst-pso, pyfume, FuzzyTM\n",
      "Successfully installed FuzzyTM-2.0.5 fst-pso-1.8.1 miniful-0.0.6 pyfume-0.2.25 simpful-2.11.1\n"
     ]
    }
   ],
   "source": [
    "!pip install gensim"
   ]
  },
  {
   "cell_type": "code",
   "execution_count": 24,
   "metadata": {},
   "outputs": [
    {
     "ename": "AttributeError",
     "evalue": "'KeyedVectors' object has no attribute 'norms'",
     "output_type": "error",
     "traceback": [
      "\u001b[1;31m---------------------------------------------------------------------------\u001b[0m",
      "\u001b[1;31mAttributeError\u001b[0m                            Traceback (most recent call last)",
      "Cell \u001b[1;32mIn[24], line 1\u001b[0m\n\u001b[1;32m----> 1\u001b[0m model\u001b[38;5;241m.\u001b[39mmost_similar(\u001b[38;5;124m'\u001b[39m\u001b[38;5;124msun\u001b[39m\u001b[38;5;124m'\u001b[39m)\n",
      "File \u001b[1;32mC:\\anaconda3\\Lib\\site-packages\\gensim\\models\\keyedvectors.py:823\u001b[0m, in \u001b[0;36mKeyedVectors.most_similar\u001b[1;34m(self, positive, negative, topn, clip_start, clip_end, restrict_vocab, indexer)\u001b[0m\n\u001b[0;32m    820\u001b[0m positive \u001b[38;5;241m=\u001b[39m _ensure_list(positive)\n\u001b[0;32m    821\u001b[0m negative \u001b[38;5;241m=\u001b[39m _ensure_list(negative)\n\u001b[1;32m--> 823\u001b[0m \u001b[38;5;28mself\u001b[39m\u001b[38;5;241m.\u001b[39mfill_norms()\n\u001b[0;32m    824\u001b[0m clip_end \u001b[38;5;241m=\u001b[39m clip_end \u001b[38;5;129;01mor\u001b[39;00m \u001b[38;5;28mlen\u001b[39m(\u001b[38;5;28mself\u001b[39m\u001b[38;5;241m.\u001b[39mvectors)\n\u001b[0;32m    826\u001b[0m \u001b[38;5;28;01mif\u001b[39;00m restrict_vocab:\n",
      "File \u001b[1;32mC:\\anaconda3\\Lib\\site-packages\\gensim\\models\\keyedvectors.py:707\u001b[0m, in \u001b[0;36mKeyedVectors.fill_norms\u001b[1;34m(self, force)\u001b[0m\n\u001b[0;32m    699\u001b[0m \u001b[38;5;28;01mdef\u001b[39;00m \u001b[38;5;21mfill_norms\u001b[39m(\u001b[38;5;28mself\u001b[39m, force\u001b[38;5;241m=\u001b[39m\u001b[38;5;28;01mFalse\u001b[39;00m):\n\u001b[0;32m    700\u001b[0m \u001b[38;5;250m    \u001b[39m\u001b[38;5;124;03m\"\"\"\u001b[39;00m\n\u001b[0;32m    701\u001b[0m \u001b[38;5;124;03m    Ensure per-vector norms are available.\u001b[39;00m\n\u001b[0;32m    702\u001b[0m \n\u001b[1;32m   (...)\u001b[0m\n\u001b[0;32m    705\u001b[0m \n\u001b[0;32m    706\u001b[0m \u001b[38;5;124;03m    \"\"\"\u001b[39;00m\n\u001b[1;32m--> 707\u001b[0m     \u001b[38;5;28;01mif\u001b[39;00m \u001b[38;5;28mself\u001b[39m\u001b[38;5;241m.\u001b[39mnorms \u001b[38;5;129;01mis\u001b[39;00m \u001b[38;5;28;01mNone\u001b[39;00m \u001b[38;5;129;01mor\u001b[39;00m force:\n\u001b[0;32m    708\u001b[0m         \u001b[38;5;28mself\u001b[39m\u001b[38;5;241m.\u001b[39mnorms \u001b[38;5;241m=\u001b[39m np\u001b[38;5;241m.\u001b[39mlinalg\u001b[38;5;241m.\u001b[39mnorm(\u001b[38;5;28mself\u001b[39m\u001b[38;5;241m.\u001b[39mvectors, axis\u001b[38;5;241m=\u001b[39m\u001b[38;5;241m1\u001b[39m)\n",
      "\u001b[1;31mAttributeError\u001b[0m: 'KeyedVectors' object has no attribute 'norms'"
     ]
    }
   ],
   "source": [
    "model.most_similar('sun')"
   ]
  },
  {
   "cell_type": "code",
   "execution_count": null,
   "metadata": {
    "id": "eOaxJAydN92k"
   },
   "outputs": [],
   "source": [
    "# Решение Задача 1\n",
    "import pickle\n",
    "\n",
    "dict_var = {\"first\": \"a\", \"second\": 2, \"third\": [1, 2, 3]}"
   ]
  },
  {
   "cell_type": "code",
   "execution_count": null,
   "metadata": {
    "id": "R0tCklfRVgCD"
   },
   "outputs": [],
   "source": [
    "filename = \"test_pickle.pickle\"\n",
    "\n",
    "with open(filename, 'wb') as file:\n",
    "    pickle.dump(dict_var, file)"
   ]
  },
  {
   "cell_type": "code",
   "execution_count": null,
   "metadata": {
    "colab": {
     "base_uri": "https://localhost:8080/"
    },
    "id": "MOtDjAoaWQd1",
    "outputId": "78652bc7-d980-4343-88bc-b74330e74c06"
   },
   "outputs": [
    {
     "name": "stdout",
     "output_type": "stream",
     "text": [
      "{'first': 'a', 'second': 2, 'third': [1, 2, 3]}\n"
     ]
    }
   ],
   "source": [
    "with open(filename, 'rb') as file:\n",
    "    print(pickle.load(file))"
   ]
  },
  {
   "cell_type": "code",
   "execution_count": null,
   "metadata": {
    "colab": {
     "base_uri": "https://localhost:8080/"
    },
    "id": "Lc7jmHEGTDYM",
    "outputId": "c105f368-62e7-4061-c939-173d3745209f"
   },
   "outputs": [
    {
     "name": "stdout",
     "output_type": "stream",
     "text": [
      "b'\\x80\\x03}q\\x00(X\\x05\\x00\\x00\\x00firstq\\x01X\\x01\\x00\\x00\\x00aq\\x02X\\x06\\x00\\x00\\x00secondq\\x03K\\x02X\\x05\\x00\\x00\\x00thirdq\\x04]q\\x05(K\\x01K\\x02K\\x03eu.'\n"
     ]
    }
   ],
   "source": [
    "print(pickle.dumps(dict_var))"
   ]
  },
  {
   "cell_type": "code",
   "execution_count": 27,
   "metadata": {
    "id": "KKV-VOw4xHEj"
   },
   "outputs": [],
   "source": [
    "# Решение Задача 2\n",
    "with open('28.4 gensim.pickle', 'rb') as file:\n",
    "    gensim_model = pickle.load(file)"
   ]
  },
  {
   "cell_type": "code",
   "execution_count": 28,
   "metadata": {
    "colab": {
     "base_uri": "https://localhost:8080/"
    },
    "id": "0qnDETu0xOQO",
    "outputId": "dee08f1c-791d-4c88-ee46-5b808e26c136"
   },
   "outputs": [
    {
     "data": {
      "text/plain": [
       "<gensim.models.keyedvectors.KeyedVectors at 0x1ca3a3d9390>"
      ]
     },
     "execution_count": 28,
     "metadata": {},
     "output_type": "execute_result"
    }
   ],
   "source": [
    "gensim_model"
   ]
  },
  {
   "cell_type": "code",
   "execution_count": 29,
   "metadata": {
    "colab": {
     "base_uri": "https://localhost:8080/"
    },
    "id": "HSnzvHcwyHoT",
    "outputId": "eb9b9ba4-4b89-4f55-bb6d-ebcf0868486e"
   },
   "outputs": [
    {
     "ename": "AttributeError",
     "evalue": "'KeyedVectors' object has no attribute 'norms'",
     "output_type": "error",
     "traceback": [
      "\u001b[1;31m---------------------------------------------------------------------------\u001b[0m",
      "\u001b[1;31mAttributeError\u001b[0m                            Traceback (most recent call last)",
      "Cell \u001b[1;32mIn[29], line 1\u001b[0m\n\u001b[1;32m----> 1\u001b[0m gensim_model\u001b[38;5;241m.\u001b[39mmost_similar(\u001b[38;5;124m'\u001b[39m\u001b[38;5;124msun\u001b[39m\u001b[38;5;124m'\u001b[39m)\n",
      "File \u001b[1;32mC:\\anaconda3\\Lib\\site-packages\\gensim\\models\\keyedvectors.py:823\u001b[0m, in \u001b[0;36mKeyedVectors.most_similar\u001b[1;34m(self, positive, negative, topn, clip_start, clip_end, restrict_vocab, indexer)\u001b[0m\n\u001b[0;32m    820\u001b[0m positive \u001b[38;5;241m=\u001b[39m _ensure_list(positive)\n\u001b[0;32m    821\u001b[0m negative \u001b[38;5;241m=\u001b[39m _ensure_list(negative)\n\u001b[1;32m--> 823\u001b[0m \u001b[38;5;28mself\u001b[39m\u001b[38;5;241m.\u001b[39mfill_norms()\n\u001b[0;32m    824\u001b[0m clip_end \u001b[38;5;241m=\u001b[39m clip_end \u001b[38;5;129;01mor\u001b[39;00m \u001b[38;5;28mlen\u001b[39m(\u001b[38;5;28mself\u001b[39m\u001b[38;5;241m.\u001b[39mvectors)\n\u001b[0;32m    826\u001b[0m \u001b[38;5;28;01mif\u001b[39;00m restrict_vocab:\n",
      "File \u001b[1;32mC:\\anaconda3\\Lib\\site-packages\\gensim\\models\\keyedvectors.py:707\u001b[0m, in \u001b[0;36mKeyedVectors.fill_norms\u001b[1;34m(self, force)\u001b[0m\n\u001b[0;32m    699\u001b[0m \u001b[38;5;28;01mdef\u001b[39;00m \u001b[38;5;21mfill_norms\u001b[39m(\u001b[38;5;28mself\u001b[39m, force\u001b[38;5;241m=\u001b[39m\u001b[38;5;28;01mFalse\u001b[39;00m):\n\u001b[0;32m    700\u001b[0m \u001b[38;5;250m    \u001b[39m\u001b[38;5;124;03m\"\"\"\u001b[39;00m\n\u001b[0;32m    701\u001b[0m \u001b[38;5;124;03m    Ensure per-vector norms are available.\u001b[39;00m\n\u001b[0;32m    702\u001b[0m \n\u001b[1;32m   (...)\u001b[0m\n\u001b[0;32m    705\u001b[0m \n\u001b[0;32m    706\u001b[0m \u001b[38;5;124;03m    \"\"\"\u001b[39;00m\n\u001b[1;32m--> 707\u001b[0m     \u001b[38;5;28;01mif\u001b[39;00m \u001b[38;5;28mself\u001b[39m\u001b[38;5;241m.\u001b[39mnorms \u001b[38;5;129;01mis\u001b[39;00m \u001b[38;5;28;01mNone\u001b[39;00m \u001b[38;5;129;01mor\u001b[39;00m force:\n\u001b[0;32m    708\u001b[0m         \u001b[38;5;28mself\u001b[39m\u001b[38;5;241m.\u001b[39mnorms \u001b[38;5;241m=\u001b[39m np\u001b[38;5;241m.\u001b[39mlinalg\u001b[38;5;241m.\u001b[39mnorm(\u001b[38;5;28mself\u001b[39m\u001b[38;5;241m.\u001b[39mvectors, axis\u001b[38;5;241m=\u001b[39m\u001b[38;5;241m1\u001b[39m)\n",
      "\u001b[1;31mAttributeError\u001b[0m: 'KeyedVectors' object has no attribute 'norms'"
     ]
    }
   ],
   "source": [
    "gensim_model.most_similar('sun')"
   ]
  },
  {
   "cell_type": "code",
   "execution_count": null,
   "metadata": {},
   "outputs": [],
   "source": []
  }
 ],
 "metadata": {
  "colab": {
   "provenance": []
  },
  "kernelspec": {
   "display_name": "Python 3 (ipykernel)",
   "language": "python",
   "name": "python3"
  },
  "language_info": {
   "codemirror_mode": {
    "name": "ipython",
    "version": 3
   },
   "file_extension": ".py",
   "mimetype": "text/x-python",
   "name": "python",
   "nbconvert_exporter": "python",
   "pygments_lexer": "ipython3",
   "version": "3.11.5"
  }
 },
 "nbformat": 4,
 "nbformat_minor": 4
}
