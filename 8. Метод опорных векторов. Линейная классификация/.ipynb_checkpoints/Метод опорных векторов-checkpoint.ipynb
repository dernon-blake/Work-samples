{
 "cells": [
  {
   "cell_type": "code",
   "execution_count": 2,
   "id": "38ee35a3-c38b-44f2-b7b1-7aad2821ffff",
   "metadata": {},
   "outputs": [
    {
     "name": "stdout",
     "output_type": "stream",
     "text": [
      "         f1        f2  target\n",
      "0  1.147058  1.047703       0\n",
      "1  0.733064  0.497771       0\n",
      "2  1.184146  1.630681       0\n",
      "3  1.409791  1.738476       0\n",
      "4  0.929529  0.581425       0\n"
     ]
    }
   ],
   "source": [
    "import pandas as pd\n",
    "\n",
    "df = pd.read_csv('example_unbalanced.csv')\n",
    "print(df.head())\n",
    "\n",
    "x = df[['f1','f2']]\n",
    "y = df['target']"
   ]
  },
  {
   "cell_type": "code",
   "execution_count": 3,
   "id": "297fdc10-098a-4ec7-8227-3b43247f1a51",
   "metadata": {},
   "outputs": [
    {
     "data": {
      "text/plain": [
       "target\n",
       "0    4724\n",
       "1     276\n",
       "Name: count, dtype: int64"
      ]
     },
     "execution_count": 3,
     "metadata": {},
     "output_type": "execute_result"
    }
   ],
   "source": [
    "y.value_counts()"
   ]
  },
  {
   "cell_type": "code",
   "execution_count": 4,
   "id": "6a64049c-7b69-4440-8116-0cd30dbdac4a",
   "metadata": {},
   "outputs": [],
   "source": [
    "from sklearn.model_selection import train_test_split\n",
    "\n",
    "X_train, X_test, y_train, y_test = train_test_split(x, y, test_size=0.25)"
   ]
  },
  {
   "cell_type": "code",
   "execution_count": 5,
   "id": "0b2a7081-7847-4e18-8280-df658ba38a23",
   "metadata": {},
   "outputs": [],
   "source": [
    "from sklearn.svm import SVC"
   ]
  },
  {
   "cell_type": "code",
   "execution_count": 6,
   "id": "bc8e8da0-be19-4ec3-aa88-a04a1b034056",
   "metadata": {},
   "outputs": [],
   "source": [
    "model = SVC()\n",
    "model.fit(X_train, y_train)\n",
    "\n",
    "pred_unb = model.predict(X_test)"
   ]
  },
  {
   "cell_type": "code",
   "execution_count": 10,
   "id": "0563e66e-f424-472a-8551-88fbd39f8dda",
   "metadata": {},
   "outputs": [
    {
     "name": "stdout",
     "output_type": "stream",
     "text": [
      "              precision    recall  f1-score   support\n",
      "\n",
      "           0       0.99      1.00      1.00      1197\n",
      "           1       1.00      0.81      0.90        53\n",
      "\n",
      "    accuracy                           0.99      1250\n",
      "   macro avg       1.00      0.91      0.95      1250\n",
      "weighted avg       0.99      0.99      0.99      1250\n",
      "\n"
     ]
    }
   ],
   "source": [
    "from sklearn.metrics import classification_report\n",
    "\n",
    "print(classification_report(y_test, pred_unb))"
   ]
  },
  {
   "cell_type": "code",
   "execution_count": 11,
   "id": "b3370e4f-afed-4360-8282-8f8464d0efba",
   "metadata": {},
   "outputs": [
    {
     "name": "stdout",
     "output_type": "stream",
     "text": [
      "              precision    recall  f1-score   support\n",
      "\n",
      "           0       1.00      0.94      0.97      1197\n",
      "           1       0.41      0.91      0.56        53\n",
      "\n",
      "    accuracy                           0.94      1250\n",
      "   macro avg       0.70      0.92      0.77      1250\n",
      "weighted avg       0.97      0.94      0.95      1250\n",
      "\n"
     ]
    }
   ],
   "source": [
    "model = SVC(class_weight='balanced')\n",
    "model.fit(X_train, y_train)\n",
    "\n",
    "pred_b = model.predict(X_test)\n",
    "\n",
    "print(classification_report(y_test, pred_b))"
   ]
  },
  {
   "cell_type": "code",
   "execution_count": 1,
   "id": "abec1e1e-1719-435f-8f87-1cc32622d2da",
   "metadata": {},
   "outputs": [],
   "source": [
    "import numpy as np\n",
    "from sklearn.datasets import make_circles\n",
    "from sklearn.svm import SVC\n",
    "from matplotlib import pyplot as plt\n",
    "\n",
    "X, y = make_circles(100, factor=.1, noise=.1)"
   ]
  },
  {
   "cell_type": "code",
   "execution_count": 8,
   "id": "f210604b-83bb-4d63-a00d-44f8ea1d1a62",
   "metadata": {},
   "outputs": [
    {
     "data": {
      "image/png": "[encoded data removed]",
      "text/plain": [
       "<Figure size 640x480 with 1 Axes>"
      ]
     },
     "metadata": {},
     "output_type": "display_data"
    }
   ],
   "source": [
    "plt.scatter(X[:,0], X[:,1], c=y, s=50, cmap='autumn');"
   ]
  },
  {
   "cell_type": "code",
   "execution_count": 13,
   "id": "458519d8-0f0f-46e4-bd75-ab0b186aa5dd",
   "metadata": {},
   "outputs": [],
   "source": [
    "def plot_svc_decision_function(model, ax=None, plot_support=True):\n",
    "    if ax is None:\n",
    "        ax = plt.gca()\n",
    "    xlim = ax.get_xlim()\n",
    "    ylim = ax.get_ylim()\n",
    "\n",
    "    x = np.linespace(xlim[0], xlim[1], 30)\n",
    "    y = np.linespace(ylim[0], ylim[1], 30)\n",
    "    Y, X = np.meshgrid(y, x)\n",
    "    xy = np.vstack([X.ravel(), Y.ravel()]).T\n",
    "    P = model.decision_function(xy).reshape(X.shape)\n",
    "\n",
    "    ax.contour(X, Y, P, colors='k',\n",
    "    levels=[-1, 0, 1], alpha=0.5,\n",
    "    linestyles=['--', '-', '--'])\n",
    "\n",
    "    if plot_support:\n",
    "        ax.scatter(model.support_vecotrs_[:, 0],\n",
    "                   model.support_vectors_[:, 1],\n",
    "                   s=300, linewidth=1, faceolors='none');\n",
    "    ax.set_xlim(xlim)\n",
    "    ax.set_ylim(ylim)"
   ]
  },
  {
   "cell_type": "code",
   "execution_count": null,
   "id": "72abd0ba-839b-4577-9417-1ec019abf2f6",
   "metadata": {},
   "outputs": [],
   "source": []
  }
 ],
 "metadata": {
  "kernelspec": {
   "display_name": "Python 3 (ipykernel)",
   "language": "python",
   "name": "python3"
  },
  "language_info": {
   "codemirror_mode": {
    "name": "ipython",
    "version": 3
   },
   "file_extension": ".py",
   "mimetype": "text/x-python",
   "name": "python",
   "nbconvert_exporter": "python",
   "pygments_lexer": "ipython3",
   "version": "3.11.7"
  }
 },
 "nbformat": 4,
 "nbformat_minor": 5
}
