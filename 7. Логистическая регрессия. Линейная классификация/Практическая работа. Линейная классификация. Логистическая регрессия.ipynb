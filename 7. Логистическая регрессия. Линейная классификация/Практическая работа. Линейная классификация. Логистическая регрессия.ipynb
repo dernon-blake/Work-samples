{
 "cells": [
  {
   "cell_type": "markdown",
   "metadata": {
    "id": "Q7ytv2GMjpGZ"
   },
   "source": [
    "# Логистическая регрессия. Практическая работа\n",
    "\n",
    "## Цель практической работы\n",
    "\n",
    "Вы уже делали задание, в котором с помощью метода ближайших соседей оценивали склонность клиента банка откликнуться или не откликнуться на предложение.\n",
    "\n",
    "В этом практическом задании ваши цели:\n",
    "*  решить эту же задачу с помощью логистической регрессии;\n",
    "*  потренироваться в подборе порога; \n",
    "*  потренироваться в подборе гиперпараметров модели."
   ]
  },
  {
   "cell_type": "markdown",
   "metadata": {
    "id": "Sj3n0n38nEfs"
   },
   "source": [
    "## Что входит в работу\n",
    "\n",
    "*  Загрузить данные для задачи.\n",
    "*  Обучить метод ближайших соседей с заданным количеством соседей k, вычислить метрики.\n",
    "*  Обучить логистическую регрессию с параметрами по умолчанию, вычислить метрики.\n",
    "*  Подобрать порог модели, вычислить метрики.\n",
    "*  Подобрать гиперпараметр С (константа регуляризации) модели, вычислить метрики."
   ]
  },
  {
   "cell_type": "markdown",
   "metadata": {
    "id": "3qfZPYNpoFGE"
   },
   "source": [
    "## Что оценивается\n",
    "\n",
    "*  Выполнены все этапы задания: код запускается, отрабатывает без ошибок; подробно и обоснованно написаны текстовые выводы, где это требуется."
   ]
  },
  {
   "cell_type": "markdown",
   "metadata": {
    "id": "3_EzM8UJoRHd"
   },
   "source": [
    "## Формат сдачи\n",
    "Выполните предложенные задания — впишите свой код (или, если требуется, текст) в ячейки после комментариев. \n",
    "\n",
    "*Комментарии — это текст, который начинается с символа #. Например: # ваш код здесь.*\n",
    "\n",
    "Сохраните изменения, используя опцию Save and Checkpoint из вкладки меню File или кнопку Save and Checkpoint на панели инструментов. Итоговый файл в формате .ipynb (файл Jupyter Notebook) загрузите в личный кабинет и отправьте на проверку."
   ]
  },
  {
   "cell_type": "code",
   "execution_count": 1,
   "metadata": {
    "id": "aPDB2wP8jndz"
   },
   "outputs": [],
   "source": [
    "# подключим библиотеки\n",
    "%matplotlib inline\n",
    "import matplotlib.pyplot as plt\n",
    "import numpy as np\n",
    "import pandas as pd\n",
    "\n",
    "import warnings\n",
    "warnings.filterwarnings(\"ignore\")"
   ]
  },
  {
   "cell_type": "code",
   "execution_count": 2,
   "metadata": {
    "id": "7Zw7RmtAjn8O"
   },
   "outputs": [],
   "source": [
    "# считаем данные\n",
    "data = pd.read_csv('ClientsData.csv')"
   ]
  },
  {
   "cell_type": "code",
   "execution_count": 3,
   "metadata": {
    "id": "3QbRGWqJjxOv"
   },
   "outputs": [
    {
     "data": {
      "text/html": [
       "<div>\n",
       "<style scoped>\n",
       "    .dataframe tbody tr th:only-of-type {\n",
       "        vertical-align: middle;\n",
       "    }\n",
       "\n",
       "    .dataframe tbody tr th {\n",
       "        vertical-align: top;\n",
       "    }\n",
       "\n",
       "    .dataframe thead th {\n",
       "        text-align: right;\n",
       "    }\n",
       "</style>\n",
       "<table border=\"1\" class=\"dataframe\">\n",
       "  <thead>\n",
       "    <tr style=\"text-align: right;\">\n",
       "      <th></th>\n",
       "      <th>AGE</th>\n",
       "      <th>SOCSTATUS_WORK_FL</th>\n",
       "      <th>SOCSTATUS_PENS_FL</th>\n",
       "      <th>GENDER</th>\n",
       "      <th>CHILD_TOTAL</th>\n",
       "      <th>DEPENDANTS</th>\n",
       "      <th>PERSONAL_INCOME</th>\n",
       "      <th>LOAN_NUM_TOTAL</th>\n",
       "      <th>LOAN_NUM_CLOSED</th>\n",
       "      <th>LOAN_DLQ_NUM</th>\n",
       "      <th>TARGET</th>\n",
       "    </tr>\n",
       "  </thead>\n",
       "  <tbody>\n",
       "    <tr>\n",
       "      <th>0</th>\n",
       "      <td>49</td>\n",
       "      <td>1</td>\n",
       "      <td>0</td>\n",
       "      <td>1</td>\n",
       "      <td>2</td>\n",
       "      <td>1</td>\n",
       "      <td>5000.0</td>\n",
       "      <td>1</td>\n",
       "      <td>1</td>\n",
       "      <td>2</td>\n",
       "      <td>0</td>\n",
       "    </tr>\n",
       "    <tr>\n",
       "      <th>1</th>\n",
       "      <td>32</td>\n",
       "      <td>1</td>\n",
       "      <td>0</td>\n",
       "      <td>1</td>\n",
       "      <td>3</td>\n",
       "      <td>3</td>\n",
       "      <td>12000.0</td>\n",
       "      <td>1</td>\n",
       "      <td>1</td>\n",
       "      <td>1</td>\n",
       "      <td>0</td>\n",
       "    </tr>\n",
       "    <tr>\n",
       "      <th>2</th>\n",
       "      <td>52</td>\n",
       "      <td>1</td>\n",
       "      <td>0</td>\n",
       "      <td>1</td>\n",
       "      <td>4</td>\n",
       "      <td>0</td>\n",
       "      <td>9000.0</td>\n",
       "      <td>2</td>\n",
       "      <td>1</td>\n",
       "      <td>0</td>\n",
       "      <td>0</td>\n",
       "    </tr>\n",
       "    <tr>\n",
       "      <th>3</th>\n",
       "      <td>39</td>\n",
       "      <td>1</td>\n",
       "      <td>0</td>\n",
       "      <td>1</td>\n",
       "      <td>1</td>\n",
       "      <td>1</td>\n",
       "      <td>25000.0</td>\n",
       "      <td>1</td>\n",
       "      <td>1</td>\n",
       "      <td>3</td>\n",
       "      <td>0</td>\n",
       "    </tr>\n",
       "    <tr>\n",
       "      <th>4</th>\n",
       "      <td>30</td>\n",
       "      <td>1</td>\n",
       "      <td>0</td>\n",
       "      <td>0</td>\n",
       "      <td>0</td>\n",
       "      <td>0</td>\n",
       "      <td>12000.0</td>\n",
       "      <td>2</td>\n",
       "      <td>1</td>\n",
       "      <td>2</td>\n",
       "      <td>0</td>\n",
       "    </tr>\n",
       "  </tbody>\n",
       "</table>\n",
       "</div>"
      ],
      "text/plain": [
       "   AGE  SOCSTATUS_WORK_FL  SOCSTATUS_PENS_FL  GENDER  CHILD_TOTAL  DEPENDANTS  \\\n",
       "0   49                  1                  0       1            2           1   \n",
       "1   32                  1                  0       1            3           3   \n",
       "2   52                  1                  0       1            4           0   \n",
       "3   39                  1                  0       1            1           1   \n",
       "4   30                  1                  0       0            0           0   \n",
       "\n",
       "   PERSONAL_INCOME  LOAN_NUM_TOTAL  LOAN_NUM_CLOSED  LOAN_DLQ_NUM  TARGET  \n",
       "0           5000.0               1                1             2       0  \n",
       "1          12000.0               1                1             1       0  \n",
       "2           9000.0               2                1             0       0  \n",
       "3          25000.0               1                1             3       0  \n",
       "4          12000.0               2                1             2       0  "
      ]
     },
     "execution_count": 3,
     "metadata": {},
     "output_type": "execute_result"
    }
   ],
   "source": [
    "data.head()"
   ]
  },
  {
   "cell_type": "markdown",
   "metadata": {
    "id": "HbnaQJxw2mHQ"
   },
   "source": [
    "В этом ноутбуке нам придётся подбирать гиперпараметры модели, а ещё порог. Поэтому, чтобы не переобучиться, разобъём данные на трейн, валидацию и тест.\n",
    "\n",
    "*  Обучать модели будем на тренировочных данных.\n",
    "*  Подбирать необходимые величины — по валидации.\n",
    "*  Оценивать качество — на тесте."
   ]
  },
  {
   "cell_type": "code",
   "execution_count": 81,
   "metadata": {
    "id": "bkG1LjB0s81d"
   },
   "outputs": [],
   "source": [
    "# разделим данные на обучающую и тестовую выборки\n",
    "from sklearn.model_selection import train_test_split\n",
    "\n",
    "X = data.drop('TARGET', axis=1)\n",
    "y = data['TARGET']\n",
    "\n",
    "Xtrain, Xtest, ytrain, ytest = train_test_split(X, y, train_size=0.7, random_state=123)\n",
    "Xtrain, Xval, ytrain, yval = train_test_split(Xtrain, ytrain, train_size=0.7, random_state=123)"
   ]
  },
  {
   "cell_type": "markdown",
   "metadata": {
    "id": "9g3cyUKPqgqu"
   },
   "source": [
    "В задании по методу ближайших соседей было найдено, что оптимальное число соседей k = 9.\n",
    "\n",
    "Обучите на тренировочных данных KNN с k = 9 и выведите матрицу ошибок, а также значение метрик precision и recall на тестовых данных."
   ]
  },
  {
   "cell_type": "code",
   "execution_count": 23,
   "metadata": {
    "id": "efySFKgej1_1"
   },
   "outputs": [],
   "source": [
    "from sklearn.neighbors import KNeighborsClassifier\n",
    "from sklearn.metrics import confusion_matrix\n",
    "from sklearn.metrics import precision_score, recall_score"
   ]
  },
  {
   "cell_type": "code",
   "execution_count": 24,
   "metadata": {
    "id": "QzR_npzTj5OC"
   },
   "outputs": [
    {
     "data": {
      "text/plain": [
       "array([[3982,  553],\n",
       "       [  26,    6]], dtype=int64)"
      ]
     },
     "execution_count": 24,
     "metadata": {},
     "output_type": "execute_result"
    }
   ],
   "source": [
    "# ваш код здесь\n",
    "kn = KNeighborsClassifier(n_neighbors=9)\n",
    "kn.fit(Xtrain, ytrain)\n",
    "confusion_matrix(kn.predict(Xtest), ytest)"
   ]
  },
  {
   "cell_type": "code",
   "execution_count": 25,
   "metadata": {},
   "outputs": [
    {
     "name": "stdout",
     "output_type": "stream",
     "text": [
      "точность: 0.01073345259391771\n",
      "полнота: 0.1875\n"
     ]
    }
   ],
   "source": [
    "print('точность:', precision_score(kn.predict(Xtest), ytest))\n",
    "print('полнота:', recall_score(kn.predict(Xtest), ytest))"
   ]
  },
  {
   "cell_type": "markdown",
   "metadata": {
    "id": "E9Bk7tSerX-L"
   },
   "source": [
    "Какой вывод можно сделать:\n",
    "- для класса 0 — клиент не откликнулся — мы получили достаточно высокие значения TP в том числе потому, что представителей этого класса больше;\n",
    "- для класса 1 — клиент откликнулся — мы получили низкие значения TN.\n",
    "\n",
    "Поэтому значения precision и recall низкие. Модель даёт неудовлетворительные результаты, так как находит мало клиентов, которые откликнутся на предложение.\n",
    "\n"
   ]
  },
  {
   "cell_type": "markdown",
   "metadata": {
    "id": "zGmfshG9rmBn"
   },
   "source": [
    "Обучите логистическую регрессию с параметрами по умолчанию и посмотрите на метрики.\n",
    "\n",
    "Везде дальше при оценке метрик надо выводить confusion_matrix, precision и recall."
   ]
  },
  {
   "cell_type": "code",
   "execution_count": 31,
   "metadata": {
    "id": "7tOX78zbrPHB"
   },
   "outputs": [
    {
     "data": {
      "text/plain": [
       "array([[4004,  559],\n",
       "       [   4,    0]], dtype=int64)"
      ]
     },
     "execution_count": 31,
     "metadata": {},
     "output_type": "execute_result"
    }
   ],
   "source": [
    "from sklearn.linear_model import LogisticRegression\n",
    "model = LogisticRegression()\n",
    "model.fit(Xtrain, ytrain)\n",
    "confusion_matrix(model.predict(Xtest), ytest)\n",
    "# ваш код здесь"
   ]
  },
  {
   "cell_type": "code",
   "execution_count": 32,
   "metadata": {},
   "outputs": [
    {
     "name": "stdout",
     "output_type": "stream",
     "text": [
      "точность: 0.0\n",
      "полнота: 0.0\n"
     ]
    }
   ],
   "source": [
    "print('точность:', precision_score(model.predict(Xtest), ytest))\n",
    "print('полнота:', recall_score(model.predict(Xtest), ytest))"
   ]
  },
  {
   "cell_type": "markdown",
   "metadata": {
    "id": "CvWGh7m9sTKM"
   },
   "source": [
    "Наша цель — найти как можно больше клиентов, которые откликнутся на предложение. А модель таких не находит. \n",
    "\n",
    "Мы помним, что метод predict_proba у логистической регрессии предсказывает математические (то есть корректные) вероятности классов. Предскажите вероятности классов с помощью обученной логистической регрессии на тестовых данных и выведите вероятности положительного класса для первых десяти объектов. \n",
    "\n",
    "Глядя на полученные вероятности, попробуйте объяснить, почему вы получили именно такую матрицу ошибок и такие значения точности с полноты."
   ]
  },
  {
   "cell_type": "code",
   "execution_count": 37,
   "metadata": {
    "id": "LNqjcxrwsLzl"
   },
   "outputs": [
    {
     "data": {
      "text/plain": [
       "array([[0.92867082, 0.07132918],\n",
       "       [0.88469094, 0.11530906],\n",
       "       [0.70811808, 0.29188192],\n",
       "       [0.78090239, 0.21909761],\n",
       "       [0.86126565, 0.13873435],\n",
       "       [0.95507473, 0.04492527],\n",
       "       [0.93575353, 0.06424647],\n",
       "       [0.96411357, 0.03588643],\n",
       "       [0.94284198, 0.05715802],\n",
       "       [0.93128801, 0.06871199]])"
      ]
     },
     "execution_count": 37,
     "metadata": {},
     "output_type": "execute_result"
    }
   ],
   "source": [
    "# ваш код здесь\n",
    "model.predict_proba(Xtest[:10])"
   ]
  },
  {
   "cell_type": "code",
   "execution_count": 40,
   "metadata": {
    "id": "mwJzqbfv5yE4"
   },
   "outputs": [],
   "source": [
    "#Ваше объяснение здесь\n",
    "\n",
    "# Левый столбец указывает вероятность принадлежности к классу 0 (не откликнулись), а правый к классу 1 (откликнулись).\n",
    "# По умолчанию - порог перевода >= 0.5 определяет принадлежность к классу. Его можно изменять. В данных случаях - все объекты \n",
    "# определились в 0 класс."
   ]
  },
  {
   "cell_type": "markdown",
   "metadata": {
    "id": "Z08xmRAcugGb"
   },
   "source": [
    "Давайте уточним цель. Пусть нам нужно найти как можно больше клиентов, которые откликнутся на предложение, то есть максимизировать полноту (recall). \n",
    "\n",
    "При этом хочется, чтобы точность модели (precision) не была очень низкой. Заказчик посмотрел на результаты работы KNN и потребовал, чтобы точность была не ниже, чем у KNN: $precision \\geq 0.13$."
   ]
  },
  {
   "cell_type": "markdown",
   "metadata": {
    "id": "f-syFkflt6EV"
   },
   "source": [
    "Давайте будем изменять порог для перевода вероятности в классы так, чтобы:\n",
    "*   максимизировать значение recall\n",
    "*   при условии, что $precision \\geq 0.13$.\n",
    "\n",
    "Если мы будем подбирать порог по тестовой выборке, то, по сути, обучимся на ней и, значит, переобучимся. Это плохо. \n",
    "\n",
    "Поэтому предскажите вероятности на валидационной выборке и подберите порог по ней (Xval, yval), а затем посмотрите, какое качество для найденного порога вы получите на тестовых данных."
   ]
  },
  {
   "cell_type": "code",
   "execution_count": 186,
   "metadata": {
    "id": "398pACpBtFi2",
    "scrolled": true
   },
   "outputs": [
    {
     "name": "stdout",
     "output_type": "stream",
     "text": [
      "максимальная полнота: 0.36827195467422097,\n",
      "точность: 0.1388888888888889, \n",
      "порог: 0.9990000000000009\n"
     ]
    }
   ],
   "source": [
    "probs_val = kn.predict_proba(Xval)[:, 1]# ваш код здесь\n",
    "\n",
    "max_recall = -1\n",
    "thr = -1\n",
    "prec = -1\n",
    "classes = []\n",
    "\n",
    "for threshold in np.arange(0.05, 1, 0.001):\n",
    "    classes.append((probs_val > threshold).astype(int))\n",
    "for i in range(950):\n",
    "    if max_recall < recall_score(yval, classes[i]) and precision_score(yval, classes[i]) >= 0.13:\n",
    "        max_recall = recall_score(yval, classes[i])\n",
    "        prec = precision_score(yval, classes[i])\n",
    "        thr = threshold\n",
    "\n",
    "\n",
    "print(f'максимальная полнота: {max_recall},\\nточность: {prec}, \\nпорог: {thr}')\n",
    "    # для каждого значения порога переведbите вероятности в классы\n",
    "    # посчитайте метрики\n",
    "\n",
    "# напечатайте порог, для которого получается максимальная полнота, при precision >= 0.13"
   ]
  },
  {
   "cell_type": "code",
   "execution_count": 190,
   "metadata": {
    "id": "qpHv0DVwywKq",
    "scrolled": true
   },
   "outputs": [
    {
     "name": "stdout",
     "output_type": "stream",
     "text": [
      "Полнота: 0.0,\n",
      "Точность: 0.0, \n",
      "Порог: 0.9990000000000009\n"
     ]
    }
   ],
   "source": [
    "# по найденному порогу переведите вероятности в классы на тесте и напечатайте метрики\n",
    "class_test = (kn.predict_proba(Xtest)[:, 1] > threshold).astype(int)\n",
    "print(f'Полнота: {recall_score(ytest, class_test)},\\nТочность: {precision_score(ytest, class_test)}, \\nПорог: {thr}')"
   ]
  },
  {
   "cell_type": "code",
   "execution_count": 195,
   "metadata": {},
   "outputs": [
    {
     "data": {
      "text/plain": [
       "array([[4008,    0],\n",
       "       [ 559,    0]], dtype=int64)"
      ]
     },
     "execution_count": 195,
     "metadata": {},
     "output_type": "execute_result"
    }
   ],
   "source": [
    "confusion_matrix(ytest,class_test)"
   ]
  },
  {
   "cell_type": "markdown",
   "metadata": {
    "id": "fLakCD5TwmDe"
   },
   "source": [
    "Сделайте вывод. Смогли ли мы с помощью подбора порога добиться большего значения recall, чем у KNN? "
   ]
  },
  {
   "cell_type": "code",
   "execution_count": 193,
   "metadata": {
    "id": "222ZBiDy6Z1_"
   },
   "outputs": [],
   "source": [
    "# ваш вывод здесь\n",
    "# При таком большом пороге произошло недообучение. Просто, большинство объектов упало нужным образов в выборке\n",
    "# Xval, yval. И с условием в точности >= 13%, Порог вышел слишком большим."
   ]
  },
  {
   "cell_type": "markdown",
   "metadata": {
    "id": "zc1D7Hy8wvkR"
   },
   "source": [
    "А ещё, чтобы улучшить качество предсказания, можно подбирать значение гиперпараметра C у логистической регрессии. Для каждого значения C придётся подбирать свой порог, поэтому:  \n",
    "\n",
    "1. Обучите для значений C из диапазона [0.05, 0.15, 0.25, ...., 10.05] логистическую регрессию (на тренировочных данных).\n",
    "\n",
    "2. Для каждой из обученных моделей во внутреннем цикле подберите оптимальный порог (как в предыдущем задании) — на валидационных данных.\n",
    "\n",
    "\n",
    "\n",
    "В качестве результата выведите значение C и порога для модели, которая даёт наилучшие значения метрик (наибольший recall при ограничении на $precision \\geq 0.13$).\n",
    "\n",
    "Также напечатайте полученные метрики (матрицу ошибок, точность и полноту) для лучшей модели — на тестовых данных."
   ]
  },
  {
   "cell_type": "code",
   "execution_count": 201,
   "metadata": {
    "id": "EhjmTEkhuT9S"
   },
   "outputs": [
    {
     "name": "stdout",
     "output_type": "stream",
     "text": [
      "Максимальная полнота: 0.9093484419263456,\n",
      "Точность: 0.13001215066828675, \n",
      "Порог: 0.9990000000000009, \n",
      "C:0.9909999999999999\n"
     ]
    }
   ],
   "source": [
    "regs = []\n",
    "recalls = []\n",
    "thresholds = []\n",
    "precisions = []\n",
    "\n",
    "for reg in np.arange(0.001, 1, 0.01):\n",
    "    model1 = LogisticRegression(C=reg, random_state=42)\n",
    "    model1.fit(Xtrain, ytrain)\n",
    "\n",
    "    # обучите логистическую регрессию с C=reg\n",
    "\n",
    "    probs_val = model1.predict_proba(Xval)[:, 1]\n",
    "    max_recall = -1\n",
    "    thr = -1\n",
    "    prec = -1\n",
    "    reg_C = -1\n",
    "    classes = []\n",
    "\n",
    "    for threshold in np.arange(0.05, 1, 0.001):\n",
    "        classes.append((probs_val > threshold).astype(int))\n",
    "    for i in range(950):\n",
    "        if max_recall < recall_score(yval, classes[i]) and precision_score(yval, classes[i]) >= 0.13:\n",
    "            max_recall = recall_score(yval, classes[i])\n",
    "            prec = precision_score(yval, classes[i])\n",
    "            thr = threshold\n",
    "            reg_C = reg\n",
    "        # подберите оптимальный порог как в задании выше\n",
    "\n",
    "    recalls.append(max_recall)\n",
    "    thresholds.append(thr)\n",
    "    precisions.append(prec)\n",
    "    regs.append(reg_C)\n",
    "\n",
    "\n",
    "print(f'Максимальная полнота: {max_recall},\\nТочность: {prec}, \\nПорог: {thr}, \\nC:{reg_C}')"
   ]
  },
  {
   "cell_type": "code",
   "execution_count": 203,
   "metadata": {},
   "outputs": [
    {
     "data": {
      "text/plain": [
       "array([[4008,    0],\n",
       "       [ 559,    0]], dtype=int64)"
      ]
     },
     "execution_count": 203,
     "metadata": {},
     "output_type": "execute_result"
    }
   ],
   "source": [
    "model2 = LogisticRegression(C = 0.9909999999999999, random_state=42)\n",
    "model2.fit(Xtest, ytest)\n",
    "threshold = 0.9990000000000009\n",
    "\n",
    "probs_val2 = model2.predict_proba(Xtest)[:, 1]\n",
    "model_predict = (probs_val2 > threshold).astype(int)\n",
    "confusion_matrix(ytest, model_predict)"
   ]
  },
  {
   "cell_type": "code",
   "execution_count": 206,
   "metadata": {},
   "outputs": [
    {
     "name": "stdout",
     "output_type": "stream",
     "text": [
      "Максимальная полнота: 0.0017889087656529517,\n",
      "Точность: 0.3333333333333333, \n",
      "Порог: 0.9990000000000009, \n",
      "C: 0.9909999999999999\n"
     ]
    }
   ],
   "source": [
    "print(f'Максимальная полнота: {recall_score(ytest, model2.predict(Xtest))},\\nТочность: {precision_score(ytest, model2.predict(Xtest))}, \\nПорог: {threshold}, \\nC: 0.9909999999999999')"
   ]
  },
  {
   "cell_type": "code",
   "execution_count": null,
   "metadata": {
    "id": "DZtXAIxi0Ksr"
   },
   "outputs": [],
   "source": [
    "# выведите значения C, precision, recall, threshold для наилучшей по заданным условиям модели"
   ]
  },
  {
   "cell_type": "markdown",
   "metadata": {
    "id": "fwpx_UVS2DK_"
   },
   "source": [
    "Влияет ли изменение гиперпараметра C на качество модели (и, соответственно, метрики) в этой задаче?"
   ]
  },
  {
   "cell_type": "markdown",
   "metadata": {
    "id": "FzTsUr7p7Eu-"
   },
   "source": [
    " ВАШ ВЫВОД ЗДЕСЬ\n",
    "\n",
    "\n",
    "Можно сделать следующиий вывод: гиперпараметр С и метрики явно сильно влияют на качество модели, но по разному.\n",
    "При небольшом объеме данных мы можем просто вывести все в TP и при этом получить хорошие метрики, практически при любых\n",
    "значениях параметров. Но при установке таких же параметров на большие данные - они не покажут хорошего результата.\n",
    "\n",
    "Вывод: не во всех выборках изменение параметров может помочь повлиять на качество модели. Иногда просто может не хватать данных,\n",
    "чтобы модель могла верна определять класс объекта."
   ]
  },
  {
   "cell_type": "markdown",
   "metadata": {
    "id": "BaCqlDx74pns"
   },
   "source": [
    "Ответьте развёрнуто на следующие вопросы:\n",
    "\n",
    "* Удалось ли при помощи логистической регрессии и подбора порога превзойти качество метода ближайших соседей в этой задаче? \n",
    "\n",
    "* Смогли ли мы при помощи этой модели получить высокий recall при ограничениях, поставленных заказчиком?\n"
   ]
  },
  {
   "cell_type": "code",
   "execution_count": 208,
   "metadata": {
    "id": "upznWo7n4o0F"
   },
   "outputs": [],
   "source": [
    "# ваш вывод здесь"
   ]
  }
 ],
 "metadata": {
  "colab": {
   "collapsed_sections": [],
   "provenance": []
  },
  "kernelspec": {
   "display_name": "Python 3 (ipykernel)",
   "language": "python",
   "name": "python3"
  },
  "language_info": {
   "codemirror_mode": {
    "name": "ipython",
    "version": 3
   },
   "file_extension": ".py",
   "mimetype": "text/x-python",
   "name": "python",
   "nbconvert_exporter": "python",
   "pygments_lexer": "ipython3",
   "version": "3.11.7"
  }
 },
 "nbformat": 4,
 "nbformat_minor": 4
}
