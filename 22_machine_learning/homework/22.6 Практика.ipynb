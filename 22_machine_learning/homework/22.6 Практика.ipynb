{
 "cells": [
  {
   "cell_type": "markdown",
   "metadata": {
    "id": "qONsoA7WSCZ1"
   },
   "source": [
    "## Обучение моделей"
   ]
  },
  {
   "cell_type": "markdown",
   "metadata": {
    "id": "J2Ad3BukSFEQ"
   },
   "source": [
    "В этом практическом задании две обязательные и одна дополнительная задача. \n",
    "<br>\n",
    "*Обязательные задачи* нужно сделать для того, чтобы проверить, что вы действительно усвоили материал. Если у вас всё получилось, то можете переходить к следующей теме.\n",
    "<br>\n",
    "*Дополнительные задачи* для тех, кто хочет потренироваться с функцией feature_importances_ в деревьях. \n",
    "<br>\n",
    "Удачи!"
   ]
  },
  {
   "cell_type": "markdown",
   "metadata": {
    "id": "wZipdNuaSLzz"
   },
   "source": [
    "Цели практического задания: \n",
    "\n",
    "1.   Научиться обучать модель дерева решений с помощью sklearn.\n",
    "2.   Научиться пользоваться параметром random_state в дереве решения \n",
    "3.   Научиться использовать знания о feature importances в дереве решения\n",
    "\n",
    "\n"
   ]
  },
  {
   "cell_type": "markdown",
   "metadata": {
    "id": "Z8R5w359v5RS"
   },
   "source": [
    "## Обязательные задачи"
   ]
  },
  {
   "cell_type": "markdown",
   "metadata": {
    "id": "Q-11BbVkwZ69"
   },
   "source": [
    "### Описание датасета:\n",
    "- `id`: идентификатор записи;\n",
    "- `is_manufacturer_name`: признак производителя автомобиля;\n",
    "\n",
    "- `region_*`: регион;\n",
    "- `x0_*`: тип топлива;\n",
    "- `manufacturer_*`: производитель;\n",
    "- `short_model_*`: сокращённая модель автомобиля;\n",
    "- `title_status_*`: статус;\n",
    "- `transmission_*`: коробка передач;\n",
    "- `state_*`: штат;\n",
    "- `age_category_*`: возрастная категория автомобиля;\n",
    "\n",
    "- `std_scaled_odometer`: количество пройденных миль (после стандартизации);\n",
    "- `year_std`: год выпуска (после стандартизации);\n",
    "- `lat_std`: широта (после стандартизации);\n",
    "- `long_std`: долгота (после стандартизации);\n",
    "- `odometer/price_std`: отношение стоимости к пробегу автомобиля (после стандартизации);\n",
    "- `desc_len_std`: количество символов в тексте объявления о продаже (после стандартизации);\n",
    "- `model_in_desc_std`: количество наименований модели автомобиля в тексте объявления о продаже (после стандартизации);\n",
    "- `model_len_std`: длина наименования автомобиля (после стандартизации);\n",
    "- `model_word_count_std`: количество слов в наименовании автомобиля (после стандартизации);\n",
    "- `month_std`: номер месяца размещения объявления о продаже автомобиля (после стандартизации);\n",
    "- `dayofweek_std`: день недели размещения объявления о продаже автомобиля (после стандартизации);\n",
    "- `diff_years_std`: количество лет между годом производства автомобиля и годом размещения объявления о продаже автомобиля (после стандартизации);\n",
    "\n",
    "- `price`: стоимость;\n",
    "- `price_category`: категория цены."
   ]
  },
  {
   "cell_type": "markdown",
   "metadata": {
    "id": "_9rGFJy3v6ih"
   },
   "source": [
    "1. *Обучение модели классификации*\n",
    "\n",
    "Обучите модель классификации с помощью DecisionTreeClassifier как продемонстрировано в материалах. Для этого сделайте следующие шаги:\n",
    "\n",
    "1. Загрузите файл с данными `vehicles_dataset_prepared.csv`\n",
    "2. Положите копию датасета из п1 в `df_prepared`\n",
    "3. Из `df_prepared` удалите колонки `price`, `odometer/price_std`\n",
    "4. Поделите датасет на тренировочную и тестовую выборки\n",
    "5. Обучите модель дерева решений на тренировочной выборке\n",
    "6. Сделайте предикт на тестовой выборке\n",
    "7. Замерьте точность на тестовой выборке и выведите матрицу ошибок "
   ]
  },
  {
   "cell_type": "code",
   "execution_count": 1,
   "metadata": {
    "id": "dZo0dX66R2TM"
   },
   "outputs": [],
   "source": [
    "import pandas as pd\n",
    "from sklearn.tree import DecisionTreeClassifier\n",
    "from sklearn.model_selection import train_test_split \n",
    "from sklearn.metrics import accuracy_score, confusion_matrix "
   ]
  },
  {
   "cell_type": "code",
   "execution_count": 3,
   "metadata": {
    "id": "7UE0uAPPCI4S"
   },
   "outputs": [
    {
     "name": "stdout",
     "output_type": "stream",
     "text": [
      "0.6677061677061678\n"
     ]
    },
    {
     "data": {
      "text/plain": [
       "array([[739,  52, 206],\n",
       "       [ 41, 670, 242],\n",
       "       [195, 223, 518]], dtype=int64)"
      ]
     },
     "execution_count": 3,
     "metadata": {},
     "output_type": "execute_result"
    }
   ],
   "source": [
    "# Здесь ваш код\n",
    "df = pd.read_csv('22.6 vehicles_dataset_prepared.csv')\n",
    "df_prepared = df.copy()\n",
    "df_prepared = df_prepared.drop(['price','odometer/price_std'], axis = 1)\n",
    "x = df_prepared.drop(['price_category'],axis=1)\n",
    "y = df_prepared.price_category\n",
    "x_train, x_test, y_train, y_test = train_test_split(x,y,test_size=0.3,random_state=42)\n",
    "clf = DecisionTreeClassifier()\n",
    "clf.fit(x_train,y_train)\n",
    "predicted_test = clf.predict(x_test)\n",
    "print(accuracy_score(y_test,predicted_test))\n",
    "confusion_matrix(y_test,predicted_test)"
   ]
  },
  {
   "cell_type": "code",
   "execution_count": 7,
   "metadata": {},
   "outputs": [
    {
     "data": {
      "text/plain": [
       "price_category\n",
       "high      997\n",
       "low       953\n",
       "medium    936\n",
       "Name: count, dtype: int64"
      ]
     },
     "execution_count": 7,
     "metadata": {},
     "output_type": "execute_result"
    }
   ],
   "source": [
    "y_test.value_counts()"
   ]
  },
  {
   "cell_type": "markdown",
   "metadata": {
    "id": "6kyN5BTeA24q"
   },
   "source": [
    "2. *Random_state в дереве решений*\n",
    "\n",
    "Попробуйте 10 раз обучить `clf = DecisionTreeClassifier()` на одних и тех же данных и замерьте значение точности. Покажите, что точность изменяется от прогона к прогону. \n",
    "\n",
    "Попробуйте сделать такой же эксперимент, но добавьте входной параметр random_state равным какому то числу, например `clf2 = DecisionTreeClassifier(random_state=42)`. Теперь повторите эксперимент. Меняется ли точность на тестовой выборке от прогона к прогону?"
   ]
  },
  {
   "cell_type": "code",
   "execution_count": 9,
   "metadata": {
    "id": "9a_0dQIEDScN"
   },
   "outputs": [
    {
     "name": "stdout",
     "output_type": "stream",
     "text": [
      "0.6791406791406791\n",
      "0.674982674982675\n",
      "0.6725571725571725\n",
      "0.6697851697851698\n",
      "0.6687456687456688\n",
      "0.6694386694386695\n",
      "0.6729036729036729\n",
      "0.6704781704781705\n",
      "0.6735966735966736\n",
      "0.6715176715176715\n"
     ]
    }
   ],
   "source": [
    "# Ваш код для 1 эксперимента\n",
    "clf.fit(x_train,y_train)\n",
    "predicted_test = clf.predict(x_test)\n",
    "print(accuracy_score(y_test,predicted_test))\n",
    "\n",
    "clf.fit(x_train,y_train)\n",
    "predicted_test = clf.predict(x_test)\n",
    "print(accuracy_score(y_test,predicted_test))\n",
    "\n",
    "clf.fit(x_train,y_train)\n",
    "predicted_test = clf.predict(x_test)\n",
    "print(accuracy_score(y_test,predicted_test))\n",
    "\n",
    "clf.fit(x_train,y_train)\n",
    "predicted_test = clf.predict(x_test)\n",
    "print(accuracy_score(y_test,predicted_test))\n",
    "\n",
    "clf.fit(x_train,y_train)\n",
    "predicted_test = clf.predict(x_test)\n",
    "print(accuracy_score(y_test,predicted_test))\n",
    "\n",
    "clf.fit(x_train,y_train)\n",
    "predicted_test = clf.predict(x_test)\n",
    "print(accuracy_score(y_test,predicted_test))\n",
    "\n",
    "clf.fit(x_train,y_train)\n",
    "predicted_test = clf.predict(x_test)\n",
    "print(accuracy_score(y_test,predicted_test))\n",
    "\n",
    "clf.fit(x_train,y_train)\n",
    "predicted_test = clf.predict(x_test)\n",
    "print(accuracy_score(y_test,predicted_test))\n",
    "\n",
    "clf.fit(x_train,y_train)\n",
    "predicted_test = clf.predict(x_test)\n",
    "print(accuracy_score(y_test,predicted_test))\n",
    "\n",
    "clf.fit(x_train,y_train)\n",
    "predicted_test = clf.predict(x_test)\n",
    "print(accuracy_score(y_test,predicted_test))"
   ]
  },
  {
   "cell_type": "code",
   "execution_count": 10,
   "metadata": {
    "id": "BknnQdBIDUpO"
   },
   "outputs": [
    {
     "name": "stdout",
     "output_type": "stream",
     "text": [
      "0.6715176715176715\n",
      "0.6715176715176715\n",
      "0.6715176715176715\n",
      "0.6715176715176715\n",
      "0.6715176715176715\n",
      "0.6715176715176715\n",
      "0.6715176715176715\n",
      "0.6715176715176715\n",
      "0.6715176715176715\n",
      "0.6715176715176715\n"
     ]
    }
   ],
   "source": [
    "# Ваш код для 2 эксперимента\n",
    "\n",
    "clf2 = DecisionTreeClassifier(random_state=42)\n",
    "\n",
    "clf2.fit(x_train,y_train)\n",
    "predicted_test = clf.predict(x_test)\n",
    "print(accuracy_score(y_test,predicted_test))\n",
    "\n",
    "clf2.fit(x_train,y_train)\n",
    "predicted_test = clf.predict(x_test)\n",
    "print(accuracy_score(y_test,predicted_test))\n",
    "\n",
    "clf2.fit(x_train,y_train)\n",
    "predicted_test = clf.predict(x_test)\n",
    "print(accuracy_score(y_test,predicted_test))\n",
    "\n",
    "clf2.fit(x_train,y_train)\n",
    "predicted_test = clf.predict(x_test)\n",
    "print(accuracy_score(y_test,predicted_test))\n",
    "\n",
    "clf2.fit(x_train,y_train)\n",
    "predicted_test = clf.predict(x_test)\n",
    "print(accuracy_score(y_test,predicted_test))\n",
    "\n",
    "clf2.fit(x_train,y_train)\n",
    "predicted_test = clf.predict(x_test)\n",
    "print(accuracy_score(y_test,predicted_test))\n",
    "\n",
    "clf2.fit(x_train,y_train)\n",
    "predicted_test = clf.predict(x_test)\n",
    "print(accuracy_score(y_test,predicted_test))\n",
    "\n",
    "clf2.fit(x_train,y_train)\n",
    "predicted_test = clf.predict(x_test)\n",
    "print(accuracy_score(y_test,predicted_test))\n",
    "\n",
    "clf2.fit(x_train,y_train)\n",
    "predicted_test = clf.predict(x_test)\n",
    "print(accuracy_score(y_test,predicted_test))\n",
    "\n",
    "clf2.fit(x_train,y_train)\n",
    "predicted_test = clf.predict(x_test)\n",
    "print(accuracy_score(y_test,predicted_test))"
   ]
  },
  {
   "cell_type": "markdown",
   "metadata": {
    "id": "kX9kuY50DFd7"
   },
   "source": [
    "Узнайте, за что отвечает параметр random_state.\n",
    "\n",
    "https://scikit-learn.org/stable/modules/generated/sklearn.tree.DecisionTreeClassifier.html\n"
   ]
  },
  {
   "cell_type": "markdown",
   "metadata": {
    "id": "4o8VkxGHGYSy"
   },
   "source": [
    "Так же, как и при делении выборки на треин и тест, в объявлении дерева решении `random_state` позволяет вам обеспечить \"воспроизводимость\" результатов. `Random_state` - это семя генератора случайных чисел, которое используется для выбора фичей во время поиска фичи для наилучшего разделения в узле. \n",
    "\n",
    "Алгоритм работает таким образом, что выбирает n фичей случайным образом, из которых затем выбирает лучшую фичу для разделения. Чтобы зафиксировать множество фичей, которые выбираются случайным образом во время обучения, нужно установить параметр `random_state` равным какому-то числу. "
   ]
  },
  {
   "cell_type": "markdown",
   "metadata": {
    "id": "3j34pyw-E_NZ"
   },
   "source": [
    "## Дополнительные задачи"
   ]
  },
  {
   "cell_type": "markdown",
   "metadata": {
    "id": "FCKY74jEDNCq"
   },
   "source": [
    "\n",
    "\n",
    "\n",
    "\n",
    "Рассчитайте feature_importances для обученной модели. Удалите все фичи с нулевым весом из тренировочного и тестового датасетов, и заново обучите модель. Проверьте, что качество модели не ухудшилось. \n",
    "\n",
    "Затем заново рассчитайте feature_importances и визулизируйте важность первых 20 фичей с помощью горизонтального bar plot."
   ]
  },
  {
   "cell_type": "code",
   "execution_count": 13,
   "metadata": {
    "id": "MKw4CigRny9e"
   },
   "outputs": [],
   "source": [
    "import matplotlib.pyplot as plt\n",
    "import numpy as np"
   ]
  },
  {
   "cell_type": "code",
   "execution_count": 5,
   "metadata": {
    "id": "xyKn7PE4FgrM"
   },
   "outputs": [],
   "source": [
    "# Здесь ваш код\n",
    "clf.feature_importances_\n",
    "important_features=list(zip(x_train.columns,clf.feature_importances_))\n",
    "important_features\n",
    "important_features.sort(key=lambda x:x[1],reverse=True)"
   ]
  },
  {
   "cell_type": "code",
   "execution_count": 6,
   "metadata": {},
   "outputs": [],
   "source": [
    "new_list = []\n",
    "for kek in range(len(important_features)):\n",
    "    if important_features[kek][1] == 0:\n",
    "        new_list.append(f'{important_features[kek][0]}')"
   ]
  },
  {
   "cell_type": "code",
   "execution_count": 7,
   "metadata": {},
   "outputs": [],
   "source": [
    "df_prepared = df_prepared.drop(new_list,axis=1)\n"
   ]
  },
  {
   "cell_type": "code",
   "execution_count": 8,
   "metadata": {
    "id": "HkrIBVlOmCmo"
   },
   "outputs": [
    {
     "data": {
      "text/plain": [
       "Index(['id', 'price_category', 'is_ford', 'is_chevrolet', 'is_toyota',\n",
       "       'x0_diesel', 'x0_electric', 'x0_gas', 'x0_hybrid', 'x0_other',\n",
       "       ...\n",
       "       'lat_std', 'long_std', 'year_std', 'desc_len_std', 'model_in_desc_std',\n",
       "       'model_len_std', 'model_word_count_std', 'month_std', 'dayofweek_std',\n",
       "       'diff_years_std'],\n",
       "      dtype='object', length=362)"
      ]
     },
     "execution_count": 8,
     "metadata": {},
     "output_type": "execute_result"
    }
   ],
   "source": [
    "df_prepared.columns\n",
    "\n",
    "\n",
    "\n",
    "\n"
   ]
  },
  {
   "cell_type": "code",
   "execution_count": 4,
   "metadata": {},
   "outputs": [
    {
     "name": "stdout",
     "output_type": "stream",
     "text": [
      "0.6791406791406791\n"
     ]
    },
    {
     "data": {
      "text/plain": [
       "array([[751,  50, 196],\n",
       "       [ 46, 682, 225],\n",
       "       [186, 223, 527]], dtype=int64)"
      ]
     },
     "execution_count": 4,
     "metadata": {},
     "output_type": "execute_result"
    }
   ],
   "source": [
    "x = df_prepared.drop(['price_category'],axis=1)\n",
    "y = df_prepared.price_category\n",
    "x_train, x_test, y_train, y_test = train_test_split(x,y,test_size=0.3,random_state=42)\n",
    "clf = DecisionTreeClassifier()\n",
    "clf.fit(x_train,y_train)\n",
    "predicted_test = clf.predict(x_test)\n",
    "print(accuracy_score(y_test,predicted_test))\n",
    "confusion_matrix(y_test,predicted_test)"
   ]
  },
  {
   "cell_type": "code",
   "execution_count": 5,
   "metadata": {},
   "outputs": [],
   "source": [
    "clf.feature_importances_\n",
    "important_features=list(zip(x_train.columns,clf.feature_importances_))\n",
    "important_features.sort(key=lambda x:x[1],reverse=True)\n",
    "new_features = important_features[:20]"
   ]
  },
  {
   "cell_type": "code",
   "execution_count": 6,
   "metadata": {},
   "outputs": [],
   "source": [
    "new_features1 = {k:v for k,v in new_features}"
   ]
  },
  {
   "cell_type": "code",
   "execution_count": 22,
   "metadata": {},
   "outputs": [],
   "source": [
    "df23=pd.DataFrame(new_features1,index=[0])"
   ]
  },
  {
   "cell_type": "code",
   "execution_count": 23,
   "metadata": {},
   "outputs": [
    {
     "data": {
      "text/html": [
       "<div>\n",
       "<style scoped>\n",
       "    .dataframe tbody tr th:only-of-type {\n",
       "        vertical-align: middle;\n",
       "    }\n",
       "\n",
       "    .dataframe tbody tr th {\n",
       "        vertical-align: top;\n",
       "    }\n",
       "\n",
       "    .dataframe thead th {\n",
       "        text-align: right;\n",
       "    }\n",
       "</style>\n",
       "<table border=\"1\" class=\"dataframe\">\n",
       "  <thead>\n",
       "    <tr style=\"text-align: right;\">\n",
       "      <th></th>\n",
       "      <th>year_std</th>\n",
       "      <th>model_len_std</th>\n",
       "      <th>std_scaled_odometer</th>\n",
       "      <th>desc_len_std</th>\n",
       "      <th>lat_std</th>\n",
       "      <th>long_std</th>\n",
       "      <th>id</th>\n",
       "      <th>x0_diesel</th>\n",
       "      <th>dayofweek_std</th>\n",
       "      <th>diff_years_std</th>\n",
       "      <th>manufacturer_kia</th>\n",
       "      <th>short_model_wrangler</th>\n",
       "      <th>manufacturer_ram</th>\n",
       "      <th>model_in_desc_std</th>\n",
       "      <th>short_model_f-150</th>\n",
       "      <th>manufacturer_chevrolet</th>\n",
       "      <th>manufacturer_hyundai</th>\n",
       "      <th>short_model_silverado</th>\n",
       "      <th>manufacturer_gmc</th>\n",
       "      <th>short_model_Scion</th>\n",
       "    </tr>\n",
       "  </thead>\n",
       "  <tbody>\n",
       "    <tr>\n",
       "      <th>0</th>\n",
       "      <td>0.230829</td>\n",
       "      <td>0.0777</td>\n",
       "      <td>0.077584</td>\n",
       "      <td>0.070081</td>\n",
       "      <td>0.044012</td>\n",
       "      <td>0.041005</td>\n",
       "      <td>0.033591</td>\n",
       "      <td>0.033098</td>\n",
       "      <td>0.015448</td>\n",
       "      <td>0.011046</td>\n",
       "      <td>0.009832</td>\n",
       "      <td>0.009258</td>\n",
       "      <td>0.008979</td>\n",
       "      <td>0.006866</td>\n",
       "      <td>0.005968</td>\n",
       "      <td>0.00568</td>\n",
       "      <td>0.005664</td>\n",
       "      <td>0.005649</td>\n",
       "      <td>0.00488</td>\n",
       "      <td>0.004866</td>\n",
       "    </tr>\n",
       "  </tbody>\n",
       "</table>\n",
       "</div>"
      ],
      "text/plain": [
       "   year_std  model_len_std  std_scaled_odometer  desc_len_std   lat_std  \\\n",
       "0  0.230829         0.0777             0.077584      0.070081  0.044012   \n",
       "\n",
       "   long_std        id  x0_diesel  dayofweek_std  diff_years_std  \\\n",
       "0  0.041005  0.033591   0.033098       0.015448        0.011046   \n",
       "\n",
       "   manufacturer_kia  short_model_wrangler  manufacturer_ram  \\\n",
       "0          0.009832              0.009258          0.008979   \n",
       "\n",
       "   model_in_desc_std  short_model_f-150  manufacturer_chevrolet  \\\n",
       "0           0.006866           0.005968                 0.00568   \n",
       "\n",
       "   manufacturer_hyundai  short_model_silverado  manufacturer_gmc  \\\n",
       "0              0.005664               0.005649           0.00488   \n",
       "\n",
       "   short_model_Scion  \n",
       "0           0.004866  "
      ]
     },
     "execution_count": 23,
     "metadata": {},
     "output_type": "execute_result"
    }
   ],
   "source": [
    "df23"
   ]
  },
  {
   "cell_type": "code",
   "execution_count": 16,
   "metadata": {},
   "outputs": [
    {
     "ename": "TypeError",
     "evalue": "only size-1 arrays can be converted to Python scalars",
     "output_type": "error",
     "traceback": [
      "\u001b[1;31m---------------------------------------------------------------------------\u001b[0m",
      "\u001b[1;31mTypeError\u001b[0m                                 Traceback (most recent call last)",
      "Cell \u001b[1;32mIn[16], line 2\u001b[0m\n\u001b[0;32m      1\u001b[0m fig,ax \u001b[38;5;241m=\u001b[39m plt\u001b[38;5;241m.\u001b[39msubplots()\n\u001b[1;32m----> 2\u001b[0m ax\u001b[38;5;241m.\u001b[39mbar(df23\u001b[38;5;241m.\u001b[39mcolumns, df23\u001b[38;5;241m.\u001b[39mvalues)\n",
      "File \u001b[1;32mC:\\anaconda3\\Lib\\site-packages\\matplotlib\\__init__.py:1446\u001b[0m, in \u001b[0;36m_preprocess_data.<locals>.inner\u001b[1;34m(ax, data, *args, **kwargs)\u001b[0m\n\u001b[0;32m   1443\u001b[0m \u001b[38;5;129m@functools\u001b[39m\u001b[38;5;241m.\u001b[39mwraps(func)\n\u001b[0;32m   1444\u001b[0m \u001b[38;5;28;01mdef\u001b[39;00m \u001b[38;5;21minner\u001b[39m(ax, \u001b[38;5;241m*\u001b[39margs, data\u001b[38;5;241m=\u001b[39m\u001b[38;5;28;01mNone\u001b[39;00m, \u001b[38;5;241m*\u001b[39m\u001b[38;5;241m*\u001b[39mkwargs):\n\u001b[0;32m   1445\u001b[0m     \u001b[38;5;28;01mif\u001b[39;00m data \u001b[38;5;129;01mis\u001b[39;00m \u001b[38;5;28;01mNone\u001b[39;00m:\n\u001b[1;32m-> 1446\u001b[0m         \u001b[38;5;28;01mreturn\u001b[39;00m func(ax, \u001b[38;5;241m*\u001b[39m\u001b[38;5;28mmap\u001b[39m(sanitize_sequence, args), \u001b[38;5;241m*\u001b[39m\u001b[38;5;241m*\u001b[39mkwargs)\n\u001b[0;32m   1448\u001b[0m     bound \u001b[38;5;241m=\u001b[39m new_sig\u001b[38;5;241m.\u001b[39mbind(ax, \u001b[38;5;241m*\u001b[39margs, \u001b[38;5;241m*\u001b[39m\u001b[38;5;241m*\u001b[39mkwargs)\n\u001b[0;32m   1449\u001b[0m     auto_label \u001b[38;5;241m=\u001b[39m (bound\u001b[38;5;241m.\u001b[39marguments\u001b[38;5;241m.\u001b[39mget(label_namer)\n\u001b[0;32m   1450\u001b[0m                   \u001b[38;5;129;01mor\u001b[39;00m bound\u001b[38;5;241m.\u001b[39mkwargs\u001b[38;5;241m.\u001b[39mget(label_namer))\n",
      "File \u001b[1;32mC:\\anaconda3\\Lib\\site-packages\\matplotlib\\axes\\_axes.py:2472\u001b[0m, in \u001b[0;36mAxes.bar\u001b[1;34m(self, x, height, width, bottom, align, **kwargs)\u001b[0m\n\u001b[0;32m   2469\u001b[0m args \u001b[38;5;241m=\u001b[39m \u001b[38;5;28mzip\u001b[39m(left, bottom, width, height, color, edgecolor, linewidth,\n\u001b[0;32m   2470\u001b[0m            hatch, patch_labels)\n\u001b[0;32m   2471\u001b[0m \u001b[38;5;28;01mfor\u001b[39;00m l, b, w, h, c, e, lw, htch, lbl \u001b[38;5;129;01min\u001b[39;00m args:\n\u001b[1;32m-> 2472\u001b[0m     r \u001b[38;5;241m=\u001b[39m mpatches\u001b[38;5;241m.\u001b[39mRectangle(\n\u001b[0;32m   2473\u001b[0m         xy\u001b[38;5;241m=\u001b[39m(l, b), width\u001b[38;5;241m=\u001b[39mw, height\u001b[38;5;241m=\u001b[39mh,\n\u001b[0;32m   2474\u001b[0m         facecolor\u001b[38;5;241m=\u001b[39mc,\n\u001b[0;32m   2475\u001b[0m         edgecolor\u001b[38;5;241m=\u001b[39me,\n\u001b[0;32m   2476\u001b[0m         linewidth\u001b[38;5;241m=\u001b[39mlw,\n\u001b[0;32m   2477\u001b[0m         label\u001b[38;5;241m=\u001b[39mlbl,\n\u001b[0;32m   2478\u001b[0m         hatch\u001b[38;5;241m=\u001b[39mhtch,\n\u001b[0;32m   2479\u001b[0m         )\n\u001b[0;32m   2480\u001b[0m     r\u001b[38;5;241m.\u001b[39m_internal_update(kwargs)\n\u001b[0;32m   2481\u001b[0m     r\u001b[38;5;241m.\u001b[39mget_path()\u001b[38;5;241m.\u001b[39m_interpolation_steps \u001b[38;5;241m=\u001b[39m \u001b[38;5;241m100\u001b[39m\n",
      "File \u001b[1;32mC:\\anaconda3\\Lib\\site-packages\\matplotlib\\_api\\deprecation.py:454\u001b[0m, in \u001b[0;36mmake_keyword_only.<locals>.wrapper\u001b[1;34m(*args, **kwargs)\u001b[0m\n\u001b[0;32m    448\u001b[0m \u001b[38;5;28;01mif\u001b[39;00m \u001b[38;5;28mlen\u001b[39m(args) \u001b[38;5;241m>\u001b[39m name_idx:\n\u001b[0;32m    449\u001b[0m     warn_deprecated(\n\u001b[0;32m    450\u001b[0m         since, message\u001b[38;5;241m=\u001b[39m\u001b[38;5;124m\"\u001b[39m\u001b[38;5;124mPassing the \u001b[39m\u001b[38;5;132;01m%(name)s\u001b[39;00m\u001b[38;5;124m \u001b[39m\u001b[38;5;132;01m%(obj_type)s\u001b[39;00m\u001b[38;5;124m \u001b[39m\u001b[38;5;124m\"\u001b[39m\n\u001b[0;32m    451\u001b[0m         \u001b[38;5;124m\"\u001b[39m\u001b[38;5;124mpositionally is deprecated since Matplotlib \u001b[39m\u001b[38;5;132;01m%(since)s\u001b[39;00m\u001b[38;5;124m; the \u001b[39m\u001b[38;5;124m\"\u001b[39m\n\u001b[0;32m    452\u001b[0m         \u001b[38;5;124m\"\u001b[39m\u001b[38;5;124mparameter will become keyword-only \u001b[39m\u001b[38;5;132;01m%(removal)s\u001b[39;00m\u001b[38;5;124m.\u001b[39m\u001b[38;5;124m\"\u001b[39m,\n\u001b[0;32m    453\u001b[0m         name\u001b[38;5;241m=\u001b[39mname, obj_type\u001b[38;5;241m=\u001b[39m\u001b[38;5;124mf\u001b[39m\u001b[38;5;124m\"\u001b[39m\u001b[38;5;124mparameter of \u001b[39m\u001b[38;5;132;01m{\u001b[39;00mfunc\u001b[38;5;241m.\u001b[39m\u001b[38;5;18m__name__\u001b[39m\u001b[38;5;132;01m}\u001b[39;00m\u001b[38;5;124m()\u001b[39m\u001b[38;5;124m\"\u001b[39m)\n\u001b[1;32m--> 454\u001b[0m \u001b[38;5;28;01mreturn\u001b[39;00m func(\u001b[38;5;241m*\u001b[39margs, \u001b[38;5;241m*\u001b[39m\u001b[38;5;241m*\u001b[39mkwargs)\n",
      "File \u001b[1;32mC:\\anaconda3\\Lib\\site-packages\\matplotlib\\patches.py:714\u001b[0m, in \u001b[0;36mRectangle.__init__\u001b[1;34m(self, xy, width, height, angle, rotation_point, **kwargs)\u001b[0m\n\u001b[0;32m    689\u001b[0m \u001b[38;5;129m@_docstring\u001b[39m\u001b[38;5;241m.\u001b[39mdedent_interpd\n\u001b[0;32m    690\u001b[0m \u001b[38;5;129m@_api\u001b[39m\u001b[38;5;241m.\u001b[39mmake_keyword_only(\u001b[38;5;124m\"\u001b[39m\u001b[38;5;124m3.6\u001b[39m\u001b[38;5;124m\"\u001b[39m, name\u001b[38;5;241m=\u001b[39m\u001b[38;5;124m\"\u001b[39m\u001b[38;5;124mangle\u001b[39m\u001b[38;5;124m\"\u001b[39m)\n\u001b[0;32m    691\u001b[0m \u001b[38;5;28;01mdef\u001b[39;00m \u001b[38;5;21m__init__\u001b[39m(\u001b[38;5;28mself\u001b[39m, xy, width, height, angle\u001b[38;5;241m=\u001b[39m\u001b[38;5;241m0.0\u001b[39m, \u001b[38;5;241m*\u001b[39m,\n\u001b[0;32m    692\u001b[0m              rotation_point\u001b[38;5;241m=\u001b[39m\u001b[38;5;124m'\u001b[39m\u001b[38;5;124mxy\u001b[39m\u001b[38;5;124m'\u001b[39m, \u001b[38;5;241m*\u001b[39m\u001b[38;5;241m*\u001b[39mkwargs):\n\u001b[0;32m    693\u001b[0m \u001b[38;5;250m    \u001b[39m\u001b[38;5;124;03m\"\"\"\u001b[39;00m\n\u001b[0;32m    694\u001b[0m \u001b[38;5;124;03m    Parameters\u001b[39;00m\n\u001b[0;32m    695\u001b[0m \u001b[38;5;124;03m    ----------\u001b[39;00m\n\u001b[1;32m   (...)\u001b[0m\n\u001b[0;32m    712\u001b[0m \u001b[38;5;124;03m        %(Patch:kwdoc)s\u001b[39;00m\n\u001b[0;32m    713\u001b[0m \u001b[38;5;124;03m    \"\"\"\u001b[39;00m\n\u001b[1;32m--> 714\u001b[0m     \u001b[38;5;28msuper\u001b[39m()\u001b[38;5;241m.\u001b[39m\u001b[38;5;21m__init__\u001b[39m(\u001b[38;5;241m*\u001b[39m\u001b[38;5;241m*\u001b[39mkwargs)\n\u001b[0;32m    715\u001b[0m     \u001b[38;5;28mself\u001b[39m\u001b[38;5;241m.\u001b[39m_x0 \u001b[38;5;241m=\u001b[39m xy[\u001b[38;5;241m0\u001b[39m]\n\u001b[0;32m    716\u001b[0m     \u001b[38;5;28mself\u001b[39m\u001b[38;5;241m.\u001b[39m_y0 \u001b[38;5;241m=\u001b[39m xy[\u001b[38;5;241m1\u001b[39m]\n",
      "File \u001b[1;32mC:\\anaconda3\\Lib\\site-packages\\matplotlib\\_api\\deprecation.py:454\u001b[0m, in \u001b[0;36mmake_keyword_only.<locals>.wrapper\u001b[1;34m(*args, **kwargs)\u001b[0m\n\u001b[0;32m    448\u001b[0m \u001b[38;5;28;01mif\u001b[39;00m \u001b[38;5;28mlen\u001b[39m(args) \u001b[38;5;241m>\u001b[39m name_idx:\n\u001b[0;32m    449\u001b[0m     warn_deprecated(\n\u001b[0;32m    450\u001b[0m         since, message\u001b[38;5;241m=\u001b[39m\u001b[38;5;124m\"\u001b[39m\u001b[38;5;124mPassing the \u001b[39m\u001b[38;5;132;01m%(name)s\u001b[39;00m\u001b[38;5;124m \u001b[39m\u001b[38;5;132;01m%(obj_type)s\u001b[39;00m\u001b[38;5;124m \u001b[39m\u001b[38;5;124m\"\u001b[39m\n\u001b[0;32m    451\u001b[0m         \u001b[38;5;124m\"\u001b[39m\u001b[38;5;124mpositionally is deprecated since Matplotlib \u001b[39m\u001b[38;5;132;01m%(since)s\u001b[39;00m\u001b[38;5;124m; the \u001b[39m\u001b[38;5;124m\"\u001b[39m\n\u001b[0;32m    452\u001b[0m         \u001b[38;5;124m\"\u001b[39m\u001b[38;5;124mparameter will become keyword-only \u001b[39m\u001b[38;5;132;01m%(removal)s\u001b[39;00m\u001b[38;5;124m.\u001b[39m\u001b[38;5;124m\"\u001b[39m,\n\u001b[0;32m    453\u001b[0m         name\u001b[38;5;241m=\u001b[39mname, obj_type\u001b[38;5;241m=\u001b[39m\u001b[38;5;124mf\u001b[39m\u001b[38;5;124m\"\u001b[39m\u001b[38;5;124mparameter of \u001b[39m\u001b[38;5;132;01m{\u001b[39;00mfunc\u001b[38;5;241m.\u001b[39m\u001b[38;5;18m__name__\u001b[39m\u001b[38;5;132;01m}\u001b[39;00m\u001b[38;5;124m()\u001b[39m\u001b[38;5;124m\"\u001b[39m)\n\u001b[1;32m--> 454\u001b[0m \u001b[38;5;28;01mreturn\u001b[39;00m func(\u001b[38;5;241m*\u001b[39margs, \u001b[38;5;241m*\u001b[39m\u001b[38;5;241m*\u001b[39mkwargs)\n",
      "File \u001b[1;32mC:\\anaconda3\\Lib\\site-packages\\matplotlib\\patches.py:93\u001b[0m, in \u001b[0;36mPatch.__init__\u001b[1;34m(self, edgecolor, facecolor, color, linewidth, linestyle, antialiased, hatch, fill, capstyle, joinstyle, **kwargs)\u001b[0m\n\u001b[0;32m     91\u001b[0m \u001b[38;5;28mself\u001b[39m\u001b[38;5;241m.\u001b[39mset_fill(fill)\n\u001b[0;32m     92\u001b[0m \u001b[38;5;28mself\u001b[39m\u001b[38;5;241m.\u001b[39mset_linestyle(linestyle)\n\u001b[1;32m---> 93\u001b[0m \u001b[38;5;28mself\u001b[39m\u001b[38;5;241m.\u001b[39mset_linewidth(linewidth)\n\u001b[0;32m     94\u001b[0m \u001b[38;5;28mself\u001b[39m\u001b[38;5;241m.\u001b[39mset_antialiased(antialiased)\n\u001b[0;32m     95\u001b[0m \u001b[38;5;28mself\u001b[39m\u001b[38;5;241m.\u001b[39mset_hatch(hatch)\n",
      "File \u001b[1;32mC:\\anaconda3\\Lib\\site-packages\\matplotlib\\patches.py:394\u001b[0m, in \u001b[0;36mPatch.set_linewidth\u001b[1;34m(self, w)\u001b[0m\n\u001b[0;32m    392\u001b[0m \u001b[38;5;28;01mif\u001b[39;00m w \u001b[38;5;129;01mis\u001b[39;00m \u001b[38;5;28;01mNone\u001b[39;00m:\n\u001b[0;32m    393\u001b[0m     w \u001b[38;5;241m=\u001b[39m mpl\u001b[38;5;241m.\u001b[39mrcParams[\u001b[38;5;124m'\u001b[39m\u001b[38;5;124mpatch.linewidth\u001b[39m\u001b[38;5;124m'\u001b[39m]\n\u001b[1;32m--> 394\u001b[0m \u001b[38;5;28mself\u001b[39m\u001b[38;5;241m.\u001b[39m_linewidth \u001b[38;5;241m=\u001b[39m \u001b[38;5;28mfloat\u001b[39m(w)\n\u001b[0;32m    395\u001b[0m \u001b[38;5;28mself\u001b[39m\u001b[38;5;241m.\u001b[39m_dash_pattern \u001b[38;5;241m=\u001b[39m mlines\u001b[38;5;241m.\u001b[39m_scale_dashes(\n\u001b[0;32m    396\u001b[0m     \u001b[38;5;241m*\u001b[39m\u001b[38;5;28mself\u001b[39m\u001b[38;5;241m.\u001b[39m_unscaled_dash_pattern, w)\n\u001b[0;32m    397\u001b[0m \u001b[38;5;28mself\u001b[39m\u001b[38;5;241m.\u001b[39mstale \u001b[38;5;241m=\u001b[39m \u001b[38;5;28;01mTrue\u001b[39;00m\n",
      "\u001b[1;31mTypeError\u001b[0m: only size-1 arrays can be converted to Python scalars"
     ]
    },
    {
     "data": {
      "image/png": "[encoded data removed]",
      "text/plain": [
       "<Figure size 640x480 with 1 Axes>"
      ]
     },
     "metadata": {},
     "output_type": "display_data"
    }
   ],
   "source": [
    "fig,ax = plt.subplots()\n",
    "ax.bar(df23.columns, df23.values)"
   ]
  },
  {
   "cell_type": "code",
   "execution_count": null,
   "metadata": {
    "id": "3CcmNJ9IyJ8I"
   },
   "outputs": [],
   "source": [
    "# Решение 1\n",
    "df = pd.read_csv('vehicles_dataset_prepared.csv')\n",
    "\n",
    "df_prepared = df.copy()\n",
    "df_prepared = df_prepared.drop(['price', 'odometer/price_std'], axis=1)"
   ]
  },
  {
   "cell_type": "code",
   "execution_count": null,
   "metadata": {
    "id": "sI8w-gDZzOvq"
   },
   "outputs": [],
   "source": [
    "x = df_prepared.drop(['price_category'], axis=1)\n",
    "y = df_prepared['price_category']"
   ]
  },
  {
   "cell_type": "code",
   "execution_count": null,
   "metadata": {
    "id": "NQIDnI8YA_ff"
   },
   "outputs": [],
   "source": [
    "x_train, x_test, y_train, y_test = train_test_split(x, y, test_size=0.3, random_state=42)"
   ]
  },
  {
   "cell_type": "code",
   "execution_count": null,
   "metadata": {
    "colab": {
     "base_uri": "https://localhost:8080/"
    },
    "executionInfo": {
     "elapsed": 810,
     "status": "ok",
     "timestamp": 1648647032367,
     "user": {
      "displayName": "Yulduz Fattakhova",
      "userId": "14698334089562212742"
     },
     "user_tz": -180
    },
    "id": "jasriFRdA7us",
    "outputId": "f051dd55-2b88-4b07-ce6e-eca2b835df34"
   },
   "outputs": [
    {
     "data": {
      "text/plain": [
       "DecisionTreeClassifier(random_state=42)"
      ]
     },
     "execution_count": 70,
     "metadata": {},
     "output_type": "execute_result"
    }
   ],
   "source": [
    "clf = DecisionTreeClassifier()\n",
    "clf.fit(x_train, y_train)"
   ]
  },
  {
   "cell_type": "code",
   "execution_count": null,
   "metadata": {
    "id": "XltB1un2Bnhx"
   },
   "outputs": [],
   "source": [
    "predicted_train = clf.predict(x_train)\n",
    "predicted_test = clf.predict(x_test)"
   ]
  },
  {
   "cell_type": "code",
   "execution_count": null,
   "metadata": {
    "colab": {
     "base_uri": "https://localhost:8080/"
    },
    "executionInfo": {
     "elapsed": 3,
     "status": "ok",
     "timestamp": 1648647033390,
     "user": {
      "displayName": "Yulduz Fattakhova",
      "userId": "14698334089562212742"
     },
     "user_tz": -180
    },
    "id": "i3mGo8qeBqN4",
    "outputId": "d098b9eb-4dc1-49ef-a193-7fb7efdd8a7b"
   },
   "outputs": [
    {
     "data": {
      "text/plain": [
       "0.6704781704781705"
      ]
     },
     "execution_count": 72,
     "metadata": {},
     "output_type": "execute_result"
    }
   ],
   "source": [
    "accuracy_score(y_test, predicted_test)"
   ]
  },
  {
   "cell_type": "code",
   "execution_count": null,
   "metadata": {
    "colab": {
     "base_uri": "https://localhost:8080/"
    },
    "executionInfo": {
     "elapsed": 220,
     "status": "ok",
     "timestamp": 1648646803508,
     "user": {
      "displayName": "Yulduz Fattakhova",
      "userId": "14698334089562212742"
     },
     "user_tz": -180
    },
    "id": "YzUIGE0nBtJX",
    "outputId": "c13cd00f-15e3-47c3-ba11-cc2204e8e987"
   },
   "outputs": [
    {
     "data": {
      "text/plain": [
       "array([[738,  54, 205],\n",
       "       [ 46, 688, 219],\n",
       "       [198, 229, 509]])"
      ]
     },
     "execution_count": 42,
     "metadata": {},
     "output_type": "execute_result"
    }
   ],
   "source": [
    "confusion_matrix(y_test, predicted_test)"
   ]
  },
  {
   "cell_type": "code",
   "execution_count": null,
   "metadata": {
    "colab": {
     "base_uri": "https://localhost:8080/"
    },
    "executionInfo": {
     "elapsed": 8929,
     "status": "ok",
     "timestamp": 1648647405967,
     "user": {
      "displayName": "Yulduz Fattakhova",
      "userId": "14698334089562212742"
     },
     "user_tz": -180
    },
    "id": "JiTGmRGoCjWF",
    "outputId": "85c5a8d7-e7f1-48ec-99dc-81f104f044d5"
   },
   "outputs": [
    {
     "name": "stdout",
     "output_type": "stream",
     "text": [
      "0.6642411642411642--0.6725571725571725--0.6729036729036729--0.667013167013167--0.6746361746361746--0.6687456687456688--0.6694386694386695--0.6673596673596673--0.6787941787941788--0.6711711711711712--"
     ]
    }
   ],
   "source": [
    "# Решение 2\n",
    "# 1 эксперимент\n",
    "\n",
    "clf = DecisionTreeClassifier()\n",
    "\n",
    "for i in range(10):\n",
    "  clf.fit(x_train, y_train)\n",
    "\n",
    "  predicted_train = clf.predict(x_train)\n",
    "  predicted_test = clf.predict(x_test)\n",
    "\n",
    "  print(accuracy_score(y_test, predicted_test), end ='--')"
   ]
  },
  {
   "cell_type": "code",
   "execution_count": null,
   "metadata": {
    "colab": {
     "base_uri": "https://localhost:8080/"
    },
    "executionInfo": {
     "elapsed": 6779,
     "status": "ok",
     "timestamp": 1648647487541,
     "user": {
      "displayName": "Yulduz Fattakhova",
      "userId": "14698334089562212742"
     },
     "user_tz": -180
    },
    "id": "spskd_DZC0Xr",
    "outputId": "de63c5c1-ece2-4d8a-cf46-5aa0b16744e5"
   },
   "outputs": [
    {
     "name": "stdout",
     "output_type": "stream",
     "text": [
      "0.6704781704781705--0.6704781704781705--0.6704781704781705--0.6704781704781705--0.6704781704781705--0.6704781704781705--0.6704781704781705--0.6704781704781705--0.6704781704781705--0.6704781704781705--"
     ]
    }
   ],
   "source": [
    "# Решение 2\n",
    "# 2 эксперимент\n",
    "\n",
    "clf2 = DecisionTreeClassifier(random_state=42)\n",
    "\n",
    "for i in range(10):\n",
    "  clf2.fit(x_train, y_train)\n",
    "\n",
    "  predicted_train = clf2.predict(x_train)\n",
    "  predicted_test = clf2.predict(x_test)\n",
    "\n",
    "  print(accuracy_score(y_test, predicted_test), end ='--')"
   ]
  }
 ],
 "metadata": {
  "colab": {
   "collapsed_sections": [],
   "name": "Урок 5. Практика.ipynb",
   "provenance": []
  },
  "kernelspec": {
   "display_name": "Python 3 (ipykernel)",
   "language": "python",
   "name": "python3"
  },
  "language_info": {
   "codemirror_mode": {
    "name": "ipython",
    "version": 3
   },
   "file_extension": ".py",
   "mimetype": "text/x-python",
   "name": "python",
   "nbconvert_exporter": "python",
   "pygments_lexer": "ipython3",
   "version": "3.11.5"
  }
 },
 "nbformat": 4,
 "nbformat_minor": 1
}
