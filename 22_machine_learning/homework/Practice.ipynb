{
 "cells": [
  {
   "cell_type": "markdown",
   "metadata": {
    "id": "Ce0YMaG7Q0-o"
   },
   "source": [
    "## Практическая работа"
   ]
  },
  {
   "cell_type": "markdown",
   "metadata": {
    "id": "xkOj0F_FRCJm"
   },
   "source": [
    "В этой практической работе четыре обязательные задачи.\n",
    "\n",
    "*Обязательные задачи* нужно сделать для того, чтобы проверить, что вы действительно усвоили материал модуля. Сдайте их на проверку.\n",
    "\n",
    "Удачи!"
   ]
  },
  {
   "cell_type": "markdown",
   "metadata": {
    "id": "Yt4v4ba7RWA3"
   },
   "source": [
    "Цели практической работы: \n",
    "\n",
    "\n",
    "1.   Потренироваться в обучении моделей деревьев решений.\n",
    "2.   Потренироваться в обучении моделей случайного леса. \n",
    "3.   Научиться оценивать качество моделей с помошью Accuracy и confusion matrix.\n",
    "4.   Научиться увеличивать качество моделей с помощью тюнинга параметров.\n",
    "\n",
    "\n"
   ]
  },
  {
   "cell_type": "markdown",
   "metadata": {
    "id": "nPwfq2fISXIk"
   },
   "source": [
    "Что оценивается:\n",
    "\n",
    "*   Все пункты и критерия приёмки задания выполнены.\n",
    "*   Удаление колонок по результатам feature_importance и определения типов производится с помощью кода, а не перечислением их вручную.\n",
    "\n",
    "\n"
   ]
  },
  {
   "cell_type": "markdown",
   "metadata": {
    "id": "50fXtdd_R7c5"
   },
   "source": [
    "## Обязательные задачи"
   ]
  },
  {
   "cell_type": "markdown",
   "metadata": {
    "id": "iy6tzmQfsqgr"
   },
   "source": [
    "### Описание датасета:\n",
    "- `id`: идентификатор записи;\n",
    "- `is_manufacturer_name`: признак производителя автомобиля;\n",
    "\n",
    "- `region_*`: регион;\n",
    "- `x0_*`: тип топлива;\n",
    "- `manufacturer_*`: производитель;\n",
    "- `short_model_*`: сокращённая модель автомобиля;\n",
    "- `title_status_*`: статус;\n",
    "- `transmission_*`: коробка передач;\n",
    "- `state_*`: штат;\n",
    "- `age_category_*`: возрастная категория автомобиля;\n",
    "\n",
    "- `std_scaled_odometer`: количество пройденных миль (после стандартизации);\n",
    "- `year_std`: год выпуска (после стандартизации);\n",
    "- `lat_std`: широта (после стандартизации);\n",
    "- `long_std`: долгота (после стандартизации);\n",
    "- `odometer/price_std`: отношение стоимости к пробегу автомобиля (после стандартизации);\n",
    "- `desc_len_std`: количество символов в тексте объявления о продаже (после стандартизации);\n",
    "- `model_in_desc_std`: количество наименований модели автомобиля в тексте объявления о продаже (после стандартизации);\n",
    "- `model_len_std`: длина наименования автомобиля (после стандартизации);\n",
    "- `model_word_count_std`: количество слов в наименовании автомобиля (после стандартизации);\n",
    "- `month_std`: номер месяца размещения объявления о продаже автомобиля (после стандартизации);\n",
    "- `dayofweek_std`: день недели размещения объявления о продаже автомобиля (после стандартизации);\n",
    "- `diff_years_std`: количество лет между годом производства автомобиля и годом размещения объявления о продаже автомобиля (после стандартизации);\n",
    "\n",
    "- `price`: стоимость;\n",
    "- `price_category`: категория цены."
   ]
  },
  {
   "cell_type": "markdown",
   "metadata": {
    "id": "rGEsBMqETF2f"
   },
   "source": [
    "0. *Подготовка базовой модели*\n",
    "\n",
    "Обучите простую модель классификации с помощью DecisionTreeClassifier на данных из датасета vehicles_dataset_prepared.csv. Для этого сделайте следующие шаги:\n",
    "\n",
    "1. Обучите модель дерева решений с зафиксированным random_state на тренировочной выборке.\n",
    "2. Сделайте предикт на тестовой выборке.\n",
    "3. Замерьте точность на тестовой выборке и выведите матрицу ошибок. \n",
    "4. Удалите фичи с нулевыми весами по feature_importance из тренировочной и тестовой выборок.\n",
    "5. Заново обучите модель и измерьте качество."
   ]
  },
  {
   "cell_type": "code",
   "execution_count": 4,
   "metadata": {
    "id": "pylwtir8Qzrk"
   },
   "outputs": [],
   "source": [
    "import pandas as pd\n",
    "from sklearn.tree import DecisionTreeClassifier\n",
    "from sklearn.model_selection import train_test_split \n",
    "from sklearn.metrics import accuracy_score, confusion_matrix "
   ]
  },
  {
   "cell_type": "code",
   "execution_count": 56,
   "metadata": {
    "id": "IOdbt33LS4RP"
   },
   "outputs": [],
   "source": [
    "df = pd.read_csv('vehicles_dataset_prepared.csv')\n",
    "\n",
    "df_prepared = df.copy()\n",
    "df_prepared = df_prepared.drop(['price', 'odometer/price_std'], axis=1)\n",
    "\n",
    "x = df_prepared.drop(['price_category'], axis=1)\n",
    "y = df_prepared['price_category']\n",
    "\n",
    "x_train, x_test, y_train, y_test = train_test_split(x, y, test_size=0.3, random_state=42)"
   ]
  },
  {
   "cell_type": "code",
   "execution_count": 6,
   "metadata": {
    "id": "zDdkaaRZgIMN"
   },
   "outputs": [
    {
     "name": "stdout",
     "output_type": "stream",
     "text": [
      "0.6704781704781705\n"
     ]
    },
    {
     "data": {
      "text/plain": [
       "array([[738,  54, 205],\n",
       "       [ 46, 688, 219],\n",
       "       [198, 229, 509]], dtype=int64)"
      ]
     },
     "execution_count": 6,
     "metadata": {},
     "output_type": "execute_result"
    }
   ],
   "source": [
    "# Ваш код здесь \n",
    "clf = DecisionTreeClassifier(random_state=42)\n",
    "clf.fit(x_train,y_train)\n",
    "prediction = clf.predict(x_test)\n",
    "\n",
    "print(accuracy_score(y_test,prediction))\n",
    "confusion_matrix(y_test,prediction)"
   ]
  },
  {
   "cell_type": "code",
   "execution_count": 23,
   "metadata": {
    "scrolled": false
   },
   "outputs": [],
   "source": [
    "feature_important = list(zip(df.columns,clf.feature_importances_))\n",
    "feature_important.sort(key=lambda x:x[1], reverse=True)\n",
    "\n",
    "columns_todel = []\n",
    "for i in range(len(feature_important)):\n",
    "    if feature_important[i][1] == 0.0:\n",
    "        columns_todel.append(feature_important[i][0])\n",
    "        "
   ]
  },
  {
   "cell_type": "code",
   "execution_count": 53,
   "metadata": {
    "scrolled": true
   },
   "outputs": [
    {
     "name": "stdout",
     "output_type": "stream",
     "text": [
      "0.6746361746361746\n"
     ]
    }
   ],
   "source": [
    "df_prepared = df_prepared.drop(columns_todel, axis=1)\n",
    "\n",
    "x = df_prepared.drop(['price_category'], axis=1)\n",
    "y = df_prepared['price_category']\n",
    "\n",
    "x_train, x_test, y_train, y_test = train_test_split(x, y, test_size=0.3, random_state=42)\n",
    "clf.fit(x_train,y_train)\n",
    "prediction = clf.predict(x_test)\n",
    "print(accuracy_score(y_test,prediction))"
   ]
  },
  {
   "cell_type": "markdown",
   "metadata": {
    "id": "SgN87pCNe9Sp"
   },
   "source": [
    "1. *Подготовка модели случайного леса*\n",
    "\n",
    "Обучите простую модель классификации с помощью RandomForestClassifier. Для этого сделайте следующие шаги:\n",
    "1. На новых урезанных семплах тренировочной и тестовой выборок обучите модель случайного леса с зафиксированным random_state=50. \n",
    "\n",
    "2. Сделайте предикт и посчитайте точность модели и матрицу ошибок. Сравните с предыдущей моделью дерева решений. Есть ли случаи, когда модель из пункта 1 отрабатывает лучше, чем модель случайного леса?"
   ]
  },
  {
   "cell_type": "code",
   "execution_count": 38,
   "metadata": {
    "id": "V-8MUDTbfxdS"
   },
   "outputs": [
    {
     "name": "stdout",
     "output_type": "stream",
     "text": [
      "0.7117117117117117\n"
     ]
    },
    {
     "data": {
      "text/plain": [
       "array([[781,  55, 161],\n",
       "       [ 18, 788, 147],\n",
       "       [203, 248, 485]], dtype=int64)"
      ]
     },
     "execution_count": 38,
     "metadata": {},
     "output_type": "execute_result"
    }
   ],
   "source": [
    "# Ваш код здесь \n",
    "from sklearn.ensemble import RandomForestClassifier\n",
    "\n",
    "rf_clf = RandomForestClassifier(random_state=50)\n",
    "rf_clf.fit(x_train,y_train)\n",
    "pred = rf_clf.predict(x_test)\n",
    "\n",
    "print(accuracy_score(y_test,pred))\n",
    "confusion_matrix(y_test,pred)"
   ]
  },
  {
   "cell_type": "code",
   "execution_count": null,
   "metadata": {},
   "outputs": [],
   "source": [
    "# Т.к. модель из 1 пункта прогоняется 1 раз и выдает результат, а модель случайного леса, по умолчанию,\n",
    "# прогоняет на 100 таких моделях и берет тот результат, что встречался чаще всего, то думаю, что модель\n",
    "# случайного леса будет выдавать намного более точные результаты, чем модель из первого пункта."
   ]
  },
  {
   "cell_type": "markdown",
   "metadata": {
    "id": "fwApI_vhkQE6"
   },
   "source": [
    "2. *Тюнинг модели случайного леса*\n",
    "\n",
    "Увеличьте точность модели на тестовом датасете RandomForestClassifier c помощью тюнинга параметров. \n",
    "\n",
    "Параметры, которые можно настраивать для увеличения точности:\n",
    "\n",
    "```\n",
    "    `bootstrap'\n",
    "    'max_depth'\n",
    "    'max_features'\n",
    "    'min_samples_leaf'\n",
    "    'min_samples_split'\n",
    "    'random_state'\n",
    "    'n_estimators'\n",
    "\n",
    "```\n",
    "\n",
    "\n",
    "\n",
    "С описанием каждого из параметров можно ознакомиться в документации:\n",
    "\n",
    "\n",
    "https://scikit-learn.org/stable/modules/generated/sklearn.ensemble.RandomForestClassifier.html\n",
    "\n",
    "Задание засчитывается, если значение метрики строго выше 0,76 на тестовом датасете."
   ]
  },
  {
   "cell_type": "code",
   "execution_count": 54,
   "metadata": {
    "id": "idrArCdef3nr"
   },
   "outputs": [
    {
     "data": {
      "text/plain": [
       "0.7498267498267498"
      ]
     },
     "execution_count": 54,
     "metadata": {},
     "output_type": "execute_result"
    }
   ],
   "source": [
    "# Ваш код здесь \n",
    "rf = RandomForestClassifier(random_state=42)\n",
    "rf.fit(x_train,y_train)\n",
    "accuracy_score(y_test,rf.predict(x_test))"
   ]
  },
  {
   "cell_type": "code",
   "execution_count": 44,
   "metadata": {},
   "outputs": [
    {
     "name": "stdout",
     "output_type": "stream",
     "text": [
      "Fitting 5 folds for each of 90 candidates, totalling 450 fits\n"
     ]
    },
    {
     "data": {
      "text/plain": [
       "{'max_features': 'log2', 'min_samples_leaf': 1, 'n_estimators': 300}"
      ]
     },
     "execution_count": 44,
     "metadata": {},
     "output_type": "execute_result"
    }
   ],
   "source": [
    "param_grid = {'n_estimators': list(range(100,501,100)),\n",
    "              'max_features': ['sqrt','log2'],\n",
    "              'min_samples_leaf': list(range(1,10))}\n",
    "\n",
    "from sklearn.model_selection import GridSearchCV\n",
    "\n",
    "grid_search_rf = GridSearchCV(\n",
    "    estimator = rf, \n",
    "    param_grid=param_grid,\n",
    "    scoring='accuracy',\n",
    "    verbose=1,\n",
    "    n_jobs=-1)\n",
    "\n",
    "grid_search_rf.fit(x_train,y_train)\n",
    "\n",
    "best_params = grid_search_rf.best_params_\n",
    "best_params"
   ]
  },
  {
   "cell_type": "code",
   "execution_count": 57,
   "metadata": {},
   "outputs": [
    {
     "data": {
      "text/plain": [
       "0.7598752598752598"
      ]
     },
     "execution_count": 57,
     "metadata": {},
     "output_type": "execute_result"
    }
   ],
   "source": [
    "rf_tuned = RandomForestClassifier(max_features='log2',min_samples_leaf=1, n_estimators = 300,random_state=42)\n",
    "rf_tuned.fit(x_train,y_train)\n",
    "pred = rf_tuned.predict(x_test)\n",
    "\n",
    "accuracy_score(y_test,pred)"
   ]
  },
  {
   "cell_type": "code",
   "execution_count": null,
   "metadata": {},
   "outputs": [],
   "source": [
    "#Заметил, что чем больше удаляется признаков с нулевым весом, тем меньше точность выходит.\n",
    "#Когда несколько раз убрал признаки, которые не влияли никак, упало до max=71%"
   ]
  },
  {
   "cell_type": "markdown",
   "metadata": {
    "id": "IZaDD5F9h9iu"
   },
   "source": [
    "3. *Анализ влияния фичей на модель*\n",
    "\n",
    "Во всех задачах до вы работали над подготовленным датасетом, где фичи были заранее извлечены из текстовых переменных, отскейлены и пропущены через One Hot Encoder. Сравним, какой была бы предсказательная способность модели, если бы мы использовали только сырые данные из исходного датасета. Для этого проделайте следующие шаги:\n",
    "\n",
    "1. Загрузите датасет `vehicles_dataset_old.csv`.\n",
    "2. Удалите из него переменную `price` и все строковые колонки. Дерево решений и случайный лес не умеют самостоятельно работать со строковыми значениями.\n",
    "3. Сформируйте x_train и x_test так же, как они были сформированы в предыдущих заданиях.\n",
    "4. Обучите свою лучшую модель случайного леса на новых данных и замерьте качество. Убедитесь, что оно ухудшилось.\n",
    "5. Найдите три фичи, которые лучшим образом повлияли на предсказательную способность модели."
   ]
  },
  {
   "cell_type": "code",
   "execution_count": 58,
   "metadata": {
    "colab": {
     "base_uri": "https://localhost:8080/",
     "height": 530
    },
    "id": "ZU1RX06Fh-FM",
    "outputId": "b6e57d99-ced6-453f-b59a-1da6b37d9f67"
   },
   "outputs": [
    {
     "data": {
      "text/html": [
       "<div>\n",
       "<style scoped>\n",
       "    .dataframe tbody tr th:only-of-type {\n",
       "        vertical-align: middle;\n",
       "    }\n",
       "\n",
       "    .dataframe tbody tr th {\n",
       "        vertical-align: top;\n",
       "    }\n",
       "\n",
       "    .dataframe thead th {\n",
       "        text-align: right;\n",
       "    }\n",
       "</style>\n",
       "<table border=\"1\" class=\"dataframe\">\n",
       "  <thead>\n",
       "    <tr style=\"text-align: right;\">\n",
       "      <th></th>\n",
       "      <th>id</th>\n",
       "      <th>url</th>\n",
       "      <th>region</th>\n",
       "      <th>region_url</th>\n",
       "      <th>price</th>\n",
       "      <th>year</th>\n",
       "      <th>manufacturer</th>\n",
       "      <th>model</th>\n",
       "      <th>fuel</th>\n",
       "      <th>odometer</th>\n",
       "      <th>title_status</th>\n",
       "      <th>transmission</th>\n",
       "      <th>image_url</th>\n",
       "      <th>description</th>\n",
       "      <th>state</th>\n",
       "      <th>lat</th>\n",
       "      <th>long</th>\n",
       "      <th>posting_date</th>\n",
       "      <th>price_category</th>\n",
       "      <th>date</th>\n",
       "    </tr>\n",
       "  </thead>\n",
       "  <tbody>\n",
       "    <tr>\n",
       "      <th>0</th>\n",
       "      <td>7308295377</td>\n",
       "      <td>https://chattanooga.craigslist.org/ctd/d/chatt...</td>\n",
       "      <td>chattanooga</td>\n",
       "      <td>https://chattanooga.craigslist.org</td>\n",
       "      <td>54990</td>\n",
       "      <td>2020</td>\n",
       "      <td>ram</td>\n",
       "      <td>2500 crew cab big horn</td>\n",
       "      <td>diesel</td>\n",
       "      <td>27442</td>\n",
       "      <td>clean</td>\n",
       "      <td>other</td>\n",
       "      <td>https://images.craigslist.org/00N0N_1xMPvfxRAI...</td>\n",
       "      <td>Carvana is the safer way to buy a car During t...</td>\n",
       "      <td>tn</td>\n",
       "      <td>35.060000</td>\n",
       "      <td>-85.250000</td>\n",
       "      <td>2021-04-17T12:30:50-0400</td>\n",
       "      <td>high</td>\n",
       "      <td>2021-04-17 16:30:50+00:00</td>\n",
       "    </tr>\n",
       "    <tr>\n",
       "      <th>1</th>\n",
       "      <td>7316380095</td>\n",
       "      <td>https://newjersey.craigslist.org/ctd/d/carlsta...</td>\n",
       "      <td>north jersey</td>\n",
       "      <td>https://newjersey.craigslist.org</td>\n",
       "      <td>16942</td>\n",
       "      <td>2016</td>\n",
       "      <td>ford</td>\n",
       "      <td>explorer 4wd 4dr xlt</td>\n",
       "      <td>other</td>\n",
       "      <td>60023</td>\n",
       "      <td>clean</td>\n",
       "      <td>automatic</td>\n",
       "      <td>https://images.craigslist.org/00x0x_26jl9F0cnL...</td>\n",
       "      <td>***Call Us for more information at: 201-635-14...</td>\n",
       "      <td>nj</td>\n",
       "      <td>40.821805</td>\n",
       "      <td>-74.061962</td>\n",
       "      <td>2021-05-03T15:40:21-0400</td>\n",
       "      <td>medium</td>\n",
       "      <td>2021-05-03 19:40:21+00:00</td>\n",
       "    </tr>\n",
       "    <tr>\n",
       "      <th>2</th>\n",
       "      <td>7313733749</td>\n",
       "      <td>https://reno.craigslist.org/ctd/d/atlanta-2017...</td>\n",
       "      <td>reno / tahoe</td>\n",
       "      <td>https://reno.craigslist.org</td>\n",
       "      <td>35590</td>\n",
       "      <td>2017</td>\n",
       "      <td>volkswagen</td>\n",
       "      <td>golf r hatchback</td>\n",
       "      <td>gas</td>\n",
       "      <td>14048</td>\n",
       "      <td>clean</td>\n",
       "      <td>other</td>\n",
       "      <td>https://images.craigslist.org/00y0y_eeZjWeiSfb...</td>\n",
       "      <td>Carvana is the safer way to buy a car During t...</td>\n",
       "      <td>ca</td>\n",
       "      <td>33.779214</td>\n",
       "      <td>-84.411811</td>\n",
       "      <td>2021-04-28T03:52:20-0700</td>\n",
       "      <td>high</td>\n",
       "      <td>2021-04-28 10:52:20+00:00</td>\n",
       "    </tr>\n",
       "    <tr>\n",
       "      <th>3</th>\n",
       "      <td>7308210929</td>\n",
       "      <td>https://fayetteville.craigslist.org/ctd/d/rale...</td>\n",
       "      <td>fayetteville</td>\n",
       "      <td>https://fayetteville.craigslist.org</td>\n",
       "      <td>14500</td>\n",
       "      <td>2013</td>\n",
       "      <td>toyota</td>\n",
       "      <td>rav4</td>\n",
       "      <td>gas</td>\n",
       "      <td>117291</td>\n",
       "      <td>clean</td>\n",
       "      <td>automatic</td>\n",
       "      <td>https://images.craigslist.org/00606_iGe5iXidib...</td>\n",
       "      <td>2013 Toyota RAV4 XLE 4dr SUV     Offered by: R...</td>\n",
       "      <td>nc</td>\n",
       "      <td>35.715954</td>\n",
       "      <td>-78.655304</td>\n",
       "      <td>2021-04-17T10:08:57-0400</td>\n",
       "      <td>medium</td>\n",
       "      <td>2021-04-17 14:08:57+00:00</td>\n",
       "    </tr>\n",
       "    <tr>\n",
       "      <th>4</th>\n",
       "      <td>7303797340</td>\n",
       "      <td>https://knoxville.craigslist.org/ctd/d/knoxvil...</td>\n",
       "      <td>knoxville</td>\n",
       "      <td>https://knoxville.craigslist.org</td>\n",
       "      <td>14590</td>\n",
       "      <td>2012</td>\n",
       "      <td>bmw</td>\n",
       "      <td>1 series 128i coupe 2d</td>\n",
       "      <td>other</td>\n",
       "      <td>80465</td>\n",
       "      <td>clean</td>\n",
       "      <td>other</td>\n",
       "      <td>https://images.craigslist.org/00F0F_5UAXmOzC18...</td>\n",
       "      <td>Carvana is the safer way to buy a car During t...</td>\n",
       "      <td>tn</td>\n",
       "      <td>35.970000</td>\n",
       "      <td>-83.940000</td>\n",
       "      <td>2021-04-08T15:10:56-0400</td>\n",
       "      <td>medium</td>\n",
       "      <td>2021-04-08 19:10:56+00:00</td>\n",
       "    </tr>\n",
       "  </tbody>\n",
       "</table>\n",
       "</div>"
      ],
      "text/plain": [
       "           id                                                url  \\\n",
       "0  7308295377  https://chattanooga.craigslist.org/ctd/d/chatt...   \n",
       "1  7316380095  https://newjersey.craigslist.org/ctd/d/carlsta...   \n",
       "2  7313733749  https://reno.craigslist.org/ctd/d/atlanta-2017...   \n",
       "3  7308210929  https://fayetteville.craigslist.org/ctd/d/rale...   \n",
       "4  7303797340  https://knoxville.craigslist.org/ctd/d/knoxvil...   \n",
       "\n",
       "         region                           region_url  price  year  \\\n",
       "0   chattanooga   https://chattanooga.craigslist.org  54990  2020   \n",
       "1  north jersey     https://newjersey.craigslist.org  16942  2016   \n",
       "2  reno / tahoe          https://reno.craigslist.org  35590  2017   \n",
       "3  fayetteville  https://fayetteville.craigslist.org  14500  2013   \n",
       "4     knoxville     https://knoxville.craigslist.org  14590  2012   \n",
       "\n",
       "  manufacturer                   model    fuel  odometer title_status  \\\n",
       "0          ram  2500 crew cab big horn  diesel     27442        clean   \n",
       "1         ford    explorer 4wd 4dr xlt   other     60023        clean   \n",
       "2   volkswagen        golf r hatchback     gas     14048        clean   \n",
       "3       toyota                    rav4     gas    117291        clean   \n",
       "4          bmw  1 series 128i coupe 2d   other     80465        clean   \n",
       "\n",
       "  transmission                                          image_url  \\\n",
       "0        other  https://images.craigslist.org/00N0N_1xMPvfxRAI...   \n",
       "1    automatic  https://images.craigslist.org/00x0x_26jl9F0cnL...   \n",
       "2        other  https://images.craigslist.org/00y0y_eeZjWeiSfb...   \n",
       "3    automatic  https://images.craigslist.org/00606_iGe5iXidib...   \n",
       "4        other  https://images.craigslist.org/00F0F_5UAXmOzC18...   \n",
       "\n",
       "                                         description state        lat  \\\n",
       "0  Carvana is the safer way to buy a car During t...    tn  35.060000   \n",
       "1  ***Call Us for more information at: 201-635-14...    nj  40.821805   \n",
       "2  Carvana is the safer way to buy a car During t...    ca  33.779214   \n",
       "3  2013 Toyota RAV4 XLE 4dr SUV     Offered by: R...    nc  35.715954   \n",
       "4  Carvana is the safer way to buy a car During t...    tn  35.970000   \n",
       "\n",
       "        long              posting_date price_category  \\\n",
       "0 -85.250000  2021-04-17T12:30:50-0400           high   \n",
       "1 -74.061962  2021-05-03T15:40:21-0400         medium   \n",
       "2 -84.411811  2021-04-28T03:52:20-0700           high   \n",
       "3 -78.655304  2021-04-17T10:08:57-0400         medium   \n",
       "4 -83.940000  2021-04-08T15:10:56-0400         medium   \n",
       "\n",
       "                        date  \n",
       "0  2021-04-17 16:30:50+00:00  \n",
       "1  2021-05-03 19:40:21+00:00  \n",
       "2  2021-04-28 10:52:20+00:00  \n",
       "3  2021-04-17 14:08:57+00:00  \n",
       "4  2021-04-08 19:10:56+00:00  "
      ]
     },
     "execution_count": 58,
     "metadata": {},
     "output_type": "execute_result"
    }
   ],
   "source": [
    "df_old = pd.read_csv('vehicles_dataset_old.csv')\n",
    "df_old.head()"
   ]
  },
  {
   "cell_type": "code",
   "execution_count": 63,
   "metadata": {
    "id": "zfvSGcFlqi-j"
   },
   "outputs": [
    {
     "name": "stdout",
     "output_type": "stream",
     "text": [
      "<class 'pandas.core.frame.DataFrame'>\n",
      "RangeIndex: 9619 entries, 0 to 9618\n",
      "Data columns (total 20 columns):\n",
      " #   Column          Non-Null Count  Dtype  \n",
      "---  ------          --------------  -----  \n",
      " 0   id              9619 non-null   int64  \n",
      " 1   url             9619 non-null   object \n",
      " 2   region          9619 non-null   object \n",
      " 3   region_url      9619 non-null   object \n",
      " 4   price           9619 non-null   int64  \n",
      " 5   year            9619 non-null   int64  \n",
      " 6   manufacturer    9619 non-null   object \n",
      " 7   model           9619 non-null   object \n",
      " 8   fuel            9619 non-null   object \n",
      " 9   odometer        9619 non-null   int64  \n",
      " 10  title_status    9619 non-null   object \n",
      " 11  transmission    9619 non-null   object \n",
      " 12  image_url       9619 non-null   object \n",
      " 13  description     9619 non-null   object \n",
      " 14  state           9619 non-null   object \n",
      " 15  lat             9619 non-null   float64\n",
      " 16  long            9619 non-null   float64\n",
      " 17  posting_date    9619 non-null   object \n",
      " 18  price_category  9619 non-null   object \n",
      " 19  date            9619 non-null   object \n",
      "dtypes: float64(2), int64(4), object(14)\n",
      "memory usage: 1.5+ MB\n"
     ]
    }
   ],
   "source": [
    "# Ваш код здесь \n",
    "df_old.info()"
   ]
  },
  {
   "cell_type": "code",
   "execution_count": 65,
   "metadata": {},
   "outputs": [],
   "source": [
    "df_old=df_old.drop(['price','url','region','region_url','manufacturer','model','fuel','title_status','transmission','image_url','description','state','posting_date','date'],axis=1)"
   ]
  },
  {
   "cell_type": "code",
   "execution_count": 69,
   "metadata": {},
   "outputs": [
    {
     "data": {
      "text/plain": [
       "0.632016632016632"
      ]
     },
     "execution_count": 69,
     "metadata": {},
     "output_type": "execute_result"
    }
   ],
   "source": [
    "x = df_old.drop('price_category', axis = 1)\n",
    "y = df_old.price_category\n",
    "x_train,x_test,y_train,y_test = train_test_split(x, y, test_size=0.3, random_state=42)\n",
    "\n",
    "rf_clf1 = RandomForestClassifier(random_state=50)\n",
    "rf_clf1.fit(x_train,y_train)\n",
    "pred1=rf_clf1.predict(x_test)\n",
    "accuracy_score(y_test,pred1)"
   ]
  },
  {
   "cell_type": "code",
   "execution_count": 76,
   "metadata": {},
   "outputs": [
    {
     "data": {
      "text/plain": [
       "[('odometer', 0.2743102372831494),\n",
       " ('year', 0.22787278801196084),\n",
       " ('id', 0.16856597058238404)]"
      ]
     },
     "execution_count": 76,
     "metadata": {},
     "output_type": "execute_result"
    }
   ],
   "source": [
    "old_features_imp = list(zip(df_old.columns,rf_clf1.feature_importances_))\n",
    "old_features_imp.sort(key=lambda x:x[1],reverse=True)\n",
    "old_features_imp = old_features_imp[0:3]\n",
    "old_features_imp"
   ]
  },
  {
   "cell_type": "code",
   "execution_count": null,
   "metadata": {},
   "outputs": [],
   "source": []
  }
 ],
 "metadata": {
  "colab": {
   "name": "Модуль 22. Практика.ipynb",
   "provenance": []
  },
  "kernelspec": {
   "display_name": "Python 3 (ipykernel)",
   "language": "python",
   "name": "python3"
  },
  "language_info": {
   "codemirror_mode": {
    "name": "ipython",
    "version": 3
   },
   "file_extension": ".py",
   "mimetype": "text/x-python",
   "name": "python",
   "nbconvert_exporter": "python",
   "pygments_lexer": "ipython3",
   "version": "3.11.5"
  }
 },
 "nbformat": 4,
 "nbformat_minor": 1
}
